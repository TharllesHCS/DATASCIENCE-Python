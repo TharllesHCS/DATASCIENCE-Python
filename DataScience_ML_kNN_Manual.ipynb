{
  "nbformat": 4,
  "nbformat_minor": 0,
  "metadata": {
    "colab": {
      "name": "DataScience_ML_kNNManual.ipynb",
      "provenance": [],
      "authorship_tag": "ABX9TyOEb6Q7OwK7cIhAF/+BXZug",
      "include_colab_link": true
    },
    "kernelspec": {
      "name": "python3",
      "display_name": "Python 3"
    }
  },
  "cells": [
    {
      "cell_type": "markdown",
      "metadata": {
        "id": "view-in-github",
        "colab_type": "text"
      },
      "source": [
        "<a href=\"https://colab.research.google.com/github/TharllesHCS/DATASCIENCE-Python/blob/master/DataScience_ML_kNN_Manual.ipynb\" target=\"_parent\"><img src=\"https://colab.research.google.com/assets/colab-badge.svg\" alt=\"Open In Colab\"/></a>"
      ]
    },
    {
      "cell_type": "code",
      "metadata": {
        "id": "EdXb5KPZnqaU",
        "colab_type": "code",
        "colab": {}
      },
      "source": [
        "\"\"\"\n",
        "Implementação do kNN\n",
        "DataSet utilizado: https://archive.ics.uci.edu/ml/datasets/Haberman%27s+Survival\n",
        "\n",
        "\n",
        "\"\"\"\n"
      ],
      "execution_count": 14,
      "outputs": []
    },
    {
      "cell_type": "code",
      "metadata": {
        "id": "BebU3OfroJO0",
        "colab_type": "code",
        "colab": {
          "base_uri": "https://localhost:8080/",
          "height": 34
        },
        "outputId": "21add27a-4eca-40bc-ad02-ce8011d5951b"
      },
      "source": [
        "amostras=[]\n",
        "with open('haberman.data', 'r') as f:\n",
        "  for linha in f.readlines():\n",
        "    atrib = linha.replace('\\n','').split(',')\n",
        "    amostras.append([int(atrib[0]), int(atrib[1]),int(atrib[2]),int(atrib[3])])\n",
        "len(amostras)"
      ],
      "execution_count": 17,
      "outputs": [
        {
          "output_type": "execute_result",
          "data": {
            "text/plain": [
              "306"
            ]
          },
          "metadata": {
            "tags": []
          },
          "execution_count": 17
        }
      ]
    },
    {
      "cell_type": "code",
      "metadata": {
        "id": "ZOELLOYtowQn",
        "colab_type": "code",
        "colab": {}
      },
      "source": [
        "def info_dataset(amostras, verbose = True):\n",
        "  if verbose: \n",
        "    print('Total de amoststras: {}'.format(len(amostras)))\n",
        "  rotulo1, rotulo2 =0,0\n",
        "  for amostra in amostras:\n",
        "    if amostra[-1] == 1:\n",
        "      rotulo1+=1\n",
        "    else:\n",
        "      rotulo2+=1\n",
        "  if verbose:\n",
        "    print('Total rotulo 1 (pessoas que viveram): {}'.format(rotulo1))\n",
        "    print('Total rotulo 2(pessoas que morreram): {}'.format(rotulo2))\n",
        "  return [len(amostras), rotulo1, rotulo2]\n",
        "## função retona se a ultima coluna tem valor 1 ou 2 "
      ],
      "execution_count": 20,
      "outputs": []
    },
    {
      "cell_type": "code",
      "metadata": {
        "id": "epoS9M_otegj",
        "colab_type": "code",
        "colab": {
          "base_uri": "https://localhost:8080/",
          "height": 86
        },
        "outputId": "c9b023e7-3712-41e5-95e4-332e72fc3481"
      },
      "source": [
        "info_dataset(amostras)"
      ],
      "execution_count": 21,
      "outputs": [
        {
          "output_type": "stream",
          "text": [
            "Total de amoststras: 306\n",
            "Total rotulo 1 (pessoas que viveram): 225\n",
            "Total rotulo 2(pessoas que morreram): 81\n"
          ],
          "name": "stdout"
        },
        {
          "output_type": "execute_result",
          "data": {
            "text/plain": [
              "[306, 225, 81]"
            ]
          },
          "metadata": {
            "tags": []
          },
          "execution_count": 21
        }
      ]
    },
    {
      "cell_type": "code",
      "metadata": {
        "id": "-2RgcY8XxFAX",
        "colab_type": "code",
        "colab": {}
      },
      "source": [
        "p = 0.6\n",
        "_, rotulo1,rotulo2 = info_dataset(amostras, verbose=False)"
      ],
      "execution_count": 24,
      "outputs": []
    },
    {
      "cell_type": "code",
      "metadata": {
        "id": "FdBuBrV4xWFl",
        "colab_type": "code",
        "colab": {}
      },
      "source": [
        "\"\"\"\n",
        "Nesse bloco, iremos pegar 60% do dataset de maneira igualitaria, onde pegaremos 60% dos sobreviventos e dos mortos, de maneira simetrica, não pegando apenas 60 do dataset completo, dividimos nas 2 categorias \n",
        "depois nos retiramos o total numerico que cada classificação possui, e em cima disso realizamos um for, que vai até os 60% do data-set definidos pelas 2 classes\n",
        "\n",
        "feito isso, alocamos esse valor dentro de max_rotulo1:2 , que e o valor inteiro da quantidade (60%) de valores que desejamos como teste\n",
        "\n",
        "\n",
        "\"\"\"\n",
        "treinamento, teste = [],[]\n",
        "max_rotulo1, max_rotulo2 = int(p*rotulo1), int(p*rotulo2)\n",
        "total_rotulo1,total_rotulo2 =0,0\n",
        "for amostra in amostras:\n",
        "   if (total_rotulo1 + total_rotulo2) < (max_rotulo1 + max_rotulo2):\n",
        "     treinamento.append(amostra)\n",
        "     if amostra[-1] == 1 and total_rotulo1 < max_rotulo1:\n",
        "       total_rotulo1 +=1\n",
        "     else:\n",
        "       total_rotulo2 +=1\n",
        "   else:\n",
        "      teste.append(amostra)\n",
        "\n",
        "## algoritmo pode ser melhorado, entretanto ta ok, da pra-se filtar o data-set em 2 partes usando 2 ifs, onde ele pega os 60% total do sobrevivente e aloca em um data-set, depois o outro pega os dos falecidos e aloca em outro dataset\n",
        "## usando Numpy, da pra juntar os 2 dataset e depois embaralha-los para que os dados não fiquem sequenciais e atrapalhe no processamento do kNN"
      ],
      "execution_count": 28,
      "outputs": []
    },
    {
      "cell_type": "code",
      "metadata": {
        "id": "PJ4c9DTMxvtK",
        "colab_type": "code",
        "colab": {}
      },
      "source": [
        "\"\"\"\n",
        "Esse bloco se resume em realizar o calculo euclidiano, ele traz a formatação da formula raiz(somatorio(v2[i] - v1[i])^2)\n",
        "\n",
        "\"\"\"\n",
        "\n",
        "import math\n",
        "def dist_euclidiana(v1,v2):\n",
        "  dim,soma = len(v1),0\n",
        "  for i in range(dim - 1):\n",
        "    soma+= math.pow(v1[i]-v2[i],2)  ## função pow realiza raiz quadrada\n",
        "  return math.sqrt(soma)\n",
        "\n"
      ],
      "execution_count": 33,
      "outputs": []
    },
    {
      "cell_type": "code",
      "metadata": {
        "id": "2R1zA2aL2Dx4",
        "colab_type": "code",
        "colab": {
          "base_uri": "https://localhost:8080/",
          "height": 34
        },
        "outputId": "639775f0-6749-4bf3-ee86-82cd4d518d62"
      },
      "source": [
        "v1 = [1 , 2, 3]\n",
        "v2 = [ 2,1,3]\n",
        "dist_euclidiana(v1,v2)"
      ],
      "execution_count": 35,
      "outputs": [
        {
          "output_type": "execute_result",
          "data": {
            "text/plain": [
              "1.4142135623730951"
            ]
          },
          "metadata": {
            "tags": []
          },
          "execution_count": 35
        }
      ]
    },
    {
      "cell_type": "code",
      "metadata": {
        "id": "doT6P2gn4bER",
        "colab_type": "code",
        "colab": {}
      },
      "source": [
        "def knn(treinamento,nova_amostra,k):\n",
        "  dists,tam_treino= {},len(treinamento)\n",
        "  #calcula adiistancia euclidiana da nova amostra \n",
        "  # para os outros exemplos de conjunto de treinamento\n",
        "  for i in range(tam_treino):\n",
        "    d = dist_euclidiana(treinamento[i], nova_amostra)\n",
        "    dists[i] =d\n",
        "\n",
        "    #obtem as chaves (indices) dos k-vizinhos mais proximos\n",
        "\n",
        "    k_vizinhos  = sorted(dists, key= dists.get)[:k]\n",
        "\n",
        "    #ovatao majoritaria\n",
        "    qtd_rotulo1, qtd_rotulo2 =0,0\n",
        "    for indice in k_vizinhos:\n",
        "      if treinamento[indice][-1] == 1:\n",
        "        qtd_rotulo1 +=1\n",
        "      else:\n",
        "        qtd_rotulo2 +=1\n",
        "    if qtd_rotulo1 > qtd_rotulo2:\n",
        "      return 1\n",
        "    else:\n",
        "      return 2\n"
      ],
      "execution_count": 46,
      "outputs": []
    },
    {
      "cell_type": "code",
      "metadata": {
        "id": "vON_Cg1h6kOf",
        "colab_type": "code",
        "colab": {
          "base_uri": "https://localhost:8080/",
          "height": 86
        },
        "outputId": "9db32382-48bb-4f14-b76c-cff5fa1680a3"
      },
      "source": [
        "acertos,k=0,15\n",
        "for amostra in teste:\n",
        "  classe = knn(treinamento, amostra, k)\n",
        "  if amostra[-1] == classe:\n",
        "    acertos+=1\n",
        "print('total de treinamento {}'.format(len(teste)))\n",
        "print('total de testes {}'. format(len(teste)))\n",
        "print('total de acertos {}'.format(acertos))\n",
        "print('porcentagem de acertos {:2.4}%'.format(100 *acertos/len(teste)))"
      ],
      "execution_count": 61,
      "outputs": [
        {
          "output_type": "stream",
          "text": [
            "total de treinamento 123\n",
            "total de testes 123\n",
            "total de acertos 93\n",
            "porcentagem de acertos 75.61%\n"
          ],
          "name": "stdout"
        }
      ]
    }
  ]
}