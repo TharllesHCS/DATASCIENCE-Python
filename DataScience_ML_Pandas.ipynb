{
  "nbformat": 4,
  "nbformat_minor": 0,
  "metadata": {
    "colab": {
      "name": "DataScience_ML_Pandas.ipynb",
      "provenance": [],
      "authorship_tag": "ABX9TyMLGJxRhkhaJ9jAOX/4nq8/",
      "include_colab_link": true
    },
    "kernelspec": {
      "name": "python3",
      "display_name": "Python 3"
    }
  },
  "cells": [
    {
      "cell_type": "markdown",
      "metadata": {
        "id": "view-in-github",
        "colab_type": "text"
      },
      "source": [
        "<a href=\"https://colab.research.google.com/github/TharllesHCS/DATASCIENCE-Python/blob/master/DataScience_ML_Pandas.ipynb\" target=\"_parent\"><img src=\"https://colab.research.google.com/assets/colab-badge.svg\" alt=\"Open In Colab\"/></a>"
      ]
    },
    {
      "cell_type": "code",
      "metadata": {
        "id": "X81K9b5XMzFQ",
        "colab_type": "code",
        "colab": {}
      },
      "source": [
        "\"\"\"\n",
        "\n",
        "Esse notbook possui conteudo exclusivo de Pandas que usado é no mundo de Machine Learn\n",
        "\n",
        "\"\"\"\n",
        "import pandas as pd\n",
        "import numpy as np"
      ],
      "execution_count": null,
      "outputs": []
    },
    {
      "cell_type": "code",
      "metadata": {
        "id": "6FOMWmJQNH4I",
        "colab_type": "code",
        "colab": {
          "base_uri": "https://localhost:8080/",
          "height": 1000
        },
        "outputId": "0877b020-ad53-4c30-8dd0-506bd36c9861"
      },
      "source": [
        "s =pd.Series([1,4,5,6,7,10,6])\n",
        "print(\"Aqui e a primeira lista usando pandas: \\n {}\".format(s))\n",
        "m = pd.Series([[2,3],[4,5],[5,6]])\n",
        "print(\"\\nAqui e a primeira matriz usando pandas: \\n {}\\n\\n\".format(m))\n",
        "\n",
        "\n",
        "print(\"\\n\\nAquie mostra-se o valor da posição 0:\\n{}\".format(s[0]))\n",
        "print(\"\\n\\nAquie mostra-se o valor de 2 a 3:\\n{}\".format(s[2:4]))\n",
        "print(\"\\n\\nAquie mostra-se a descrição da lista (ou matriz) :\\n{}\".format(s.describe()))\n",
        "print(\"\\n\\nAquie mostra-se o valor da media :\\n{}\".format(s.mean()))\n",
        "print(\"\\n\\nAquie mostra-se o valor da mediana :\\n{}\".format(s.median()))\n",
        "\n",
        "print(\"\\n\\nAquie mostra-se se a valor duplicado :\\n{}\".format(s.duplicated()))\n",
        "\n",
        "\n",
        "s2 = pd.Series([11,5,8])\n",
        "print(\"\\n\\nAquie junta-se a lista 1 e a 2 :\\n{}\".format(s.append(s2)))\n",
        "\n",
        "\n"
      ],
      "execution_count": null,
      "outputs": [
        {
          "output_type": "stream",
          "text": [
            "Aqui e a primeira lista usando pandas: \n",
            " 0     1\n",
            "1     4\n",
            "2     5\n",
            "3     6\n",
            "4     7\n",
            "5    10\n",
            "6     6\n",
            "dtype: int64\n",
            "\n",
            "Aqui e a primeira matriz usando pandas: \n",
            " 0    [2, 3]\n",
            "1    [4, 5]\n",
            "2    [5, 6]\n",
            "dtype: object\n",
            "\n",
            "\n",
            "\n",
            "\n",
            "Aquie mostra-se o valor da posição 0:\n",
            "1\n",
            "\n",
            "\n",
            "Aquie mostra-se o valor de 2 a 3:\n",
            "2    5\n",
            "3    6\n",
            "dtype: int64\n",
            "\n",
            "\n",
            "Aquie mostra-se a descrição da lista (ou matriz) :\n",
            "count     7.000000\n",
            "mean      5.571429\n",
            "std       2.760262\n",
            "min       1.000000\n",
            "25%       4.500000\n",
            "50%       6.000000\n",
            "75%       6.500000\n",
            "max      10.000000\n",
            "dtype: float64\n",
            "\n",
            "\n",
            "Aquie mostra-se o valor da media :\n",
            "5.571428571428571\n",
            "\n",
            "\n",
            "Aquie mostra-se o valor da mediana :\n",
            "6.0\n",
            "\n",
            "\n",
            "Aquie mostra-se se a valor duplicado :\n",
            "0    False\n",
            "1    False\n",
            "2    False\n",
            "3    False\n",
            "4    False\n",
            "5    False\n",
            "6     True\n",
            "dtype: bool\n",
            "\n",
            "\n",
            "Aquie junta-se a lista 1 e a 2 :\n",
            "0     1\n",
            "1     4\n",
            "2     5\n",
            "3     6\n",
            "4     7\n",
            "5    10\n",
            "6     6\n",
            "0    11\n",
            "1     5\n",
            "2     8\n",
            "dtype: int64\n"
          ],
          "name": "stdout"
        }
      ]
    },
    {
      "cell_type": "code",
      "metadata": {
        "id": "IbWdW8URPahT",
        "colab_type": "code",
        "colab": {
          "base_uri": "https://localhost:8080/",
          "height": 34
        },
        "outputId": "3be4534e-759b-4554-c52a-0f328c60cfef"
      },
      "source": [
        "\"\"\"\n",
        "\n",
        "Trabalhando como dataframes no Python \n",
        "Vale lembrar, que dataframe é algo utilizado no R, com a lib pandas\n",
        "foi feito a adaptação pra que possa ser utilizado da mesma forma no\n",
        "python, dataframe nada mais é do que uma matriz ou lista\n",
        "\n",
        "\"\"\"\n",
        "df= pd.DataFrame(\n",
        "    [['fcholle/keras',11302],['openl/universe', 4350],['pandas-dev/pandas',8168]]\n",
        ")\n",
        "\n",
        "df.shape"
      ],
      "execution_count": null,
      "outputs": [
        {
          "output_type": "execute_result",
          "data": {
            "text/plain": [
              "(3, 2)"
            ]
          },
          "metadata": {
            "tags": []
          },
          "execution_count": 21
        }
      ]
    },
    {
      "cell_type": "code",
      "metadata": {
        "id": "5Hsq-VoWQ03S",
        "colab_type": "code",
        "colab": {
          "base_uri": "https://localhost:8080/",
          "height": 142
        },
        "outputId": "d85d43d6-a250-44c7-d0a0-b3d892ad9e20"
      },
      "source": [
        "df"
      ],
      "execution_count": null,
      "outputs": [
        {
          "output_type": "execute_result",
          "data": {
            "text/html": [
              "<div>\n",
              "<style scoped>\n",
              "    .dataframe tbody tr th:only-of-type {\n",
              "        vertical-align: middle;\n",
              "    }\n",
              "\n",
              "    .dataframe tbody tr th {\n",
              "        vertical-align: top;\n",
              "    }\n",
              "\n",
              "    .dataframe thead th {\n",
              "        text-align: right;\n",
              "    }\n",
              "</style>\n",
              "<table border=\"1\" class=\"dataframe\">\n",
              "  <thead>\n",
              "    <tr style=\"text-align: right;\">\n",
              "      <th></th>\n",
              "      <th>0</th>\n",
              "      <th>1</th>\n",
              "    </tr>\n",
              "  </thead>\n",
              "  <tbody>\n",
              "    <tr>\n",
              "      <th>0</th>\n",
              "      <td>fcholle/keras</td>\n",
              "      <td>11302</td>\n",
              "    </tr>\n",
              "    <tr>\n",
              "      <th>1</th>\n",
              "      <td>openl/universe</td>\n",
              "      <td>4350</td>\n",
              "    </tr>\n",
              "    <tr>\n",
              "      <th>2</th>\n",
              "      <td>pandas-dev/pandas</td>\n",
              "      <td>8168</td>\n",
              "    </tr>\n",
              "  </tbody>\n",
              "</table>\n",
              "</div>"
            ],
            "text/plain": [
              "                   0      1\n",
              "0      fcholle/keras  11302\n",
              "1     openl/universe   4350\n",
              "2  pandas-dev/pandas   8168"
            ]
          },
          "metadata": {
            "tags": []
          },
          "execution_count": 22
        }
      ]
    },
    {
      "cell_type": "code",
      "metadata": {
        "id": "i-5jCYGKQ1dB",
        "colab_type": "code",
        "colab": {
          "base_uri": "https://localhost:8080/",
          "height": 142
        },
        "outputId": "6e428259-c34c-490e-b1f1-f46142789639"
      },
      "source": [
        "df= pd.DataFrame(\n",
        "    [['fcholle/keras',11302],['openl/universe', 4350],['pandas-dev/pandas',8168]],\n",
        "    columns=['repository','stars']\n",
        "\n",
        ")\n",
        "df"
      ],
      "execution_count": null,
      "outputs": [
        {
          "output_type": "execute_result",
          "data": {
            "text/html": [
              "<div>\n",
              "<style scoped>\n",
              "    .dataframe tbody tr th:only-of-type {\n",
              "        vertical-align: middle;\n",
              "    }\n",
              "\n",
              "    .dataframe tbody tr th {\n",
              "        vertical-align: top;\n",
              "    }\n",
              "\n",
              "    .dataframe thead th {\n",
              "        text-align: right;\n",
              "    }\n",
              "</style>\n",
              "<table border=\"1\" class=\"dataframe\">\n",
              "  <thead>\n",
              "    <tr style=\"text-align: right;\">\n",
              "      <th></th>\n",
              "      <th>repository</th>\n",
              "      <th>stars</th>\n",
              "    </tr>\n",
              "  </thead>\n",
              "  <tbody>\n",
              "    <tr>\n",
              "      <th>0</th>\n",
              "      <td>fcholle/keras</td>\n",
              "      <td>11302</td>\n",
              "    </tr>\n",
              "    <tr>\n",
              "      <th>1</th>\n",
              "      <td>openl/universe</td>\n",
              "      <td>4350</td>\n",
              "    </tr>\n",
              "    <tr>\n",
              "      <th>2</th>\n",
              "      <td>pandas-dev/pandas</td>\n",
              "      <td>8168</td>\n",
              "    </tr>\n",
              "  </tbody>\n",
              "</table>\n",
              "</div>"
            ],
            "text/plain": [
              "          repository  stars\n",
              "0      fcholle/keras  11302\n",
              "1     openl/universe   4350\n",
              "2  pandas-dev/pandas   8168"
            ]
          },
          "metadata": {
            "tags": []
          },
          "execution_count": 24
        }
      ]
    },
    {
      "cell_type": "code",
      "metadata": {
        "id": "1K7_PRBCRHuK",
        "colab_type": "code",
        "colab": {
          "base_uri": "https://localhost:8080/",
          "height": 85
        },
        "outputId": "c507f0ed-d85f-460d-8f5e-78e641f82fae"
      },
      "source": [
        "df['stars']"
      ],
      "execution_count": null,
      "outputs": [
        {
          "output_type": "execute_result",
          "data": {
            "text/plain": [
              "0    11302\n",
              "1     4350\n",
              "2     8168\n",
              "Name: stars, dtype: int64"
            ]
          },
          "metadata": {
            "tags": []
          },
          "execution_count": 30
        }
      ]
    },
    {
      "cell_type": "code",
      "metadata": {
        "id": "5i4OaT3uRVWT",
        "colab_type": "code",
        "colab": {
          "base_uri": "https://localhost:8080/",
          "height": 85
        },
        "outputId": "8fa33c1c-7a68-4635-8fb2-8615a32db952"
      },
      "source": [
        "df['repository']"
      ],
      "execution_count": null,
      "outputs": [
        {
          "output_type": "execute_result",
          "data": {
            "text/plain": [
              "0        fcholle/keras\n",
              "1       openl/universe\n",
              "2    pandas-dev/pandas\n",
              "Name: repository, dtype: object"
            ]
          },
          "metadata": {
            "tags": []
          },
          "execution_count": 32
        }
      ]
    },
    {
      "cell_type": "code",
      "metadata": {
        "id": "zEUs5ilhRYqX",
        "colab_type": "code",
        "colab": {
          "base_uri": "https://localhost:8080/",
          "height": 34
        },
        "outputId": "65bda7e9-27d8-4b83-f4f0-49215fb8f5b2"
      },
      "source": [
        "df['stars'].mean()\n",
        "## Media da coluna Stars"
      ],
      "execution_count": null,
      "outputs": [
        {
          "output_type": "execute_result",
          "data": {
            "text/plain": [
              "7940.0"
            ]
          },
          "metadata": {
            "tags": []
          },
          "execution_count": 36
        }
      ]
    },
    {
      "cell_type": "code",
      "metadata": {
        "id": "V0kmmr9oRg1V",
        "colab_type": "code",
        "colab": {
          "base_uri": "https://localhost:8080/",
          "height": 34
        },
        "outputId": "5e2b7eff-4806-4ea3-eb87-de4d10709f05"
      },
      "source": [
        "df['stars'].median()\n",
        "#mediana da coluna stars"
      ],
      "execution_count": null,
      "outputs": [
        {
          "output_type": "execute_result",
          "data": {
            "text/plain": [
              "8168.0"
            ]
          },
          "metadata": {
            "tags": []
          },
          "execution_count": 37
        }
      ]
    },
    {
      "cell_type": "code",
      "metadata": {
        "id": "m-0FmuBoRr9x",
        "colab_type": "code",
        "colab": {
          "base_uri": "https://localhost:8080/",
          "height": 68
        },
        "outputId": "eb98b113-14d9-4068-cd68-1d9e20b7d397"
      },
      "source": [
        "df.iloc[1]\n",
        "# iloc traz uma linha travada junto de suas colunas, devolvendo um dataframe\n",
        "# que pode acessar as colunas atraves de seus indices\n",
        "# df.iloc[1]['stars]\n",
        "\n",
        "# df.ix[1]\n",
        "# Retorna o indice do data frame, que pode ser tanto numero quanto str\n",
        "# o indice pode ser alterado, com: df.index = df['Sigla']\n",
        "# no exemplo acima, a coluna index é ajustada ao conteudo de sigla,\n",
        "# tornando necessário deletar a coluna sigla por causa da duplicação da coluna\n",
        "# index e sigla, com: del df['sigla']\n",
        "# iloc retonra posição"
      ],
      "execution_count": null,
      "outputs": [
        {
          "output_type": "execute_result",
          "data": {
            "text/plain": [
              "repository    openl/universe\n",
              "stars                   4350\n",
              "Name: 1, dtype: object"
            ]
          },
          "metadata": {
            "tags": []
          },
          "execution_count": 43
        }
      ]
    },
    {
      "cell_type": "code",
      "metadata": {
        "id": "Lt8h4esxRvt0",
        "colab_type": "code",
        "colab": {
          "base_uri": "https://localhost:8080/",
          "height": 204
        },
        "outputId": "81802192-0922-4048-8b56-c81b7498c79d"
      },
      "source": [
        "## pydataset.data()\n",
        "## retorna um conjunto de datasets para brincar, rsrs\n",
        "#!pip install pydataset - windows\n",
        "#!get install pydata - linux\n",
        "import pydataset as pydata\n",
        "\n",
        "pydata.data()\n",
        "\n",
        "titanic = pydata.data('titanic')\n",
        "\n",
        "titanic.head()\n"
      ],
      "execution_count": null,
      "outputs": [
        {
          "output_type": "execute_result",
          "data": {
            "text/html": [
              "<div>\n",
              "<style scoped>\n",
              "    .dataframe tbody tr th:only-of-type {\n",
              "        vertical-align: middle;\n",
              "    }\n",
              "\n",
              "    .dataframe tbody tr th {\n",
              "        vertical-align: top;\n",
              "    }\n",
              "\n",
              "    .dataframe thead th {\n",
              "        text-align: right;\n",
              "    }\n",
              "</style>\n",
              "<table border=\"1\" class=\"dataframe\">\n",
              "  <thead>\n",
              "    <tr style=\"text-align: right;\">\n",
              "      <th></th>\n",
              "      <th>class</th>\n",
              "      <th>age</th>\n",
              "      <th>sex</th>\n",
              "      <th>survived</th>\n",
              "    </tr>\n",
              "  </thead>\n",
              "  <tbody>\n",
              "    <tr>\n",
              "      <th>1</th>\n",
              "      <td>1st class</td>\n",
              "      <td>adults</td>\n",
              "      <td>man</td>\n",
              "      <td>yes</td>\n",
              "    </tr>\n",
              "    <tr>\n",
              "      <th>2</th>\n",
              "      <td>1st class</td>\n",
              "      <td>adults</td>\n",
              "      <td>man</td>\n",
              "      <td>yes</td>\n",
              "    </tr>\n",
              "    <tr>\n",
              "      <th>3</th>\n",
              "      <td>1st class</td>\n",
              "      <td>adults</td>\n",
              "      <td>man</td>\n",
              "      <td>yes</td>\n",
              "    </tr>\n",
              "    <tr>\n",
              "      <th>4</th>\n",
              "      <td>1st class</td>\n",
              "      <td>adults</td>\n",
              "      <td>man</td>\n",
              "      <td>yes</td>\n",
              "    </tr>\n",
              "    <tr>\n",
              "      <th>5</th>\n",
              "      <td>1st class</td>\n",
              "      <td>adults</td>\n",
              "      <td>man</td>\n",
              "      <td>yes</td>\n",
              "    </tr>\n",
              "  </tbody>\n",
              "</table>\n",
              "</div>"
            ],
            "text/plain": [
              "       class     age  sex survived\n",
              "1  1st class  adults  man      yes\n",
              "2  1st class  adults  man      yes\n",
              "3  1st class  adults  man      yes\n",
              "4  1st class  adults  man      yes\n",
              "5  1st class  adults  man      yes"
            ]
          },
          "metadata": {
            "tags": []
          },
          "execution_count": 51
        }
      ]
    },
    {
      "cell_type": "code",
      "metadata": {
        "id": "GzC4jQe-XC1n",
        "colab_type": "code",
        "colab": {
          "base_uri": "https://localhost:8080/",
          "height": 204
        },
        "outputId": "c5a8d66f-3323-441c-a39a-aafc0e871d1a"
      },
      "source": [
        "titanic.tail()"
      ],
      "execution_count": null,
      "outputs": [
        {
          "output_type": "execute_result",
          "data": {
            "text/html": [
              "<div>\n",
              "<style scoped>\n",
              "    .dataframe tbody tr th:only-of-type {\n",
              "        vertical-align: middle;\n",
              "    }\n",
              "\n",
              "    .dataframe tbody tr th {\n",
              "        vertical-align: top;\n",
              "    }\n",
              "\n",
              "    .dataframe thead th {\n",
              "        text-align: right;\n",
              "    }\n",
              "</style>\n",
              "<table border=\"1\" class=\"dataframe\">\n",
              "  <thead>\n",
              "    <tr style=\"text-align: right;\">\n",
              "      <th></th>\n",
              "      <th>class</th>\n",
              "      <th>age</th>\n",
              "      <th>sex</th>\n",
              "      <th>survived</th>\n",
              "    </tr>\n",
              "  </thead>\n",
              "  <tbody>\n",
              "    <tr>\n",
              "      <th>1312</th>\n",
              "      <td>3rd class</td>\n",
              "      <td>child</td>\n",
              "      <td>women</td>\n",
              "      <td>no</td>\n",
              "    </tr>\n",
              "    <tr>\n",
              "      <th>1313</th>\n",
              "      <td>3rd class</td>\n",
              "      <td>child</td>\n",
              "      <td>women</td>\n",
              "      <td>no</td>\n",
              "    </tr>\n",
              "    <tr>\n",
              "      <th>1314</th>\n",
              "      <td>3rd class</td>\n",
              "      <td>child</td>\n",
              "      <td>women</td>\n",
              "      <td>no</td>\n",
              "    </tr>\n",
              "    <tr>\n",
              "      <th>1315</th>\n",
              "      <td>3rd class</td>\n",
              "      <td>child</td>\n",
              "      <td>women</td>\n",
              "      <td>no</td>\n",
              "    </tr>\n",
              "    <tr>\n",
              "      <th>1316</th>\n",
              "      <td>3rd class</td>\n",
              "      <td>child</td>\n",
              "      <td>women</td>\n",
              "      <td>no</td>\n",
              "    </tr>\n",
              "  </tbody>\n",
              "</table>\n",
              "</div>"
            ],
            "text/plain": [
              "          class    age    sex survived\n",
              "1312  3rd class  child  women       no\n",
              "1313  3rd class  child  women       no\n",
              "1314  3rd class  child  women       no\n",
              "1315  3rd class  child  women       no\n",
              "1316  3rd class  child  women       no"
            ]
          },
          "metadata": {
            "tags": []
          },
          "execution_count": 53
        }
      ]
    },
    {
      "cell_type": "code",
      "metadata": {
        "id": "qBv183HYXFUC",
        "colab_type": "code",
        "colab": {
          "base_uri": "https://localhost:8080/",
          "height": 173
        },
        "outputId": "d19876f5-c9ac-4326-abc8-3f68376c1575"
      },
      "source": [
        "titanic.describe()"
      ],
      "execution_count": null,
      "outputs": [
        {
          "output_type": "execute_result",
          "data": {
            "text/html": [
              "<div>\n",
              "<style scoped>\n",
              "    .dataframe tbody tr th:only-of-type {\n",
              "        vertical-align: middle;\n",
              "    }\n",
              "\n",
              "    .dataframe tbody tr th {\n",
              "        vertical-align: top;\n",
              "    }\n",
              "\n",
              "    .dataframe thead th {\n",
              "        text-align: right;\n",
              "    }\n",
              "</style>\n",
              "<table border=\"1\" class=\"dataframe\">\n",
              "  <thead>\n",
              "    <tr style=\"text-align: right;\">\n",
              "      <th></th>\n",
              "      <th>class</th>\n",
              "      <th>age</th>\n",
              "      <th>sex</th>\n",
              "      <th>survived</th>\n",
              "    </tr>\n",
              "  </thead>\n",
              "  <tbody>\n",
              "    <tr>\n",
              "      <th>count</th>\n",
              "      <td>1316</td>\n",
              "      <td>1316</td>\n",
              "      <td>1316</td>\n",
              "      <td>1316</td>\n",
              "    </tr>\n",
              "    <tr>\n",
              "      <th>unique</th>\n",
              "      <td>3</td>\n",
              "      <td>2</td>\n",
              "      <td>2</td>\n",
              "      <td>2</td>\n",
              "    </tr>\n",
              "    <tr>\n",
              "      <th>top</th>\n",
              "      <td>3rd class</td>\n",
              "      <td>adults</td>\n",
              "      <td>man</td>\n",
              "      <td>no</td>\n",
              "    </tr>\n",
              "    <tr>\n",
              "      <th>freq</th>\n",
              "      <td>706</td>\n",
              "      <td>1207</td>\n",
              "      <td>869</td>\n",
              "      <td>817</td>\n",
              "    </tr>\n",
              "  </tbody>\n",
              "</table>\n",
              "</div>"
            ],
            "text/plain": [
              "            class     age   sex survived\n",
              "count        1316    1316  1316     1316\n",
              "unique          3       2     2        2\n",
              "top     3rd class  adults   man       no\n",
              "freq          706    1207   869      817"
            ]
          },
          "metadata": {
            "tags": []
          },
          "execution_count": 56
        }
      ]
    },
    {
      "cell_type": "code",
      "metadata": {
        "id": "QNQSBL56XPFj",
        "colab_type": "code",
        "colab": {
          "base_uri": "https://localhost:8080/",
          "height": 85
        },
        "outputId": "14aa5776-90c2-4ed6-85ec-24bff8b49add"
      },
      "source": [
        "titanic['class'].value_counts()\n"
      ],
      "execution_count": null,
      "outputs": [
        {
          "output_type": "execute_result",
          "data": {
            "text/plain": [
              "3rd class    706\n",
              "1st class    325\n",
              "2nd class    285\n",
              "Name: class, dtype: int64"
            ]
          },
          "metadata": {
            "tags": []
          },
          "execution_count": 58
        }
      ]
    },
    {
      "cell_type": "code",
      "metadata": {
        "id": "ITyXNBnoXcmH",
        "colab_type": "code",
        "colab": {}
      },
      "source": [
        "## pydataset.data() possui 757 bancos de dados que podem ser utilizados."
      ],
      "execution_count": null,
      "outputs": []
    },
    {
      "cell_type": "code",
      "metadata": {
        "id": "Vv-ubLTCXl4d",
        "colab_type": "code",
        "colab": {
          "base_uri": "https://localhost:8080/",
          "height": 69
        },
        "outputId": "ccb6cacc-b0cd-4b49-dde9-351742dbc901"
      },
      "source": [
        "\"\"\"\n",
        "Para carregar dataframes com conteudos de bancos de dados, é utilizada a lib\n",
        "db.py, ela possibilita conectar a diversos bancos de diversas tecnologias, já\n",
        "convertendo para dataframe no pandas\n",
        "pip install db\n",
        "get install db\n",
        "\"\"\"\n",
        "#!pip install db.py\n",
        "#!get install db.py"
      ],
      "execution_count": null,
      "outputs": [
        {
          "output_type": "execute_result",
          "data": {
            "application/vnd.google.colaboratory.intrinsic+json": {
              "type": "string"
            },
            "text/plain": [
              "'\\nPara carregar dataframes com conteudos de bancos de dados, é utilizada a lib\\ndb.py, ela possibilita conectar a diversos bancos de diversas tecnologias, já\\nconvertendo para dataframe no pandas\\npip install db\\nget install db\\n'"
            ]
          },
          "metadata": {
            "tags": []
          },
          "execution_count": 64
        }
      ]
    },
    {
      "cell_type": "code",
      "metadata": {
        "id": "FO2EhQaqYJPe",
        "colab_type": "code",
        "colab": {}
      },
      "source": [
        "from db import DB"
      ],
      "execution_count": null,
      "outputs": []
    },
    {
      "cell_type": "code",
      "metadata": {
        "id": "yVMlRN9ZYLU8",
        "colab_type": "code",
        "colab": {
          "base_uri": "https://localhost:8080/",
          "height": 34
        },
        "outputId": "fd0858ed-7083-4996-db1c-b57c4953faf8"
      },
      "source": [
        "database= DB(filename='logs.sqlite3',dbtype='sqlite',)\n",
        "#database.tables\n",
        "#log_df=database.tables.log\n",
        "#log_df banco de dados\n",
        "#log_df = database.tables.log.all() agora é um dataframe\n",
        "# log_df = database.query('select * from log where user_id = 3') usando query no db\n"
      ],
      "execution_count": null,
      "outputs": [
        {
          "output_type": "stream",
          "text": [
            "Indexing schema. This will take a second...finished!\n"
          ],
          "name": "stderr"
        }
      ]
    },
    {
      "cell_type": "code",
      "metadata": {
        "id": "-N51skNkYvib",
        "colab_type": "code",
        "colab": {}
      },
      "source": [
        "\"\"\"\n",
        "\n",
        "Carregar CSV no pandar, em forma de DATAFRAME\n",
        "lib pra ler xlrd\n",
        "lib para escrever xlwt\n",
        "!pip install xlrd\n",
        "!pip install xlwt\n",
        "\"\"\"\n",
        "\n",
        "copacabana = pd.read_csv('copacabana.csv', delimiter=';')"
      ],
      "execution_count": null,
      "outputs": []
    },
    {
      "cell_type": "code",
      "metadata": {
        "id": "KsStmPPeaRjr",
        "colab_type": "code",
        "colab": {}
      },
      "source": [
        "\"\"\"\n",
        "\n",
        "Carregar Excel no pandar, em forma de DATAFRAME\n",
        "\n",
        "\"\"\"\n",
        "\n",
        "#pd_excel = pd.read_excel('arquivo.xls')\n"
      ],
      "execution_count": null,
      "outputs": []
    },
    {
      "cell_type": "code",
      "metadata": {
        "id": "TRbi63eraiOM",
        "colab_type": "code",
        "colab": {
          "base_uri": "https://localhost:8080/",
          "height": 85
        },
        "outputId": "1c2c892e-4564-47f1-d5d9-a81e79a367af"
      },
      "source": [
        "copacabana.columns\n",
        "#ver as colunas do dataframe"
      ],
      "execution_count": null,
      "outputs": [
        {
          "output_type": "execute_result",
          "data": {
            "text/plain": [
              "Index(['Posicao', 'Quartos', 'Vagas', 'DistIpanema', 'DistPraia', 'DistFavela',\n",
              "       'RendaMedia', 'RendaMovel', 'RendaMovelRua', 'Vu2009', 'Mes', 'Idade',\n",
              "       'Tipologia', 'AreaConstruida', 'VAL_UNIT', 'X', 'Y'],\n",
              "      dtype='object')"
            ]
          },
          "metadata": {
            "tags": []
          },
          "execution_count": 83
        }
      ]
    },
    {
      "cell_type": "code",
      "metadata": {
        "id": "LJ6b7QtTwm2o",
        "colab_type": "code",
        "colab": {
          "base_uri": "https://localhost:8080/",
          "height": 170
        },
        "outputId": "499967c9-3883-41c3-bd43-d16bfb97981d"
      },
      "source": [
        "copacabana['Quartos'].describe()\n",
        "# ver detalhes contidos dentro de uma coluna \"Quartos\""
      ],
      "execution_count": null,
      "outputs": [
        {
          "output_type": "execute_result",
          "data": {
            "text/plain": [
              "count    1675.000000\n",
              "mean        1.767510\n",
              "std         1.142523\n",
              "min         0.010000\n",
              "25%         1.000000\n",
              "50%         2.000000\n",
              "75%         3.000000\n",
              "max         6.000000\n",
              "Name: Quartos, dtype: float64"
            ]
          },
          "metadata": {
            "tags": []
          },
          "execution_count": 88
        }
      ]
    },
    {
      "cell_type": "code",
      "metadata": {
        "id": "8cG4FcPTxENX",
        "colab_type": "code",
        "colab": {
          "base_uri": "https://localhost:8080/",
          "height": 131
        },
        "outputId": "ec0440ad-aec3-469f-ede6-96e5a1c02796"
      },
      "source": [
        "copacabana.loc[copacabana['Quartos'] == 5]\n",
        "##Realizar filtragem de dados usando Pandas "
      ],
      "execution_count": null,
      "outputs": [
        {
          "output_type": "execute_result",
          "data": {
            "text/html": [
              "<div>\n",
              "<style scoped>\n",
              "    .dataframe tbody tr th:only-of-type {\n",
              "        vertical-align: middle;\n",
              "    }\n",
              "\n",
              "    .dataframe tbody tr th {\n",
              "        vertical-align: top;\n",
              "    }\n",
              "\n",
              "    .dataframe thead th {\n",
              "        text-align: right;\n",
              "    }\n",
              "</style>\n",
              "<table border=\"1\" class=\"dataframe\">\n",
              "  <thead>\n",
              "    <tr style=\"text-align: right;\">\n",
              "      <th></th>\n",
              "      <th>Posicao</th>\n",
              "      <th>Quartos</th>\n",
              "      <th>Vagas</th>\n",
              "      <th>DistIpanema</th>\n",
              "      <th>DistPraia</th>\n",
              "      <th>DistFavela</th>\n",
              "      <th>RendaMedia</th>\n",
              "      <th>RendaMovel</th>\n",
              "      <th>RendaMovelRua</th>\n",
              "      <th>Vu2009</th>\n",
              "      <th>Mes</th>\n",
              "      <th>Idade</th>\n",
              "      <th>Tipologia</th>\n",
              "      <th>AreaConstruida</th>\n",
              "      <th>VAL_UNIT</th>\n",
              "      <th>X</th>\n",
              "      <th>Y</th>\n",
              "    </tr>\n",
              "  </thead>\n",
              "  <tbody>\n",
              "    <tr>\n",
              "      <th>173</th>\n",
              "      <td>1</td>\n",
              "      <td>5.0</td>\n",
              "      <td>0.01</td>\n",
              "      <td>2696</td>\n",
              "      <td>154</td>\n",
              "      <td>712</td>\n",
              "      <td>1083455</td>\n",
              "      <td>649733</td>\n",
              "      <td>866594</td>\n",
              "      <td>2000</td>\n",
              "      <td>425</td>\n",
              "      <td>55.0</td>\n",
              "      <td>1</td>\n",
              "      <td>38</td>\n",
              "      <td>6316</td>\n",
              "      <td>686522.9800</td>\n",
              "      <td>7458989.87</td>\n",
              "    </tr>\n",
              "    <tr>\n",
              "      <th>1521</th>\n",
              "      <td>1</td>\n",
              "      <td>5.0</td>\n",
              "      <td>3.00</td>\n",
              "      <td>3044</td>\n",
              "      <td>31</td>\n",
              "      <td>609</td>\n",
              "      <td>1524600</td>\n",
              "      <td>1168222</td>\n",
              "      <td>1346411</td>\n",
              "      <td>4100</td>\n",
              "      <td>405</td>\n",
              "      <td>34.0</td>\n",
              "      <td>1</td>\n",
              "      <td>430</td>\n",
              "      <td>5000</td>\n",
              "      <td>686965.3201</td>\n",
              "      <td>7459109.71</td>\n",
              "    </tr>\n",
              "  </tbody>\n",
              "</table>\n",
              "</div>"
            ],
            "text/plain": [
              "      Posicao  Quartos  Vagas  ...  VAL_UNIT            X           Y\n",
              "173         1      5.0   0.01  ...      6316  686522.9800  7458989.87\n",
              "1521        1      5.0   3.00  ...      5000  686965.3201  7459109.71\n",
              "\n",
              "[2 rows x 17 columns]"
            ]
          },
          "metadata": {
            "tags": []
          },
          "execution_count": 93
        }
      ]
    },
    {
      "cell_type": "code",
      "metadata": {
        "id": "-mx8N9Bu2Ks9",
        "colab_type": "code",
        "colab": {
          "base_uri": "https://localhost:8080/",
          "height": 212
        },
        "outputId": "bb5f9fe8-c351-4170-8cfe-c77dc04e7a77"
      },
      "source": [
        "copacabana['total']= copacabana['AreaConstruida'] * copacabana['VAL_UNIT']\n",
        "copacabana['total']\n",
        "#multiplicação de colunas"
      ],
      "execution_count": 96,
      "outputs": [
        {
          "output_type": "execute_result",
          "data": {
            "text/plain": [
              "0       416005\n",
              "1       460009\n",
              "2       720012\n",
              "3       990000\n",
              "4       909976\n",
              "         ...  \n",
              "1670    479940\n",
              "1671    402040\n",
              "1672    600020\n",
              "1673    766705\n",
              "1674    683871\n",
              "Name: total, Length: 1675, dtype: int64"
            ]
          },
          "metadata": {
            "tags": []
          },
          "execution_count": 96
        }
      ]
    },
    {
      "cell_type": "code",
      "metadata": {
        "id": "2l4mn1TES4hM",
        "colab_type": "code",
        "colab": {
          "base_uri": "https://localhost:8080/",
          "height": 33
        },
        "outputId": "b0dc2bbb-dcf6-40a1-9193-91d520d68f27"
      },
      "source": [
        "## import pandas as pd\n",
        "#!pip install pydataset\n",
        "import pydataset as pdt\n",
        "titanic = pdt.data('titanic')\n",
        "titanic.columns"
      ],
      "execution_count": 8,
      "outputs": [
        {
          "output_type": "execute_result",
          "data": {
            "text/plain": [
              "Index(['class', 'age', 'sex', 'survived'], dtype='object')"
            ]
          },
          "metadata": {
            "tags": []
          },
          "execution_count": 8
        }
      ]
    },
    {
      "cell_type": "code",
      "metadata": {
        "id": "e9FE7u8-2GqI",
        "colab_type": "code",
        "colab": {
          "base_uri": "https://localhost:8080/",
          "height": 98
        },
        "outputId": "adcadf55-580c-4f5c-b30f-b5ab6fa76bf6"
      },
      "source": [
        "titanic['class'].describe()"
      ],
      "execution_count": 9,
      "outputs": [
        {
          "output_type": "execute_result",
          "data": {
            "text/plain": [
              "count          1316\n",
              "unique            3\n",
              "top       3rd class\n",
              "freq            706\n",
              "Name: class, dtype: object"
            ]
          },
          "metadata": {
            "tags": []
          },
          "execution_count": 9
        }
      ]
    },
    {
      "cell_type": "code",
      "metadata": {
        "id": "bNSYC8nf2Ogy",
        "colab_type": "code",
        "colab": {
          "base_uri": "https://localhost:8080/",
          "height": 33
        },
        "outputId": "e406d35b-ff79-4fcd-d048-a61fdf455a90"
      },
      "source": [
        "titanic['class'].nbytes"
      ],
      "execution_count": 10,
      "outputs": [
        {
          "output_type": "execute_result",
          "data": {
            "text/plain": [
              "10528"
            ]
          },
          "metadata": {
            "tags": []
          },
          "execution_count": 10
        }
      ]
    },
    {
      "cell_type": "code",
      "metadata": {
        "id": "EzZtt7Ob2SXh",
        "colab_type": "code",
        "colab": {
          "base_uri": "https://localhost:8080/",
          "height": 245
        },
        "outputId": "2568f567-47ce-4795-c8d6-a6e54ab13e4b"
      },
      "source": [
        "%%time\n",
        "titanic['class'] == '3rd class'"
      ],
      "execution_count": 15,
      "outputs": [
        {
          "output_type": "stream",
          "text": [
            "CPU times: user 725 µs, sys: 0 ns, total: 725 µs\n",
            "Wall time: 748 µs\n"
          ],
          "name": "stdout"
        },
        {
          "output_type": "execute_result",
          "data": {
            "text/plain": [
              "1       False\n",
              "2       False\n",
              "3       False\n",
              "4       False\n",
              "5       False\n",
              "        ...  \n",
              "1312     True\n",
              "1313     True\n",
              "1314     True\n",
              "1315     True\n",
              "1316     True\n",
              "Name: class, Length: 1316, dtype: bool"
            ]
          },
          "metadata": {
            "tags": []
          },
          "execution_count": 15
        }
      ]
    },
    {
      "cell_type": "code",
      "metadata": {
        "id": "v6kTdlAm2cTY",
        "colab_type": "code",
        "colab": {
          "base_uri": "https://localhost:8080/",
          "height": 98
        },
        "outputId": "cfa08d34-c9ba-4c0b-995a-f9932bed9914"
      },
      "source": [
        "titanic['class'] = titanic['class'].astype('category')\n",
        "titanic['class'].describe()\n"
      ],
      "execution_count": 18,
      "outputs": [
        {
          "output_type": "execute_result",
          "data": {
            "text/plain": [
              "count          1316\n",
              "unique            3\n",
              "top       3rd class\n",
              "freq            706\n",
              "Name: class, dtype: object"
            ]
          },
          "metadata": {
            "tags": []
          },
          "execution_count": 18
        }
      ]
    },
    {
      "cell_type": "code",
      "metadata": {
        "id": "lJifivoe28_k",
        "colab_type": "code",
        "colab": {
          "base_uri": "https://localhost:8080/",
          "height": 33
        },
        "outputId": "28fba073-eaea-4b3b-f5bd-5497b063901c"
      },
      "source": [
        "titanic['class'].nbytes"
      ],
      "execution_count": 24,
      "outputs": [
        {
          "output_type": "execute_result",
          "data": {
            "text/plain": [
              "1340"
            ]
          },
          "metadata": {
            "tags": []
          },
          "execution_count": 24
        }
      ]
    },
    {
      "cell_type": "code",
      "metadata": {
        "id": "lro1rLzH3Dde",
        "colab_type": "code",
        "colab": {
          "base_uri": "https://localhost:8080/",
          "height": 245
        },
        "outputId": "be10f14d-4440-4fb5-cebf-2c275cc183ae"
      },
      "source": [
        "%%time\n",
        "titanic['class'] == '3rd class'"
      ],
      "execution_count": 23,
      "outputs": [
        {
          "output_type": "stream",
          "text": [
            "CPU times: user 850 µs, sys: 0 ns, total: 850 µs\n",
            "Wall time: 1.2 ms\n"
          ],
          "name": "stdout"
        },
        {
          "output_type": "execute_result",
          "data": {
            "text/plain": [
              "1       False\n",
              "2       False\n",
              "3       False\n",
              "4       False\n",
              "5       False\n",
              "        ...  \n",
              "1312     True\n",
              "1313     True\n",
              "1314     True\n",
              "1315     True\n",
              "1316     True\n",
              "Name: class, Length: 1316, dtype: bool"
            ]
          },
          "metadata": {
            "tags": []
          },
          "execution_count": 23
        }
      ]
    },
    {
      "cell_type": "code",
      "metadata": {
        "id": "9jNwuQVL3K6X",
        "colab_type": "code",
        "colab": {}
      },
      "source": [
        "\"\"\"\n",
        "\n",
        "Lidando com dados que sumiram (data missing) \n",
        "usando Pandas\n",
        "\n",
        "\"\"\"\n",
        "import numpy as np\n",
        "import pandas as pd\n",
        "## df.dropna() exclui linhas que possui campos que estão vazios\n",
        "## df.dropna(how='all') exclui apenas a linha que está vazia totalmente.\n",
        "\n",
        "dados = {\n",
        "    'nome': ['João', 'Maria', 'José', np.nan, 'Pedro', 'Judas', 'Tiago'],\n",
        "    'sexo': ['M', 'F', 'M', np.nan, 'M', 'M', np.nan],\n",
        "    'idade': [14, 13, np.nan, np.nan, 15, 13, 14],\n",
        "    'nota': [4, 10, 7, np.nan, 8, 9, 7]\n",
        "}\n",
        "df = pd.DataFrame(dados)"
      ],
      "execution_count": 28,
      "outputs": []
    },
    {
      "cell_type": "code",
      "metadata": {
        "id": "jWvJX_6e45fy",
        "colab_type": "code",
        "colab": {
          "base_uri": "https://localhost:8080/",
          "height": 248
        },
        "outputId": "ca38f793-9f7a-4d0c-9791-94542e1a1aac"
      },
      "source": [
        "df"
      ],
      "execution_count": 29,
      "outputs": [
        {
          "output_type": "execute_result",
          "data": {
            "text/html": [
              "<div>\n",
              "<style scoped>\n",
              "    .dataframe tbody tr th:only-of-type {\n",
              "        vertical-align: middle;\n",
              "    }\n",
              "\n",
              "    .dataframe tbody tr th {\n",
              "        vertical-align: top;\n",
              "    }\n",
              "\n",
              "    .dataframe thead th {\n",
              "        text-align: right;\n",
              "    }\n",
              "</style>\n",
              "<table border=\"1\" class=\"dataframe\">\n",
              "  <thead>\n",
              "    <tr style=\"text-align: right;\">\n",
              "      <th></th>\n",
              "      <th>nome</th>\n",
              "      <th>sexo</th>\n",
              "      <th>idade</th>\n",
              "      <th>nota</th>\n",
              "    </tr>\n",
              "  </thead>\n",
              "  <tbody>\n",
              "    <tr>\n",
              "      <th>0</th>\n",
              "      <td>João</td>\n",
              "      <td>M</td>\n",
              "      <td>14.0</td>\n",
              "      <td>4.0</td>\n",
              "    </tr>\n",
              "    <tr>\n",
              "      <th>1</th>\n",
              "      <td>Maria</td>\n",
              "      <td>F</td>\n",
              "      <td>13.0</td>\n",
              "      <td>10.0</td>\n",
              "    </tr>\n",
              "    <tr>\n",
              "      <th>2</th>\n",
              "      <td>José</td>\n",
              "      <td>M</td>\n",
              "      <td>NaN</td>\n",
              "      <td>7.0</td>\n",
              "    </tr>\n",
              "    <tr>\n",
              "      <th>3</th>\n",
              "      <td>NaN</td>\n",
              "      <td>NaN</td>\n",
              "      <td>NaN</td>\n",
              "      <td>NaN</td>\n",
              "    </tr>\n",
              "    <tr>\n",
              "      <th>4</th>\n",
              "      <td>Pedro</td>\n",
              "      <td>M</td>\n",
              "      <td>15.0</td>\n",
              "      <td>8.0</td>\n",
              "    </tr>\n",
              "    <tr>\n",
              "      <th>5</th>\n",
              "      <td>Judas</td>\n",
              "      <td>M</td>\n",
              "      <td>13.0</td>\n",
              "      <td>9.0</td>\n",
              "    </tr>\n",
              "    <tr>\n",
              "      <th>6</th>\n",
              "      <td>Tiago</td>\n",
              "      <td>NaN</td>\n",
              "      <td>14.0</td>\n",
              "      <td>7.0</td>\n",
              "    </tr>\n",
              "  </tbody>\n",
              "</table>\n",
              "</div>"
            ],
            "text/plain": [
              "    nome sexo  idade  nota\n",
              "0   João    M   14.0   4.0\n",
              "1  Maria    F   13.0  10.0\n",
              "2   José    M    NaN   7.0\n",
              "3    NaN  NaN    NaN   NaN\n",
              "4  Pedro    M   15.0   8.0\n",
              "5  Judas    M   13.0   9.0\n",
              "6  Tiago  NaN   14.0   7.0"
            ]
          },
          "metadata": {
            "tags": []
          },
          "execution_count": 29
        }
      ]
    },
    {
      "cell_type": "code",
      "metadata": {
        "id": "1phIFqF95O7A",
        "colab_type": "code",
        "colab": {
          "base_uri": "https://localhost:8080/",
          "height": 162
        },
        "outputId": "4d82b1b8-9aee-458f-e84d-5c1e62c9c722"
      },
      "source": [
        "df.dropna()"
      ],
      "execution_count": 31,
      "outputs": [
        {
          "output_type": "execute_result",
          "data": {
            "text/html": [
              "<div>\n",
              "<style scoped>\n",
              "    .dataframe tbody tr th:only-of-type {\n",
              "        vertical-align: middle;\n",
              "    }\n",
              "\n",
              "    .dataframe tbody tr th {\n",
              "        vertical-align: top;\n",
              "    }\n",
              "\n",
              "    .dataframe thead th {\n",
              "        text-align: right;\n",
              "    }\n",
              "</style>\n",
              "<table border=\"1\" class=\"dataframe\">\n",
              "  <thead>\n",
              "    <tr style=\"text-align: right;\">\n",
              "      <th></th>\n",
              "      <th>nome</th>\n",
              "      <th>sexo</th>\n",
              "      <th>idade</th>\n",
              "      <th>nota</th>\n",
              "    </tr>\n",
              "  </thead>\n",
              "  <tbody>\n",
              "    <tr>\n",
              "      <th>0</th>\n",
              "      <td>João</td>\n",
              "      <td>M</td>\n",
              "      <td>14.0</td>\n",
              "      <td>4.0</td>\n",
              "    </tr>\n",
              "    <tr>\n",
              "      <th>1</th>\n",
              "      <td>Maria</td>\n",
              "      <td>F</td>\n",
              "      <td>13.0</td>\n",
              "      <td>10.0</td>\n",
              "    </tr>\n",
              "    <tr>\n",
              "      <th>4</th>\n",
              "      <td>Pedro</td>\n",
              "      <td>M</td>\n",
              "      <td>15.0</td>\n",
              "      <td>8.0</td>\n",
              "    </tr>\n",
              "    <tr>\n",
              "      <th>5</th>\n",
              "      <td>Judas</td>\n",
              "      <td>M</td>\n",
              "      <td>13.0</td>\n",
              "      <td>9.0</td>\n",
              "    </tr>\n",
              "  </tbody>\n",
              "</table>\n",
              "</div>"
            ],
            "text/plain": [
              "    nome sexo  idade  nota\n",
              "0   João    M   14.0   4.0\n",
              "1  Maria    F   13.0  10.0\n",
              "4  Pedro    M   15.0   8.0\n",
              "5  Judas    M   13.0   9.0"
            ]
          },
          "metadata": {
            "tags": []
          },
          "execution_count": 31
        }
      ]
    },
    {
      "cell_type": "code",
      "metadata": {
        "id": "uQTmymIv5QXN",
        "colab_type": "code",
        "colab": {
          "base_uri": "https://localhost:8080/",
          "height": 220
        },
        "outputId": "034ac30e-e2bf-4d0c-bbd5-0835988e147b"
      },
      "source": [
        "df.dropna(how='all')"
      ],
      "execution_count": 32,
      "outputs": [
        {
          "output_type": "execute_result",
          "data": {
            "text/html": [
              "<div>\n",
              "<style scoped>\n",
              "    .dataframe tbody tr th:only-of-type {\n",
              "        vertical-align: middle;\n",
              "    }\n",
              "\n",
              "    .dataframe tbody tr th {\n",
              "        vertical-align: top;\n",
              "    }\n",
              "\n",
              "    .dataframe thead th {\n",
              "        text-align: right;\n",
              "    }\n",
              "</style>\n",
              "<table border=\"1\" class=\"dataframe\">\n",
              "  <thead>\n",
              "    <tr style=\"text-align: right;\">\n",
              "      <th></th>\n",
              "      <th>nome</th>\n",
              "      <th>sexo</th>\n",
              "      <th>idade</th>\n",
              "      <th>nota</th>\n",
              "    </tr>\n",
              "  </thead>\n",
              "  <tbody>\n",
              "    <tr>\n",
              "      <th>0</th>\n",
              "      <td>João</td>\n",
              "      <td>M</td>\n",
              "      <td>14.0</td>\n",
              "      <td>4.0</td>\n",
              "    </tr>\n",
              "    <tr>\n",
              "      <th>1</th>\n",
              "      <td>Maria</td>\n",
              "      <td>F</td>\n",
              "      <td>13.0</td>\n",
              "      <td>10.0</td>\n",
              "    </tr>\n",
              "    <tr>\n",
              "      <th>2</th>\n",
              "      <td>José</td>\n",
              "      <td>M</td>\n",
              "      <td>NaN</td>\n",
              "      <td>7.0</td>\n",
              "    </tr>\n",
              "    <tr>\n",
              "      <th>4</th>\n",
              "      <td>Pedro</td>\n",
              "      <td>M</td>\n",
              "      <td>15.0</td>\n",
              "      <td>8.0</td>\n",
              "    </tr>\n",
              "    <tr>\n",
              "      <th>5</th>\n",
              "      <td>Judas</td>\n",
              "      <td>M</td>\n",
              "      <td>13.0</td>\n",
              "      <td>9.0</td>\n",
              "    </tr>\n",
              "    <tr>\n",
              "      <th>6</th>\n",
              "      <td>Tiago</td>\n",
              "      <td>NaN</td>\n",
              "      <td>14.0</td>\n",
              "      <td>7.0</td>\n",
              "    </tr>\n",
              "  </tbody>\n",
              "</table>\n",
              "</div>"
            ],
            "text/plain": [
              "    nome sexo  idade  nota\n",
              "0   João    M   14.0   4.0\n",
              "1  Maria    F   13.0  10.0\n",
              "2   José    M    NaN   7.0\n",
              "4  Pedro    M   15.0   8.0\n",
              "5  Judas    M   13.0   9.0\n",
              "6  Tiago  NaN   14.0   7.0"
            ]
          },
          "metadata": {
            "tags": []
          },
          "execution_count": 32
        }
      ]
    },
    {
      "cell_type": "code",
      "metadata": {
        "id": "fX4HhUMz5WPG",
        "colab_type": "code",
        "colab": {
          "base_uri": "https://localhost:8080/",
          "height": 248
        },
        "outputId": "c1e5b658-ee1a-4f92-8024-eb3e2a3b7a7d"
      },
      "source": [
        "df['serie'] = np.nan\n",
        "## criou-se uma coluna vazia chamada 'serie', mas é apagar logo em seguida\n",
        "## com o dropna()\n",
        "df.dropna(how='all', axis =1)"
      ],
      "execution_count": 35,
      "outputs": [
        {
          "output_type": "execute_result",
          "data": {
            "text/html": [
              "<div>\n",
              "<style scoped>\n",
              "    .dataframe tbody tr th:only-of-type {\n",
              "        vertical-align: middle;\n",
              "    }\n",
              "\n",
              "    .dataframe tbody tr th {\n",
              "        vertical-align: top;\n",
              "    }\n",
              "\n",
              "    .dataframe thead th {\n",
              "        text-align: right;\n",
              "    }\n",
              "</style>\n",
              "<table border=\"1\" class=\"dataframe\">\n",
              "  <thead>\n",
              "    <tr style=\"text-align: right;\">\n",
              "      <th></th>\n",
              "      <th>nome</th>\n",
              "      <th>sexo</th>\n",
              "      <th>idade</th>\n",
              "      <th>nota</th>\n",
              "    </tr>\n",
              "  </thead>\n",
              "  <tbody>\n",
              "    <tr>\n",
              "      <th>0</th>\n",
              "      <td>João</td>\n",
              "      <td>M</td>\n",
              "      <td>14.0</td>\n",
              "      <td>4.0</td>\n",
              "    </tr>\n",
              "    <tr>\n",
              "      <th>1</th>\n",
              "      <td>Maria</td>\n",
              "      <td>F</td>\n",
              "      <td>13.0</td>\n",
              "      <td>10.0</td>\n",
              "    </tr>\n",
              "    <tr>\n",
              "      <th>2</th>\n",
              "      <td>José</td>\n",
              "      <td>M</td>\n",
              "      <td>NaN</td>\n",
              "      <td>7.0</td>\n",
              "    </tr>\n",
              "    <tr>\n",
              "      <th>3</th>\n",
              "      <td>NaN</td>\n",
              "      <td>NaN</td>\n",
              "      <td>NaN</td>\n",
              "      <td>NaN</td>\n",
              "    </tr>\n",
              "    <tr>\n",
              "      <th>4</th>\n",
              "      <td>Pedro</td>\n",
              "      <td>M</td>\n",
              "      <td>15.0</td>\n",
              "      <td>8.0</td>\n",
              "    </tr>\n",
              "    <tr>\n",
              "      <th>5</th>\n",
              "      <td>Judas</td>\n",
              "      <td>M</td>\n",
              "      <td>13.0</td>\n",
              "      <td>9.0</td>\n",
              "    </tr>\n",
              "    <tr>\n",
              "      <th>6</th>\n",
              "      <td>Tiago</td>\n",
              "      <td>NaN</td>\n",
              "      <td>14.0</td>\n",
              "      <td>7.0</td>\n",
              "    </tr>\n",
              "  </tbody>\n",
              "</table>\n",
              "</div>"
            ],
            "text/plain": [
              "    nome sexo  idade  nota\n",
              "0   João    M   14.0   4.0\n",
              "1  Maria    F   13.0  10.0\n",
              "2   José    M    NaN   7.0\n",
              "3    NaN  NaN    NaN   NaN\n",
              "4  Pedro    M   15.0   8.0\n",
              "5  Judas    M   13.0   9.0\n",
              "6  Tiago  NaN   14.0   7.0"
            ]
          },
          "metadata": {
            "tags": []
          },
          "execution_count": 35
        }
      ]
    },
    {
      "cell_type": "code",
      "metadata": {
        "id": "K3u8VKft5t5Z",
        "colab_type": "code",
        "colab": {
          "base_uri": "https://localhost:8080/",
          "height": 220
        },
        "outputId": "40a5946f-21a8-46dd-ff0b-2f9ae568e1f2"
      },
      "source": [
        "df.dropna(thresh =3)"
      ],
      "execution_count": 36,
      "outputs": [
        {
          "output_type": "execute_result",
          "data": {
            "text/html": [
              "<div>\n",
              "<style scoped>\n",
              "    .dataframe tbody tr th:only-of-type {\n",
              "        vertical-align: middle;\n",
              "    }\n",
              "\n",
              "    .dataframe tbody tr th {\n",
              "        vertical-align: top;\n",
              "    }\n",
              "\n",
              "    .dataframe thead th {\n",
              "        text-align: right;\n",
              "    }\n",
              "</style>\n",
              "<table border=\"1\" class=\"dataframe\">\n",
              "  <thead>\n",
              "    <tr style=\"text-align: right;\">\n",
              "      <th></th>\n",
              "      <th>nome</th>\n",
              "      <th>sexo</th>\n",
              "      <th>idade</th>\n",
              "      <th>nota</th>\n",
              "      <th>serie</th>\n",
              "    </tr>\n",
              "  </thead>\n",
              "  <tbody>\n",
              "    <tr>\n",
              "      <th>0</th>\n",
              "      <td>João</td>\n",
              "      <td>M</td>\n",
              "      <td>14.0</td>\n",
              "      <td>4.0</td>\n",
              "      <td>NaN</td>\n",
              "    </tr>\n",
              "    <tr>\n",
              "      <th>1</th>\n",
              "      <td>Maria</td>\n",
              "      <td>F</td>\n",
              "      <td>13.0</td>\n",
              "      <td>10.0</td>\n",
              "      <td>NaN</td>\n",
              "    </tr>\n",
              "    <tr>\n",
              "      <th>2</th>\n",
              "      <td>José</td>\n",
              "      <td>M</td>\n",
              "      <td>NaN</td>\n",
              "      <td>7.0</td>\n",
              "      <td>NaN</td>\n",
              "    </tr>\n",
              "    <tr>\n",
              "      <th>4</th>\n",
              "      <td>Pedro</td>\n",
              "      <td>M</td>\n",
              "      <td>15.0</td>\n",
              "      <td>8.0</td>\n",
              "      <td>NaN</td>\n",
              "    </tr>\n",
              "    <tr>\n",
              "      <th>5</th>\n",
              "      <td>Judas</td>\n",
              "      <td>M</td>\n",
              "      <td>13.0</td>\n",
              "      <td>9.0</td>\n",
              "      <td>NaN</td>\n",
              "    </tr>\n",
              "    <tr>\n",
              "      <th>6</th>\n",
              "      <td>Tiago</td>\n",
              "      <td>NaN</td>\n",
              "      <td>14.0</td>\n",
              "      <td>7.0</td>\n",
              "      <td>NaN</td>\n",
              "    </tr>\n",
              "  </tbody>\n",
              "</table>\n",
              "</div>"
            ],
            "text/plain": [
              "    nome sexo  idade  nota  serie\n",
              "0   João    M   14.0   4.0    NaN\n",
              "1  Maria    F   13.0  10.0    NaN\n",
              "2   José    M    NaN   7.0    NaN\n",
              "4  Pedro    M   15.0   8.0    NaN\n",
              "5  Judas    M   13.0   9.0    NaN\n",
              "6  Tiago  NaN   14.0   7.0    NaN"
            ]
          },
          "metadata": {
            "tags": []
          },
          "execution_count": 36
        }
      ]
    },
    {
      "cell_type": "code",
      "metadata": {
        "id": "-p_HWGVg6Sjq",
        "colab_type": "code",
        "colab": {}
      },
      "source": [
        "## Alocando valores na coluna serie usando media\n",
        "df['idade'].mean()\n",
        "df['idade'].fillna(df['idade'].mean(), inplace = True)"
      ],
      "execution_count": 40,
      "outputs": []
    },
    {
      "cell_type": "code",
      "metadata": {
        "id": "8LTfURWP7C7R",
        "colab_type": "code",
        "colab": {
          "base_uri": "https://localhost:8080/",
          "height": 248
        },
        "outputId": "b681807f-f7aa-477e-96f3-c00ce43e3651"
      },
      "source": [
        "df"
      ],
      "execution_count": 42,
      "outputs": [
        {
          "output_type": "execute_result",
          "data": {
            "text/html": [
              "<div>\n",
              "<style scoped>\n",
              "    .dataframe tbody tr th:only-of-type {\n",
              "        vertical-align: middle;\n",
              "    }\n",
              "\n",
              "    .dataframe tbody tr th {\n",
              "        vertical-align: top;\n",
              "    }\n",
              "\n",
              "    .dataframe thead th {\n",
              "        text-align: right;\n",
              "    }\n",
              "</style>\n",
              "<table border=\"1\" class=\"dataframe\">\n",
              "  <thead>\n",
              "    <tr style=\"text-align: right;\">\n",
              "      <th></th>\n",
              "      <th>nome</th>\n",
              "      <th>sexo</th>\n",
              "      <th>idade</th>\n",
              "      <th>nota</th>\n",
              "      <th>serie</th>\n",
              "    </tr>\n",
              "  </thead>\n",
              "  <tbody>\n",
              "    <tr>\n",
              "      <th>0</th>\n",
              "      <td>João</td>\n",
              "      <td>M</td>\n",
              "      <td>14.0</td>\n",
              "      <td>4.0</td>\n",
              "      <td>NaN</td>\n",
              "    </tr>\n",
              "    <tr>\n",
              "      <th>1</th>\n",
              "      <td>Maria</td>\n",
              "      <td>F</td>\n",
              "      <td>13.0</td>\n",
              "      <td>10.0</td>\n",
              "      <td>NaN</td>\n",
              "    </tr>\n",
              "    <tr>\n",
              "      <th>2</th>\n",
              "      <td>José</td>\n",
              "      <td>M</td>\n",
              "      <td>13.8</td>\n",
              "      <td>7.0</td>\n",
              "      <td>NaN</td>\n",
              "    </tr>\n",
              "    <tr>\n",
              "      <th>3</th>\n",
              "      <td>NaN</td>\n",
              "      <td>NaN</td>\n",
              "      <td>13.8</td>\n",
              "      <td>NaN</td>\n",
              "      <td>NaN</td>\n",
              "    </tr>\n",
              "    <tr>\n",
              "      <th>4</th>\n",
              "      <td>Pedro</td>\n",
              "      <td>M</td>\n",
              "      <td>15.0</td>\n",
              "      <td>8.0</td>\n",
              "      <td>NaN</td>\n",
              "    </tr>\n",
              "    <tr>\n",
              "      <th>5</th>\n",
              "      <td>Judas</td>\n",
              "      <td>M</td>\n",
              "      <td>13.0</td>\n",
              "      <td>9.0</td>\n",
              "      <td>NaN</td>\n",
              "    </tr>\n",
              "    <tr>\n",
              "      <th>6</th>\n",
              "      <td>Tiago</td>\n",
              "      <td>NaN</td>\n",
              "      <td>14.0</td>\n",
              "      <td>7.0</td>\n",
              "      <td>NaN</td>\n",
              "    </tr>\n",
              "  </tbody>\n",
              "</table>\n",
              "</div>"
            ],
            "text/plain": [
              "    nome sexo  idade  nota  serie\n",
              "0   João    M   14.0   4.0    NaN\n",
              "1  Maria    F   13.0  10.0    NaN\n",
              "2   José    M   13.8   7.0    NaN\n",
              "3    NaN  NaN   13.8   NaN    NaN\n",
              "4  Pedro    M   15.0   8.0    NaN\n",
              "5  Judas    M   13.0   9.0    NaN\n",
              "6  Tiago  NaN   14.0   7.0    NaN"
            ]
          },
          "metadata": {
            "tags": []
          },
          "execution_count": 42
        }
      ]
    },
    {
      "cell_type": "code",
      "metadata": {
        "id": "jCxA5VU879Ew",
        "colab_type": "code",
        "colab": {
          "base_uri": "https://localhost:8080/",
          "height": 191
        },
        "outputId": "c4f40c29-5b24-4fae-92e9-5c9a1ad7833a"
      },
      "source": [
        "df[df['nome'].notnull() & df['sexo'].notnull()]"
      ],
      "execution_count": 44,
      "outputs": [
        {
          "output_type": "execute_result",
          "data": {
            "text/html": [
              "<div>\n",
              "<style scoped>\n",
              "    .dataframe tbody tr th:only-of-type {\n",
              "        vertical-align: middle;\n",
              "    }\n",
              "\n",
              "    .dataframe tbody tr th {\n",
              "        vertical-align: top;\n",
              "    }\n",
              "\n",
              "    .dataframe thead th {\n",
              "        text-align: right;\n",
              "    }\n",
              "</style>\n",
              "<table border=\"1\" class=\"dataframe\">\n",
              "  <thead>\n",
              "    <tr style=\"text-align: right;\">\n",
              "      <th></th>\n",
              "      <th>nome</th>\n",
              "      <th>sexo</th>\n",
              "      <th>idade</th>\n",
              "      <th>nota</th>\n",
              "      <th>serie</th>\n",
              "    </tr>\n",
              "  </thead>\n",
              "  <tbody>\n",
              "    <tr>\n",
              "      <th>0</th>\n",
              "      <td>João</td>\n",
              "      <td>M</td>\n",
              "      <td>14.0</td>\n",
              "      <td>4.0</td>\n",
              "      <td>NaN</td>\n",
              "    </tr>\n",
              "    <tr>\n",
              "      <th>1</th>\n",
              "      <td>Maria</td>\n",
              "      <td>F</td>\n",
              "      <td>13.0</td>\n",
              "      <td>10.0</td>\n",
              "      <td>NaN</td>\n",
              "    </tr>\n",
              "    <tr>\n",
              "      <th>2</th>\n",
              "      <td>José</td>\n",
              "      <td>M</td>\n",
              "      <td>13.8</td>\n",
              "      <td>7.0</td>\n",
              "      <td>NaN</td>\n",
              "    </tr>\n",
              "    <tr>\n",
              "      <th>4</th>\n",
              "      <td>Pedro</td>\n",
              "      <td>M</td>\n",
              "      <td>15.0</td>\n",
              "      <td>8.0</td>\n",
              "      <td>NaN</td>\n",
              "    </tr>\n",
              "    <tr>\n",
              "      <th>5</th>\n",
              "      <td>Judas</td>\n",
              "      <td>M</td>\n",
              "      <td>13.0</td>\n",
              "      <td>9.0</td>\n",
              "      <td>NaN</td>\n",
              "    </tr>\n",
              "  </tbody>\n",
              "</table>\n",
              "</div>"
            ],
            "text/plain": [
              "    nome sexo  idade  nota  serie\n",
              "0   João    M   14.0   4.0    NaN\n",
              "1  Maria    F   13.0  10.0    NaN\n",
              "2   José    M   13.8   7.0    NaN\n",
              "4  Pedro    M   15.0   8.0    NaN\n",
              "5  Judas    M   13.0   9.0    NaN"
            ]
          },
          "metadata": {
            "tags": []
          },
          "execution_count": 44
        }
      ]
    },
    {
      "cell_type": "code",
      "metadata": {
        "id": "OPnl83c28IUN",
        "colab_type": "code",
        "colab": {}
      },
      "source": [
        "\"\"\"\n",
        "\n",
        "Trabalhando com dados em CSV para utilizar a função aggregate e gruping do \n",
        "Pandas\n",
        "\n",
        "## importante\n",
        "\n",
        "\"\"\"\n",
        "import pandas as pd\n",
        "import numpy as np\n",
        "\n",
        "df = pd.read_csv('primary_results.csv')\n"
      ],
      "execution_count": 45,
      "outputs": []
    },
    {
      "cell_type": "code",
      "metadata": {
        "id": "BFQDadp2Cl6p",
        "colab_type": "code",
        "colab": {
          "base_uri": "https://localhost:8080/",
          "height": 292
        },
        "outputId": "bceae87f-a8e3-4b1b-c9e8-dfadf51c2f4b"
      },
      "source": [
        "df.head() ## exibe os primeiros 5 do DataFrame"
      ],
      "execution_count": 47,
      "outputs": [
        {
          "output_type": "execute_result",
          "data": {
            "text/html": [
              "<div>\n",
              "<style scoped>\n",
              "    .dataframe tbody tr th:only-of-type {\n",
              "        vertical-align: middle;\n",
              "    }\n",
              "\n",
              "    .dataframe tbody tr th {\n",
              "        vertical-align: top;\n",
              "    }\n",
              "\n",
              "    .dataframe thead th {\n",
              "        text-align: right;\n",
              "    }\n",
              "</style>\n",
              "<table border=\"1\" class=\"dataframe\">\n",
              "  <thead>\n",
              "    <tr style=\"text-align: right;\">\n",
              "      <th></th>\n",
              "      <th>state</th>\n",
              "      <th>state_abbreviation</th>\n",
              "      <th>county</th>\n",
              "      <th>fips</th>\n",
              "      <th>party</th>\n",
              "      <th>candidate</th>\n",
              "      <th>votes</th>\n",
              "      <th>fraction_votes</th>\n",
              "    </tr>\n",
              "  </thead>\n",
              "  <tbody>\n",
              "    <tr>\n",
              "      <th>0</th>\n",
              "      <td>Alabama</td>\n",
              "      <td>AL</td>\n",
              "      <td>Autauga</td>\n",
              "      <td>1001.0</td>\n",
              "      <td>Democrat</td>\n",
              "      <td>Bernie Sanders</td>\n",
              "      <td>544</td>\n",
              "      <td>0.182</td>\n",
              "    </tr>\n",
              "    <tr>\n",
              "      <th>1</th>\n",
              "      <td>Alabama</td>\n",
              "      <td>AL</td>\n",
              "      <td>Autauga</td>\n",
              "      <td>1001.0</td>\n",
              "      <td>Democrat</td>\n",
              "      <td>Hillary Clinton</td>\n",
              "      <td>2387</td>\n",
              "      <td>0.800</td>\n",
              "    </tr>\n",
              "    <tr>\n",
              "      <th>2</th>\n",
              "      <td>Alabama</td>\n",
              "      <td>AL</td>\n",
              "      <td>Baldwin</td>\n",
              "      <td>1003.0</td>\n",
              "      <td>Democrat</td>\n",
              "      <td>Bernie Sanders</td>\n",
              "      <td>2694</td>\n",
              "      <td>0.329</td>\n",
              "    </tr>\n",
              "    <tr>\n",
              "      <th>3</th>\n",
              "      <td>Alabama</td>\n",
              "      <td>AL</td>\n",
              "      <td>Baldwin</td>\n",
              "      <td>1003.0</td>\n",
              "      <td>Democrat</td>\n",
              "      <td>Hillary Clinton</td>\n",
              "      <td>5290</td>\n",
              "      <td>0.647</td>\n",
              "    </tr>\n",
              "    <tr>\n",
              "      <th>4</th>\n",
              "      <td>Alabama</td>\n",
              "      <td>AL</td>\n",
              "      <td>Barbour</td>\n",
              "      <td>1005.0</td>\n",
              "      <td>Democrat</td>\n",
              "      <td>Bernie Sanders</td>\n",
              "      <td>222</td>\n",
              "      <td>0.078</td>\n",
              "    </tr>\n",
              "  </tbody>\n",
              "</table>\n",
              "</div>"
            ],
            "text/plain": [
              "     state state_abbreviation   county  ...        candidate votes fraction_votes\n",
              "0  Alabama                 AL  Autauga  ...   Bernie Sanders   544          0.182\n",
              "1  Alabama                 AL  Autauga  ...  Hillary Clinton  2387          0.800\n",
              "2  Alabama                 AL  Baldwin  ...   Bernie Sanders  2694          0.329\n",
              "3  Alabama                 AL  Baldwin  ...  Hillary Clinton  5290          0.647\n",
              "4  Alabama                 AL  Barbour  ...   Bernie Sanders   222          0.078\n",
              "\n",
              "[5 rows x 8 columns]"
            ]
          },
          "metadata": {
            "tags": []
          },
          "execution_count": 47
        }
      ]
    },
    {
      "cell_type": "code",
      "metadata": {
        "id": "AbY4ubw-Cvvk",
        "colab_type": "code",
        "colab": {
          "base_uri": "https://localhost:8080/",
          "height": 33
        },
        "outputId": "615ad0b5-2480-4854-a069-ab3c9f5b618b"
      },
      "source": [
        "len(df) ## Tamanho do Dataframe"
      ],
      "execution_count": 49,
      "outputs": [
        {
          "output_type": "execute_result",
          "data": {
            "text/plain": [
              "24611"
            ]
          },
          "metadata": {
            "tags": []
          },
          "execution_count": 49
        }
      ]
    },
    {
      "cell_type": "code",
      "metadata": {
        "id": "aMngETmpC8q5",
        "colab_type": "code",
        "colab": {
          "base_uri": "https://localhost:8080/",
          "height": 33
        },
        "outputId": "f0a9f7f1-87f4-49d2-b076-79684d6ffad7"
      },
      "source": [
        "df.groupby('candidate')"
      ],
      "execution_count": 50,
      "outputs": [
        {
          "output_type": "execute_result",
          "data": {
            "text/plain": [
              "<pandas.core.groupby.generic.DataFrameGroupBy object at 0x7f57cc370e10>"
            ]
          },
          "metadata": {
            "tags": []
          },
          "execution_count": 50
        }
      ]
    },
    {
      "cell_type": "code",
      "metadata": {
        "id": "I4zp1O91DARM",
        "colab_type": "code",
        "colab": {
          "base_uri": "https://localhost:8080/",
          "height": 565
        },
        "outputId": "263019cf-1d37-4d25-fdf4-213e3ea1f4cb"
      },
      "source": [
        "df.groupby('candidate').aggregate({'votes': [min,np.mean,max]})\n",
        "### realiza agrupamento da colna candidate, e em cimad desse agrupamento, realiza-se o calculo em cima da \n",
        "### coluna votes de minimo, media, e maximo de cada candidato agrupado"
      ],
      "execution_count": 52,
      "outputs": [
        {
          "output_type": "execute_result",
          "data": {
            "text/html": [
              "<div>\n",
              "<style scoped>\n",
              "    .dataframe tbody tr th:only-of-type {\n",
              "        vertical-align: middle;\n",
              "    }\n",
              "\n",
              "    .dataframe tbody tr th {\n",
              "        vertical-align: top;\n",
              "    }\n",
              "\n",
              "    .dataframe thead tr th {\n",
              "        text-align: left;\n",
              "    }\n",
              "\n",
              "    .dataframe thead tr:last-of-type th {\n",
              "        text-align: right;\n",
              "    }\n",
              "</style>\n",
              "<table border=\"1\" class=\"dataframe\">\n",
              "  <thead>\n",
              "    <tr>\n",
              "      <th></th>\n",
              "      <th colspan=\"3\" halign=\"left\">votes</th>\n",
              "    </tr>\n",
              "    <tr>\n",
              "      <th></th>\n",
              "      <th>min</th>\n",
              "      <th>mean</th>\n",
              "      <th>max</th>\n",
              "    </tr>\n",
              "    <tr>\n",
              "      <th>candidate</th>\n",
              "      <th></th>\n",
              "      <th></th>\n",
              "      <th></th>\n",
              "    </tr>\n",
              "  </thead>\n",
              "  <tbody>\n",
              "    <tr>\n",
              "      <th>No Preference</th>\n",
              "      <td>0</td>\n",
              "      <td>23.225071</td>\n",
              "      <td>580</td>\n",
              "    </tr>\n",
              "    <tr>\n",
              "      <th>Uncommitted</th>\n",
              "      <td>0</td>\n",
              "      <td>0.434343</td>\n",
              "      <td>16</td>\n",
              "    </tr>\n",
              "    <tr>\n",
              "      <th>Ben Carson</th>\n",
              "      <td>0</td>\n",
              "      <td>338.258238</td>\n",
              "      <td>9945</td>\n",
              "    </tr>\n",
              "    <tr>\n",
              "      <th>Bernie Sanders</th>\n",
              "      <td>0</td>\n",
              "      <td>2844.019501</td>\n",
              "      <td>434656</td>\n",
              "    </tr>\n",
              "    <tr>\n",
              "      <th>Carly Fiorina</th>\n",
              "      <td>0</td>\n",
              "      <td>139.366972</td>\n",
              "      <td>3612</td>\n",
              "    </tr>\n",
              "    <tr>\n",
              "      <th>Chris Christie</th>\n",
              "      <td>1</td>\n",
              "      <td>223.422018</td>\n",
              "      <td>7144</td>\n",
              "    </tr>\n",
              "    <tr>\n",
              "      <th>Donald Trump</th>\n",
              "      <td>0</td>\n",
              "      <td>3709.576408</td>\n",
              "      <td>179130</td>\n",
              "    </tr>\n",
              "    <tr>\n",
              "      <th>Hillary Clinton</th>\n",
              "      <td>0</td>\n",
              "      <td>3731.855410</td>\n",
              "      <td>590502</td>\n",
              "    </tr>\n",
              "    <tr>\n",
              "      <th>Jeb Bush</th>\n",
              "      <td>2</td>\n",
              "      <td>609.103226</td>\n",
              "      <td>9575</td>\n",
              "    </tr>\n",
              "    <tr>\n",
              "      <th>John Kasich</th>\n",
              "      <td>0</td>\n",
              "      <td>1160.052705</td>\n",
              "      <td>101217</td>\n",
              "    </tr>\n",
              "    <tr>\n",
              "      <th>Marco Rubio</th>\n",
              "      <td>0</td>\n",
              "      <td>1299.834051</td>\n",
              "      <td>111898</td>\n",
              "    </tr>\n",
              "    <tr>\n",
              "      <th>Martin O'Malley</th>\n",
              "      <td>0</td>\n",
              "      <td>7.595960</td>\n",
              "      <td>152</td>\n",
              "    </tr>\n",
              "    <tr>\n",
              "      <th>Mike Huckabee</th>\n",
              "      <td>2</td>\n",
              "      <td>33.787879</td>\n",
              "      <td>565</td>\n",
              "    </tr>\n",
              "    <tr>\n",
              "      <th>Rand Paul</th>\n",
              "      <td>2</td>\n",
              "      <td>85.646465</td>\n",
              "      <td>1633</td>\n",
              "    </tr>\n",
              "    <tr>\n",
              "      <th>Rick Santorum</th>\n",
              "      <td>0</td>\n",
              "      <td>18.000000</td>\n",
              "      <td>234</td>\n",
              "    </tr>\n",
              "    <tr>\n",
              "      <th>Ted Cruz</th>\n",
              "      <td>0</td>\n",
              "      <td>2120.191299</td>\n",
              "      <td>147721</td>\n",
              "    </tr>\n",
              "  </tbody>\n",
              "</table>\n",
              "</div>"
            ],
            "text/plain": [
              "                votes                     \n",
              "                  min         mean     max\n",
              "candidate                                 \n",
              " No Preference      0    23.225071     580\n",
              " Uncommitted        0     0.434343      16\n",
              "Ben Carson          0   338.258238    9945\n",
              "Bernie Sanders      0  2844.019501  434656\n",
              "Carly Fiorina       0   139.366972    3612\n",
              "Chris Christie      1   223.422018    7144\n",
              "Donald Trump        0  3709.576408  179130\n",
              "Hillary Clinton     0  3731.855410  590502\n",
              "Jeb Bush            2   609.103226    9575\n",
              "John Kasich         0  1160.052705  101217\n",
              "Marco Rubio         0  1299.834051  111898\n",
              "Martin O'Malley     0     7.595960     152\n",
              "Mike Huckabee       2    33.787879     565\n",
              "Rand Paul           2    85.646465    1633\n",
              "Rick Santorum       0    18.000000     234\n",
              "Ted Cruz            0  2120.191299  147721"
            ]
          },
          "metadata": {
            "tags": []
          },
          "execution_count": 52
        }
      ]
    },
    {
      "cell_type": "code",
      "metadata": {
        "id": "cPYG3CYHQh_Z",
        "colab_type": "code",
        "colab": {
          "base_uri": "https://localhost:8080/",
          "height": 112
        },
        "outputId": "d13cc15b-2394-44ad-fe1b-40ee242dfad2"
      },
      "source": [
        "df[df['votes']== 590502]"
      ],
      "execution_count": 53,
      "outputs": [
        {
          "output_type": "execute_result",
          "data": {
            "text/html": [
              "<div>\n",
              "<style scoped>\n",
              "    .dataframe tbody tr th:only-of-type {\n",
              "        vertical-align: middle;\n",
              "    }\n",
              "\n",
              "    .dataframe tbody tr th {\n",
              "        vertical-align: top;\n",
              "    }\n",
              "\n",
              "    .dataframe thead th {\n",
              "        text-align: right;\n",
              "    }\n",
              "</style>\n",
              "<table border=\"1\" class=\"dataframe\">\n",
              "  <thead>\n",
              "    <tr style=\"text-align: right;\">\n",
              "      <th></th>\n",
              "      <th>state</th>\n",
              "      <th>state_abbreviation</th>\n",
              "      <th>county</th>\n",
              "      <th>fips</th>\n",
              "      <th>party</th>\n",
              "      <th>candidate</th>\n",
              "      <th>votes</th>\n",
              "      <th>fraction_votes</th>\n",
              "    </tr>\n",
              "  </thead>\n",
              "  <tbody>\n",
              "    <tr>\n",
              "      <th>1386</th>\n",
              "      <td>California</td>\n",
              "      <td>CA</td>\n",
              "      <td>Los Angeles</td>\n",
              "      <td>6037.0</td>\n",
              "      <td>Democrat</td>\n",
              "      <td>Hillary Clinton</td>\n",
              "      <td>590502</td>\n",
              "      <td>0.57</td>\n",
              "    </tr>\n",
              "  </tbody>\n",
              "</table>\n",
              "</div>"
            ],
            "text/plain": [
              "           state state_abbreviation  ...   votes  fraction_votes\n",
              "1386  California                 CA  ...  590502            0.57\n",
              "\n",
              "[1 rows x 8 columns]"
            ]
          },
          "metadata": {
            "tags": []
          },
          "execution_count": 53
        }
      ]
    },
    {
      "cell_type": "code",
      "metadata": {
        "id": "rRI0z0q0Qs6S",
        "colab_type": "code",
        "colab": {
          "base_uri": "https://localhost:8080/",
          "height": 565
        },
        "outputId": "514d67eb-5534-4c55-bbd6-222521d590db"
      },
      "source": [
        "df.groupby('candidate').aggregate({'fraction_votes': [min,np.mean,max]})"
      ],
      "execution_count": 55,
      "outputs": [
        {
          "output_type": "execute_result",
          "data": {
            "text/html": [
              "<div>\n",
              "<style scoped>\n",
              "    .dataframe tbody tr th:only-of-type {\n",
              "        vertical-align: middle;\n",
              "    }\n",
              "\n",
              "    .dataframe tbody tr th {\n",
              "        vertical-align: top;\n",
              "    }\n",
              "\n",
              "    .dataframe thead tr th {\n",
              "        text-align: left;\n",
              "    }\n",
              "\n",
              "    .dataframe thead tr:last-of-type th {\n",
              "        text-align: right;\n",
              "    }\n",
              "</style>\n",
              "<table border=\"1\" class=\"dataframe\">\n",
              "  <thead>\n",
              "    <tr>\n",
              "      <th></th>\n",
              "      <th colspan=\"3\" halign=\"left\">fraction_votes</th>\n",
              "    </tr>\n",
              "    <tr>\n",
              "      <th></th>\n",
              "      <th>min</th>\n",
              "      <th>mean</th>\n",
              "      <th>max</th>\n",
              "    </tr>\n",
              "    <tr>\n",
              "      <th>candidate</th>\n",
              "      <th></th>\n",
              "      <th></th>\n",
              "      <th></th>\n",
              "    </tr>\n",
              "  </thead>\n",
              "  <tbody>\n",
              "    <tr>\n",
              "      <th>No Preference</th>\n",
              "      <td>0.000</td>\n",
              "      <td>0.006484</td>\n",
              "      <td>0.030000</td>\n",
              "    </tr>\n",
              "    <tr>\n",
              "      <th>Uncommitted</th>\n",
              "      <td>0.000</td>\n",
              "      <td>0.000455</td>\n",
              "      <td>0.013000</td>\n",
              "    </tr>\n",
              "    <tr>\n",
              "      <th>Ben Carson</th>\n",
              "      <td>0.000</td>\n",
              "      <td>0.058941</td>\n",
              "      <td>0.415000</td>\n",
              "    </tr>\n",
              "    <tr>\n",
              "      <th>Bernie Sanders</th>\n",
              "      <td>0.000</td>\n",
              "      <td>0.493316</td>\n",
              "      <td>1.000000</td>\n",
              "    </tr>\n",
              "    <tr>\n",
              "      <th>Carly Fiorina</th>\n",
              "      <td>0.000</td>\n",
              "      <td>0.022097</td>\n",
              "      <td>0.117000</td>\n",
              "    </tr>\n",
              "    <tr>\n",
              "      <th>Chris Christie</th>\n",
              "      <td>0.002</td>\n",
              "      <td>0.017773</td>\n",
              "      <td>0.087195</td>\n",
              "    </tr>\n",
              "    <tr>\n",
              "      <th>Donald Trump</th>\n",
              "      <td>0.000</td>\n",
              "      <td>0.466217</td>\n",
              "      <td>0.915000</td>\n",
              "    </tr>\n",
              "    <tr>\n",
              "      <th>Hillary Clinton</th>\n",
              "      <td>0.000</td>\n",
              "      <td>0.461302</td>\n",
              "      <td>1.000000</td>\n",
              "    </tr>\n",
              "    <tr>\n",
              "      <th>Jeb Bush</th>\n",
              "      <td>0.004</td>\n",
              "      <td>0.044524</td>\n",
              "      <td>0.121000</td>\n",
              "    </tr>\n",
              "    <tr>\n",
              "      <th>John Kasich</th>\n",
              "      <td>0.000</td>\n",
              "      <td>0.122869</td>\n",
              "      <td>0.639000</td>\n",
              "    </tr>\n",
              "    <tr>\n",
              "      <th>Marco Rubio</th>\n",
              "      <td>0.000</td>\n",
              "      <td>0.146959</td>\n",
              "      <td>0.627000</td>\n",
              "    </tr>\n",
              "    <tr>\n",
              "      <th>Martin O'Malley</th>\n",
              "      <td>0.000</td>\n",
              "      <td>0.008303</td>\n",
              "      <td>0.132000</td>\n",
              "    </tr>\n",
              "    <tr>\n",
              "      <th>Mike Huckabee</th>\n",
              "      <td>0.003</td>\n",
              "      <td>0.024192</td>\n",
              "      <td>0.096000</td>\n",
              "    </tr>\n",
              "    <tr>\n",
              "      <th>Rand Paul</th>\n",
              "      <td>0.006</td>\n",
              "      <td>0.034061</td>\n",
              "      <td>0.096000</td>\n",
              "    </tr>\n",
              "    <tr>\n",
              "      <th>Rick Santorum</th>\n",
              "      <td>0.000</td>\n",
              "      <td>0.009960</td>\n",
              "      <td>0.073000</td>\n",
              "    </tr>\n",
              "    <tr>\n",
              "      <th>Ted Cruz</th>\n",
              "      <td>0.000</td>\n",
              "      <td>0.243453</td>\n",
              "      <td>1.000000</td>\n",
              "    </tr>\n",
              "  </tbody>\n",
              "</table>\n",
              "</div>"
            ],
            "text/plain": [
              "                fraction_votes                    \n",
              "                           min      mean       max\n",
              "candidate                                         \n",
              " No Preference           0.000  0.006484  0.030000\n",
              " Uncommitted             0.000  0.000455  0.013000\n",
              "Ben Carson               0.000  0.058941  0.415000\n",
              "Bernie Sanders           0.000  0.493316  1.000000\n",
              "Carly Fiorina            0.000  0.022097  0.117000\n",
              "Chris Christie           0.002  0.017773  0.087195\n",
              "Donald Trump             0.000  0.466217  0.915000\n",
              "Hillary Clinton          0.000  0.461302  1.000000\n",
              "Jeb Bush                 0.004  0.044524  0.121000\n",
              "John Kasich              0.000  0.122869  0.639000\n",
              "Marco Rubio              0.000  0.146959  0.627000\n",
              "Martin O'Malley          0.000  0.008303  0.132000\n",
              "Mike Huckabee            0.003  0.024192  0.096000\n",
              "Rand Paul                0.006  0.034061  0.096000\n",
              "Rick Santorum            0.000  0.009960  0.073000\n",
              "Ted Cruz                 0.000  0.243453  1.000000"
            ]
          },
          "metadata": {
            "tags": []
          },
          "execution_count": 55
        }
      ]
    },
    {
      "cell_type": "code",
      "metadata": {
        "id": "IrbGVUqrQ2AU",
        "colab_type": "code",
        "colab": {
          "base_uri": "https://localhost:8080/",
          "height": 1000
        },
        "outputId": "abdf86b2-3ffd-4e1b-a88e-a121c45f8237"
      },
      "source": [
        "df[(df['fraction_votes'] == 1) & (df['candidate'] == 'Hillary Clinton')]"
      ],
      "execution_count": 63,
      "outputs": [
        {
          "output_type": "execute_result",
          "data": {
            "text/html": [
              "<div>\n",
              "<style scoped>\n",
              "    .dataframe tbody tr th:only-of-type {\n",
              "        vertical-align: middle;\n",
              "    }\n",
              "\n",
              "    .dataframe tbody tr th {\n",
              "        vertical-align: top;\n",
              "    }\n",
              "\n",
              "    .dataframe thead th {\n",
              "        text-align: right;\n",
              "    }\n",
              "</style>\n",
              "<table border=\"1\" class=\"dataframe\">\n",
              "  <thead>\n",
              "    <tr style=\"text-align: right;\">\n",
              "      <th></th>\n",
              "      <th>state</th>\n",
              "      <th>state_abbreviation</th>\n",
              "      <th>county</th>\n",
              "      <th>fips</th>\n",
              "      <th>party</th>\n",
              "      <th>candidate</th>\n",
              "      <th>votes</th>\n",
              "      <th>fraction_votes</th>\n",
              "    </tr>\n",
              "  </thead>\n",
              "  <tbody>\n",
              "    <tr>\n",
              "      <th>8142</th>\n",
              "      <td>Maine</td>\n",
              "      <td>ME</td>\n",
              "      <td>Amity</td>\n",
              "      <td>92300012.0</td>\n",
              "      <td>Democrat</td>\n",
              "      <td>Hillary Clinton</td>\n",
              "      <td>1</td>\n",
              "      <td>1.0</td>\n",
              "    </tr>\n",
              "    <tr>\n",
              "      <th>8160</th>\n",
              "      <td>Maine</td>\n",
              "      <td>ME</td>\n",
              "      <td>Atkinson</td>\n",
              "      <td>92300020.0</td>\n",
              "      <td>Democrat</td>\n",
              "      <td>Hillary Clinton</td>\n",
              "      <td>1</td>\n",
              "      <td>1.0</td>\n",
              "    </tr>\n",
              "    <tr>\n",
              "      <th>8168</th>\n",
              "      <td>Maine</td>\n",
              "      <td>ME</td>\n",
              "      <td>Avon</td>\n",
              "      <td>92300024.0</td>\n",
              "      <td>Democrat</td>\n",
              "      <td>Hillary Clinton</td>\n",
              "      <td>1</td>\n",
              "      <td>1.0</td>\n",
              "    </tr>\n",
              "    <tr>\n",
              "      <th>8186</th>\n",
              "      <td>Maine</td>\n",
              "      <td>ME</td>\n",
              "      <td>Beaver Cove</td>\n",
              "      <td>92300033.0</td>\n",
              "      <td>Democrat</td>\n",
              "      <td>Hillary Clinton</td>\n",
              "      <td>1</td>\n",
              "      <td>1.0</td>\n",
              "    </tr>\n",
              "    <tr>\n",
              "      <th>8188</th>\n",
              "      <td>Maine</td>\n",
              "      <td>ME</td>\n",
              "      <td>Beddington</td>\n",
              "      <td>92300034.0</td>\n",
              "      <td>Democrat</td>\n",
              "      <td>Hillary Clinton</td>\n",
              "      <td>1</td>\n",
              "      <td>1.0</td>\n",
              "    </tr>\n",
              "    <tr>\n",
              "      <th>8292</th>\n",
              "      <td>Maine</td>\n",
              "      <td>ME</td>\n",
              "      <td>Caswell</td>\n",
              "      <td>92300088.0</td>\n",
              "      <td>Democrat</td>\n",
              "      <td>Hillary Clinton</td>\n",
              "      <td>1</td>\n",
              "      <td>1.0</td>\n",
              "    </tr>\n",
              "    <tr>\n",
              "      <th>8334</th>\n",
              "      <td>Maine</td>\n",
              "      <td>ME</td>\n",
              "      <td>Crawford</td>\n",
              "      <td>92300111.0</td>\n",
              "      <td>Democrat</td>\n",
              "      <td>Hillary Clinton</td>\n",
              "      <td>1</td>\n",
              "      <td>1.0</td>\n",
              "    </tr>\n",
              "    <tr>\n",
              "      <th>8400</th>\n",
              "      <td>Maine</td>\n",
              "      <td>ME</td>\n",
              "      <td>Edinburg</td>\n",
              "      <td>92300144.0</td>\n",
              "      <td>Democrat</td>\n",
              "      <td>Hillary Clinton</td>\n",
              "      <td>1</td>\n",
              "      <td>1.0</td>\n",
              "    </tr>\n",
              "    <tr>\n",
              "      <th>8576</th>\n",
              "      <td>Maine</td>\n",
              "      <td>ME</td>\n",
              "      <td>Lakeville</td>\n",
              "      <td>92300235.0</td>\n",
              "      <td>Democrat</td>\n",
              "      <td>Hillary Clinton</td>\n",
              "      <td>1</td>\n",
              "      <td>1.0</td>\n",
              "    </tr>\n",
              "    <tr>\n",
              "      <th>8650</th>\n",
              "      <td>Maine</td>\n",
              "      <td>ME</td>\n",
              "      <td>Masardis</td>\n",
              "      <td>92300274.0</td>\n",
              "      <td>Democrat</td>\n",
              "      <td>Hillary Clinton</td>\n",
              "      <td>1</td>\n",
              "      <td>1.0</td>\n",
              "    </tr>\n",
              "    <tr>\n",
              "      <th>8700</th>\n",
              "      <td>Maine</td>\n",
              "      <td>ME</td>\n",
              "      <td>Moscow</td>\n",
              "      <td>92300301.0</td>\n",
              "      <td>Democrat</td>\n",
              "      <td>Hillary Clinton</td>\n",
              "      <td>1</td>\n",
              "      <td>1.0</td>\n",
              "    </tr>\n",
              "    <tr>\n",
              "      <th>8710</th>\n",
              "      <td>Maine</td>\n",
              "      <td>ME</td>\n",
              "      <td>New Canada</td>\n",
              "      <td>92300308.0</td>\n",
              "      <td>Democrat</td>\n",
              "      <td>Hillary Clinton</td>\n",
              "      <td>1</td>\n",
              "      <td>1.0</td>\n",
              "    </tr>\n",
              "    <tr>\n",
              "      <th>8744</th>\n",
              "      <td>Maine</td>\n",
              "      <td>ME</td>\n",
              "      <td>Northfield</td>\n",
              "      <td>92300322.0</td>\n",
              "      <td>Democrat</td>\n",
              "      <td>Hillary Clinton</td>\n",
              "      <td>1</td>\n",
              "      <td>1.0</td>\n",
              "    </tr>\n",
              "    <tr>\n",
              "      <th>8770</th>\n",
              "      <td>Maine</td>\n",
              "      <td>ME</td>\n",
              "      <td>Otis</td>\n",
              "      <td>92300338.0</td>\n",
              "      <td>Democrat</td>\n",
              "      <td>Hillary Clinton</td>\n",
              "      <td>1</td>\n",
              "      <td>1.0</td>\n",
              "    </tr>\n",
              "    <tr>\n",
              "      <th>8828</th>\n",
              "      <td>Maine</td>\n",
              "      <td>ME</td>\n",
              "      <td>Portage Lake</td>\n",
              "      <td>92300364.0</td>\n",
              "      <td>Democrat</td>\n",
              "      <td>Hillary Clinton</td>\n",
              "      <td>1</td>\n",
              "      <td>1.0</td>\n",
              "    </tr>\n",
              "    <tr>\n",
              "      <th>8866</th>\n",
              "      <td>Maine</td>\n",
              "      <td>ME</td>\n",
              "      <td>Roque Bluffs</td>\n",
              "      <td>92300384.0</td>\n",
              "      <td>Democrat</td>\n",
              "      <td>Hillary Clinton</td>\n",
              "      <td>1</td>\n",
              "      <td>1.0</td>\n",
              "    </tr>\n",
              "    <tr>\n",
              "      <th>8932</th>\n",
              "      <td>Maine</td>\n",
              "      <td>ME</td>\n",
              "      <td>Springfield</td>\n",
              "      <td>92300421.0</td>\n",
              "      <td>Democrat</td>\n",
              "      <td>Hillary Clinton</td>\n",
              "      <td>1</td>\n",
              "      <td>1.0</td>\n",
              "    </tr>\n",
              "    <tr>\n",
              "      <th>8974</th>\n",
              "      <td>Maine</td>\n",
              "      <td>ME</td>\n",
              "      <td>Sweden</td>\n",
              "      <td>92300438.0</td>\n",
              "      <td>Democrat</td>\n",
              "      <td>Hillary Clinton</td>\n",
              "      <td>1</td>\n",
              "      <td>1.0</td>\n",
              "    </tr>\n",
              "    <tr>\n",
              "      <th>9018</th>\n",
              "      <td>Maine</td>\n",
              "      <td>ME</td>\n",
              "      <td>Wade</td>\n",
              "      <td>92300464.0</td>\n",
              "      <td>Democrat</td>\n",
              "      <td>Hillary Clinton</td>\n",
              "      <td>1</td>\n",
              "      <td>1.0</td>\n",
              "    </tr>\n",
              "    <tr>\n",
              "      <th>9052</th>\n",
              "      <td>Maine</td>\n",
              "      <td>ME</td>\n",
              "      <td>Wellington</td>\n",
              "      <td>92300480.0</td>\n",
              "      <td>Democrat</td>\n",
              "      <td>Hillary Clinton</td>\n",
              "      <td>1</td>\n",
              "      <td>1.0</td>\n",
              "    </tr>\n",
              "    <tr>\n",
              "      <th>9070</th>\n",
              "      <td>Maine</td>\n",
              "      <td>ME</td>\n",
              "      <td>Westmanland</td>\n",
              "      <td>92300488.0</td>\n",
              "      <td>Democrat</td>\n",
              "      <td>Hillary Clinton</td>\n",
              "      <td>1</td>\n",
              "      <td>1.0</td>\n",
              "    </tr>\n",
              "    <tr>\n",
              "      <th>14088</th>\n",
              "      <td>Nebraska</td>\n",
              "      <td>NE</td>\n",
              "      <td>Hayes</td>\n",
              "      <td>31085.0</td>\n",
              "      <td>Democrat</td>\n",
              "      <td>Hillary Clinton</td>\n",
              "      <td>9</td>\n",
              "      <td>1.0</td>\n",
              "    </tr>\n",
              "    <tr>\n",
              "      <th>14174</th>\n",
              "      <td>Nebraska</td>\n",
              "      <td>NE</td>\n",
              "      <td>Thomas</td>\n",
              "      <td>31171.0</td>\n",
              "      <td>Democrat</td>\n",
              "      <td>Hillary Clinton</td>\n",
              "      <td>1</td>\n",
              "      <td>1.0</td>\n",
              "    </tr>\n",
              "  </tbody>\n",
              "</table>\n",
              "</div>"
            ],
            "text/plain": [
              "          state state_abbreviation  ... votes  fraction_votes\n",
              "8142      Maine                 ME  ...     1             1.0\n",
              "8160      Maine                 ME  ...     1             1.0\n",
              "8168      Maine                 ME  ...     1             1.0\n",
              "8186      Maine                 ME  ...     1             1.0\n",
              "8188      Maine                 ME  ...     1             1.0\n",
              "8292      Maine                 ME  ...     1             1.0\n",
              "8334      Maine                 ME  ...     1             1.0\n",
              "8400      Maine                 ME  ...     1             1.0\n",
              "8576      Maine                 ME  ...     1             1.0\n",
              "8650      Maine                 ME  ...     1             1.0\n",
              "8700      Maine                 ME  ...     1             1.0\n",
              "8710      Maine                 ME  ...     1             1.0\n",
              "8744      Maine                 ME  ...     1             1.0\n",
              "8770      Maine                 ME  ...     1             1.0\n",
              "8828      Maine                 ME  ...     1             1.0\n",
              "8866      Maine                 ME  ...     1             1.0\n",
              "8932      Maine                 ME  ...     1             1.0\n",
              "8974      Maine                 ME  ...     1             1.0\n",
              "9018      Maine                 ME  ...     1             1.0\n",
              "9052      Maine                 ME  ...     1             1.0\n",
              "9070      Maine                 ME  ...     1             1.0\n",
              "14088  Nebraska                 NE  ...     9             1.0\n",
              "14174  Nebraska                 NE  ...     1             1.0\n",
              "\n",
              "[23 rows x 8 columns]"
            ]
          },
          "metadata": {
            "tags": []
          },
          "execution_count": 63
        }
      ]
    },
    {
      "cell_type": "code",
      "metadata": {
        "id": "0fpV0a9VQ5ct",
        "colab_type": "code",
        "colab": {
          "base_uri": "https://localhost:8080/",
          "height": 33
        },
        "outputId": "6c203721-af9c-4d10-8204-414bf861cd70"
      },
      "source": [
        "df.groupby(\"state\")"
      ],
      "execution_count": 66,
      "outputs": [
        {
          "output_type": "execute_result",
          "data": {
            "text/plain": [
              "<pandas.core.groupby.generic.DataFrameGroupBy object at 0x7f57cc3a4dd8>"
            ]
          },
          "metadata": {
            "tags": []
          },
          "execution_count": 66
        }
      ]
    },
    {
      "cell_type": "code",
      "metadata": {
        "id": "oWvOUveHXFqY",
        "colab_type": "code",
        "colab": {
          "base_uri": "https://localhost:8080/",
          "height": 541
        },
        "outputId": "b4a1293d-60d7-44d7-d660-ef5a900da413"
      },
      "source": [
        "def fraction_votes_filter(x):\n",
        "  return x['votes'].sum() > 1000000\n",
        "df.groupby('state').filter(fraction_votes_filter)"
      ],
      "execution_count": 70,
      "outputs": [
        {
          "output_type": "execute_result",
          "data": {
            "text/html": [
              "<div>\n",
              "<style scoped>\n",
              "    .dataframe tbody tr th:only-of-type {\n",
              "        vertical-align: middle;\n",
              "    }\n",
              "\n",
              "    .dataframe tbody tr th {\n",
              "        vertical-align: top;\n",
              "    }\n",
              "\n",
              "    .dataframe thead th {\n",
              "        text-align: right;\n",
              "    }\n",
              "</style>\n",
              "<table border=\"1\" class=\"dataframe\">\n",
              "  <thead>\n",
              "    <tr style=\"text-align: right;\">\n",
              "      <th></th>\n",
              "      <th>state</th>\n",
              "      <th>state_abbreviation</th>\n",
              "      <th>county</th>\n",
              "      <th>fips</th>\n",
              "      <th>party</th>\n",
              "      <th>candidate</th>\n",
              "      <th>votes</th>\n",
              "      <th>fraction_votes</th>\n",
              "    </tr>\n",
              "  </thead>\n",
              "  <tbody>\n",
              "    <tr>\n",
              "      <th>0</th>\n",
              "      <td>Alabama</td>\n",
              "      <td>AL</td>\n",
              "      <td>Autauga</td>\n",
              "      <td>1001.0</td>\n",
              "      <td>Democrat</td>\n",
              "      <td>Bernie Sanders</td>\n",
              "      <td>544</td>\n",
              "      <td>0.182</td>\n",
              "    </tr>\n",
              "    <tr>\n",
              "      <th>1</th>\n",
              "      <td>Alabama</td>\n",
              "      <td>AL</td>\n",
              "      <td>Autauga</td>\n",
              "      <td>1001.0</td>\n",
              "      <td>Democrat</td>\n",
              "      <td>Hillary Clinton</td>\n",
              "      <td>2387</td>\n",
              "      <td>0.800</td>\n",
              "    </tr>\n",
              "    <tr>\n",
              "      <th>2</th>\n",
              "      <td>Alabama</td>\n",
              "      <td>AL</td>\n",
              "      <td>Baldwin</td>\n",
              "      <td>1003.0</td>\n",
              "      <td>Democrat</td>\n",
              "      <td>Bernie Sanders</td>\n",
              "      <td>2694</td>\n",
              "      <td>0.329</td>\n",
              "    </tr>\n",
              "    <tr>\n",
              "      <th>3</th>\n",
              "      <td>Alabama</td>\n",
              "      <td>AL</td>\n",
              "      <td>Baldwin</td>\n",
              "      <td>1003.0</td>\n",
              "      <td>Democrat</td>\n",
              "      <td>Hillary Clinton</td>\n",
              "      <td>5290</td>\n",
              "      <td>0.647</td>\n",
              "    </tr>\n",
              "    <tr>\n",
              "      <th>4</th>\n",
              "      <td>Alabama</td>\n",
              "      <td>AL</td>\n",
              "      <td>Barbour</td>\n",
              "      <td>1005.0</td>\n",
              "      <td>Democrat</td>\n",
              "      <td>Bernie Sanders</td>\n",
              "      <td>222</td>\n",
              "      <td>0.078</td>\n",
              "    </tr>\n",
              "    <tr>\n",
              "      <th>...</th>\n",
              "      <td>...</td>\n",
              "      <td>...</td>\n",
              "      <td>...</td>\n",
              "      <td>...</td>\n",
              "      <td>...</td>\n",
              "      <td>...</td>\n",
              "      <td>...</td>\n",
              "      <td>...</td>\n",
              "    </tr>\n",
              "    <tr>\n",
              "      <th>24512</th>\n",
              "      <td>Wisconsin</td>\n",
              "      <td>WI</td>\n",
              "      <td>Winnebago</td>\n",
              "      <td>55139.0</td>\n",
              "      <td>Republican</td>\n",
              "      <td>John Kasich</td>\n",
              "      <td>3952</td>\n",
              "      <td>0.115</td>\n",
              "    </tr>\n",
              "    <tr>\n",
              "      <th>24513</th>\n",
              "      <td>Wisconsin</td>\n",
              "      <td>WI</td>\n",
              "      <td>Winnebago</td>\n",
              "      <td>55139.0</td>\n",
              "      <td>Republican</td>\n",
              "      <td>Ted Cruz</td>\n",
              "      <td>16049</td>\n",
              "      <td>0.469</td>\n",
              "    </tr>\n",
              "    <tr>\n",
              "      <th>24514</th>\n",
              "      <td>Wisconsin</td>\n",
              "      <td>WI</td>\n",
              "      <td>Wood</td>\n",
              "      <td>55141.0</td>\n",
              "      <td>Republican</td>\n",
              "      <td>Donald Trump</td>\n",
              "      <td>6941</td>\n",
              "      <td>0.432</td>\n",
              "    </tr>\n",
              "    <tr>\n",
              "      <th>24515</th>\n",
              "      <td>Wisconsin</td>\n",
              "      <td>WI</td>\n",
              "      <td>Wood</td>\n",
              "      <td>55141.0</td>\n",
              "      <td>Republican</td>\n",
              "      <td>John Kasich</td>\n",
              "      <td>1479</td>\n",
              "      <td>0.092</td>\n",
              "    </tr>\n",
              "    <tr>\n",
              "      <th>24516</th>\n",
              "      <td>Wisconsin</td>\n",
              "      <td>WI</td>\n",
              "      <td>Wood</td>\n",
              "      <td>55141.0</td>\n",
              "      <td>Republican</td>\n",
              "      <td>Ted Cruz</td>\n",
              "      <td>7220</td>\n",
              "      <td>0.450</td>\n",
              "    </tr>\n",
              "  </tbody>\n",
              "</table>\n",
              "<p>13448 rows × 8 columns</p>\n",
              "</div>"
            ],
            "text/plain": [
              "           state state_abbreviation  ...  votes  fraction_votes\n",
              "0        Alabama                 AL  ...    544           0.182\n",
              "1        Alabama                 AL  ...   2387           0.800\n",
              "2        Alabama                 AL  ...   2694           0.329\n",
              "3        Alabama                 AL  ...   5290           0.647\n",
              "4        Alabama                 AL  ...    222           0.078\n",
              "...          ...                ...  ...    ...             ...\n",
              "24512  Wisconsin                 WI  ...   3952           0.115\n",
              "24513  Wisconsin                 WI  ...  16049           0.469\n",
              "24514  Wisconsin                 WI  ...   6941           0.432\n",
              "24515  Wisconsin                 WI  ...   1479           0.092\n",
              "24516  Wisconsin                 WI  ...   7220           0.450\n",
              "\n",
              "[13448 rows x 8 columns]"
            ]
          },
          "metadata": {
            "tags": []
          },
          "execution_count": 70
        }
      ]
    },
    {
      "cell_type": "code",
      "metadata": {
        "id": "L4lm3rMfXnJ-",
        "colab_type": "code",
        "colab": {
          "base_uri": "https://localhost:8080/",
          "height": 33
        },
        "outputId": "397c0fcb-5511-466d-e38f-1ca62245f47c"
      },
      "source": [
        "df[df['state_abbreviation'] == 'AL']['votes'].sum()"
      ],
      "execution_count": 73,
      "outputs": [
        {
          "output_type": "execute_result",
          "data": {
            "text/plain": [
              "1223959"
            ]
          },
          "metadata": {
            "tags": []
          },
          "execution_count": 73
        }
      ]
    },
    {
      "cell_type": "code",
      "metadata": {
        "id": "N8zBf6QPYBh4",
        "colab_type": "code",
        "colab": {
          "base_uri": "https://localhost:8080/",
          "height": 228
        },
        "outputId": "8a7a372f-6fce-4bf6-9096-4eacec1a34de"
      },
      "source": [
        "df.groupby(['state_abbreviation','candidate'])['votes'].sum()"
      ],
      "execution_count": 75,
      "outputs": [
        {
          "output_type": "execute_result",
          "data": {
            "text/plain": [
              "state_abbreviation  candidate      \n",
              "AK                  Ben Carson         2401\n",
              "                    Bernie Sanders      440\n",
              "                    Donald Trump       7346\n",
              "                    Hillary Clinton      99\n",
              "                    John Kasich         892\n",
              "                                       ... \n",
              "WY                  Donald Trump         70\n",
              "                    Hillary Clinton     124\n",
              "                    John Kasich           0\n",
              "                    Marco Rubio         189\n",
              "                    Ted Cruz            644\n",
              "Name: votes, Length: 290, dtype: int64"
            ]
          },
          "metadata": {
            "tags": []
          },
          "execution_count": 75
        }
      ]
    },
    {
      "cell_type": "code",
      "metadata": {
        "id": "C1SpepdzYMSW",
        "colab_type": "code",
        "colab": {
          "base_uri": "https://localhost:8080/",
          "height": 35
        },
        "outputId": "c2b6e674-7f32-4cf8-ff61-1049f0c175f1"
      },
      "source": [
        "\"\"\"\n",
        "acima do grupby é possivel colocar um agregate ou um filter para analisar melhor os dados\n",
        "\"\"\"\n",
        "\n",
        "\n",
        "\"\"\"\n",
        "\n",
        "Realizar merg entre dataframes\n",
        "\n",
        "\"\"\"\n",
        "\n",
        "#album_artist = pd.merge(artist,album)\n",
        "# o pandas vasculha os 2 dataframes e verifica qual coluna ambos tem em comum para realizar o marge\n",
        "# album_artist=pd.merge(artist,album, on='ArtistId)\n",
        "# para escolher qual coluna usar para o merge, usa-se o on = \"ArtistId\"\n",
        "# album.rename(columns={'artistid':'artist_id'},inplace = True)\n",
        "#album_artist = pd.merge(album, artist, left_on='artist_id',right_on='artistid',).drop('artist_id',axis=1)\n",
        "# atributos: primeiro dataframe, segundo dataframe, coluna do primeiro dataframe, coluna do segundo dataframe, exclusão de coluna duplicada verticalmente\n",
        "# descrição da coluna que sera usada no merge nos 2 dataframes\n",
        "\n",
        "# pd.merge(aluno1,aluno2, how='outer'))\n",
        "# dessa forma ele pega todos os dados dos 2 dataframes\n",
        "# how varia como script sql: outer(tudo), inte(interceção), left(apenas os dados do primeiro e em comum com direito), right(apenas os dados do segundo e em comum com esquerdo)\n"
      ],
      "execution_count": 76,
      "outputs": [
        {
          "output_type": "execute_result",
          "data": {
            "application/vnd.google.colaboratory.intrinsic+json": {
              "type": "string"
            },
            "text/plain": [
              "'\\n\\nRealizar merg entre dataframes\\n\\n'"
            ]
          },
          "metadata": {
            "tags": []
          },
          "execution_count": 76
        }
      ]
    },
    {
      "cell_type": "code",
      "metadata": {
        "id": "uIlcFZPabA0d",
        "colab_type": "code",
        "colab": {
          "base_uri": "https://localhost:8080/",
          "height": 105
        },
        "outputId": "be5fc187-50b6-4030-bb7f-d66e4916e34b"
      },
      "source": [
        "import pydataset as pdt\n",
        "import pandas as pd\n",
        "\n",
        "\"\"\"\n",
        "from db import DB\n",
        "database=DB(filename='logs.sqlite3',dbtype'sqlite')\n",
        "database.tables\n",
        "log_df=database.tables.log.all()\n",
        "log_df.head()\n",
        "log_df.dtypes\n",
        "log_df['date'] = pd.to_datetime(log_df['date], format = '%Y-%m-%d %H:%M:%S.%f')\n",
        "log_df.dtypes\n",
        "#transformar a coluna data em index\n",
        "log_df.set_index[['date'], inplace=True]\n",
        "log_df.head()\n",
        "\"\"\"\n",
        "\n",
        "teste = pdt\n",
        "dataframe=teste.data('Prostitutes') #puxando DaataFrame aleatorio do diretorio pydataset\n",
        "dataframe['date'] = pd.to_datetime(dataframe['date'], format = '%Y-%m-%d')\n",
        "dataframe.set_index(['date'], inplace = True)\n",
        "dataframe['1843-5'] #consulta a data utilizando o index como filtro\n"
      ],
      "execution_count": 119,
      "outputs": [
        {
          "output_type": "execute_result",
          "data": {
            "text/html": [
              "<div>\n",
              "<style scoped>\n",
              "    .dataframe tbody tr th:only-of-type {\n",
              "        vertical-align: middle;\n",
              "    }\n",
              "\n",
              "    .dataframe tbody tr th {\n",
              "        vertical-align: top;\n",
              "    }\n",
              "\n",
              "    .dataframe thead th {\n",
              "        text-align: right;\n",
              "    }\n",
              "</style>\n",
              "<table border=\"1\" class=\"dataframe\">\n",
              "  <thead>\n",
              "    <tr style=\"text-align: right;\">\n",
              "      <th></th>\n",
              "      <th>Year</th>\n",
              "      <th>month</th>\n",
              "      <th>count</th>\n",
              "      <th>mon</th>\n",
              "    </tr>\n",
              "    <tr>\n",
              "      <th>date</th>\n",
              "      <th></th>\n",
              "      <th></th>\n",
              "      <th></th>\n",
              "      <th></th>\n",
              "    </tr>\n",
              "  </thead>\n",
              "  <tbody>\n",
              "    <tr>\n",
              "      <th>1843-05-01</th>\n",
              "      <td>1843</td>\n",
              "      <td>May</td>\n",
              "      <td>3839</td>\n",
              "      <td>5</td>\n",
              "    </tr>\n",
              "  </tbody>\n",
              "</table>\n",
              "</div>"
            ],
            "text/plain": [
              "            Year month  count  mon\n",
              "date                              \n",
              "1843-05-01  1843   May   3839    5"
            ]
          },
          "metadata": {
            "tags": []
          },
          "execution_count": 119
        }
      ]
    },
    {
      "cell_type": "code",
      "metadata": {
        "id": "Nya_Krbaol9p",
        "colab_type": "code",
        "colab": {
          "base_uri": "https://localhost:8080/",
          "height": 98
        },
        "outputId": "2aa73cde-b4fa-4142-f494-744f0409fe7c"
      },
      "source": [
        "\"\"\"\n",
        "\n",
        "\n",
        "\"\"\"\n",
        "\n",
        "import pandas as pd\n",
        "import numpy as np\n",
        "\n",
        "primary_df=pd.read_csv('primary_results.csv')\n",
        "primary_df.columns\n",
        "primary_df['candidate'].unique() # valores unicos excluindo repetições\n"
      ],
      "execution_count": 130,
      "outputs": [
        {
          "output_type": "execute_result",
          "data": {
            "text/plain": [
              "array(['Bernie Sanders', 'Hillary Clinton', 'Ben Carson', 'Donald Trump',\n",
              "       'John Kasich', 'Marco Rubio', 'Ted Cruz', ' Uncommitted',\n",
              "       \"Martin O'Malley\", 'Carly Fiorina', 'Chris Christie', 'Jeb Bush',\n",
              "       'Mike Huckabee', 'Rand Paul', 'Rick Santorum', ' No Preference'],\n",
              "      dtype=object)"
            ]
          },
          "metadata": {
            "tags": []
          },
          "execution_count": 130
        }
      ]
    },
    {
      "cell_type": "code",
      "metadata": {
        "id": "X4t3qQzGvTRo",
        "colab_type": "code",
        "colab": {
          "base_uri": "https://localhost:8080/",
          "height": 420
        },
        "outputId": "f382672c-1bb7-43cb-830a-2e4837b85840"
      },
      "source": [
        "pd.pivot_table(primary_df, index=['state','party','candidate'], values=['votes'],\n",
        "               aggfunc={'votes':np.sum}\n",
        "               )"
      ],
      "execution_count": 132,
      "outputs": [
        {
          "output_type": "execute_result",
          "data": {
            "text/html": [
              "<div>\n",
              "<style scoped>\n",
              "    .dataframe tbody tr th:only-of-type {\n",
              "        vertical-align: middle;\n",
              "    }\n",
              "\n",
              "    .dataframe tbody tr th {\n",
              "        vertical-align: top;\n",
              "    }\n",
              "\n",
              "    .dataframe thead th {\n",
              "        text-align: right;\n",
              "    }\n",
              "</style>\n",
              "<table border=\"1\" class=\"dataframe\">\n",
              "  <thead>\n",
              "    <tr style=\"text-align: right;\">\n",
              "      <th></th>\n",
              "      <th></th>\n",
              "      <th></th>\n",
              "      <th>votes</th>\n",
              "    </tr>\n",
              "    <tr>\n",
              "      <th>state</th>\n",
              "      <th>party</th>\n",
              "      <th>candidate</th>\n",
              "      <th></th>\n",
              "    </tr>\n",
              "  </thead>\n",
              "  <tbody>\n",
              "    <tr>\n",
              "      <th rowspan=\"5\" valign=\"top\">Alabama</th>\n",
              "      <th rowspan=\"2\" valign=\"top\">Democrat</th>\n",
              "      <th>Bernie Sanders</th>\n",
              "      <td>76399</td>\n",
              "    </tr>\n",
              "    <tr>\n",
              "      <th>Hillary Clinton</th>\n",
              "      <td>309928</td>\n",
              "    </tr>\n",
              "    <tr>\n",
              "      <th rowspan=\"3\" valign=\"top\">Republican</th>\n",
              "      <th>Ben Carson</th>\n",
              "      <td>87517</td>\n",
              "    </tr>\n",
              "    <tr>\n",
              "      <th>Donald Trump</th>\n",
              "      <td>371735</td>\n",
              "    </tr>\n",
              "    <tr>\n",
              "      <th>John Kasich</th>\n",
              "      <td>37970</td>\n",
              "    </tr>\n",
              "    <tr>\n",
              "      <th>...</th>\n",
              "      <th>...</th>\n",
              "      <th>...</th>\n",
              "      <td>...</td>\n",
              "    </tr>\n",
              "    <tr>\n",
              "      <th rowspan=\"5\" valign=\"top\">Wyoming</th>\n",
              "      <th>Democrat</th>\n",
              "      <th>Hillary Clinton</th>\n",
              "      <td>124</td>\n",
              "    </tr>\n",
              "    <tr>\n",
              "      <th rowspan=\"4\" valign=\"top\">Republican</th>\n",
              "      <th>Donald Trump</th>\n",
              "      <td>70</td>\n",
              "    </tr>\n",
              "    <tr>\n",
              "      <th>John Kasich</th>\n",
              "      <td>0</td>\n",
              "    </tr>\n",
              "    <tr>\n",
              "      <th>Marco Rubio</th>\n",
              "      <td>189</td>\n",
              "    </tr>\n",
              "    <tr>\n",
              "      <th>Ted Cruz</th>\n",
              "      <td>644</td>\n",
              "    </tr>\n",
              "  </tbody>\n",
              "</table>\n",
              "<p>290 rows × 1 columns</p>\n",
              "</div>"
            ],
            "text/plain": [
              "                                     votes\n",
              "state   party      candidate              \n",
              "Alabama Democrat   Bernie Sanders    76399\n",
              "                   Hillary Clinton  309928\n",
              "        Republican Ben Carson        87517\n",
              "                   Donald Trump     371735\n",
              "                   John Kasich       37970\n",
              "...                                    ...\n",
              "Wyoming Democrat   Hillary Clinton     124\n",
              "        Republican Donald Trump         70\n",
              "                   John Kasich           0\n",
              "                   Marco Rubio         189\n",
              "                   Ted Cruz            644\n",
              "\n",
              "[290 rows x 1 columns]"
            ]
          },
          "metadata": {
            "tags": []
          },
          "execution_count": 132
        }
      ]
    },
    {
      "cell_type": "code",
      "metadata": {
        "id": "E92dKyiXv5gf",
        "colab_type": "code",
        "colab": {}
      },
      "source": [
        "primary_df['rank'] = primary_df.groupby(['county','party'])['votes'].rank(ascending = False)"
      ],
      "execution_count": 137,
      "outputs": []
    },
    {
      "cell_type": "code",
      "metadata": {
        "id": "FNXqer7Hwvrf",
        "colab_type": "code",
        "colab": {
          "base_uri": "https://localhost:8080/",
          "height": 573
        },
        "outputId": "56146821-dc7e-4c8b-d70f-35b78cf5c869"
      },
      "source": [
        "primary_df"
      ],
      "execution_count": 138,
      "outputs": [
        {
          "output_type": "execute_result",
          "data": {
            "text/html": [
              "<div>\n",
              "<style scoped>\n",
              "    .dataframe tbody tr th:only-of-type {\n",
              "        vertical-align: middle;\n",
              "    }\n",
              "\n",
              "    .dataframe tbody tr th {\n",
              "        vertical-align: top;\n",
              "    }\n",
              "\n",
              "    .dataframe thead th {\n",
              "        text-align: right;\n",
              "    }\n",
              "</style>\n",
              "<table border=\"1\" class=\"dataframe\">\n",
              "  <thead>\n",
              "    <tr style=\"text-align: right;\">\n",
              "      <th></th>\n",
              "      <th>state</th>\n",
              "      <th>state_abbreviation</th>\n",
              "      <th>county</th>\n",
              "      <th>fips</th>\n",
              "      <th>party</th>\n",
              "      <th>candidate</th>\n",
              "      <th>votes</th>\n",
              "      <th>fraction_votes</th>\n",
              "      <th>rank</th>\n",
              "    </tr>\n",
              "  </thead>\n",
              "  <tbody>\n",
              "    <tr>\n",
              "      <th>0</th>\n",
              "      <td>Alabama</td>\n",
              "      <td>AL</td>\n",
              "      <td>Autauga</td>\n",
              "      <td>1001.0</td>\n",
              "      <td>Democrat</td>\n",
              "      <td>Bernie Sanders</td>\n",
              "      <td>544</td>\n",
              "      <td>0.182</td>\n",
              "      <td>2.0</td>\n",
              "    </tr>\n",
              "    <tr>\n",
              "      <th>1</th>\n",
              "      <td>Alabama</td>\n",
              "      <td>AL</td>\n",
              "      <td>Autauga</td>\n",
              "      <td>1001.0</td>\n",
              "      <td>Democrat</td>\n",
              "      <td>Hillary Clinton</td>\n",
              "      <td>2387</td>\n",
              "      <td>0.800</td>\n",
              "      <td>1.0</td>\n",
              "    </tr>\n",
              "    <tr>\n",
              "      <th>2</th>\n",
              "      <td>Alabama</td>\n",
              "      <td>AL</td>\n",
              "      <td>Baldwin</td>\n",
              "      <td>1003.0</td>\n",
              "      <td>Democrat</td>\n",
              "      <td>Bernie Sanders</td>\n",
              "      <td>2694</td>\n",
              "      <td>0.329</td>\n",
              "      <td>3.0</td>\n",
              "    </tr>\n",
              "    <tr>\n",
              "      <th>3</th>\n",
              "      <td>Alabama</td>\n",
              "      <td>AL</td>\n",
              "      <td>Baldwin</td>\n",
              "      <td>1003.0</td>\n",
              "      <td>Democrat</td>\n",
              "      <td>Hillary Clinton</td>\n",
              "      <td>5290</td>\n",
              "      <td>0.647</td>\n",
              "      <td>1.0</td>\n",
              "    </tr>\n",
              "    <tr>\n",
              "      <th>4</th>\n",
              "      <td>Alabama</td>\n",
              "      <td>AL</td>\n",
              "      <td>Barbour</td>\n",
              "      <td>1005.0</td>\n",
              "      <td>Democrat</td>\n",
              "      <td>Bernie Sanders</td>\n",
              "      <td>222</td>\n",
              "      <td>0.078</td>\n",
              "      <td>4.0</td>\n",
              "    </tr>\n",
              "    <tr>\n",
              "      <th>...</th>\n",
              "      <td>...</td>\n",
              "      <td>...</td>\n",
              "      <td>...</td>\n",
              "      <td>...</td>\n",
              "      <td>...</td>\n",
              "      <td>...</td>\n",
              "      <td>...</td>\n",
              "      <td>...</td>\n",
              "      <td>...</td>\n",
              "    </tr>\n",
              "    <tr>\n",
              "      <th>24606</th>\n",
              "      <td>Wyoming</td>\n",
              "      <td>WY</td>\n",
              "      <td>Teton-Sublette</td>\n",
              "      <td>95600028.0</td>\n",
              "      <td>Republican</td>\n",
              "      <td>Ted Cruz</td>\n",
              "      <td>0</td>\n",
              "      <td>0.000</td>\n",
              "      <td>3.5</td>\n",
              "    </tr>\n",
              "    <tr>\n",
              "      <th>24607</th>\n",
              "      <td>Wyoming</td>\n",
              "      <td>WY</td>\n",
              "      <td>Uinta-Lincoln</td>\n",
              "      <td>95600027.0</td>\n",
              "      <td>Republican</td>\n",
              "      <td>Donald Trump</td>\n",
              "      <td>0</td>\n",
              "      <td>0.000</td>\n",
              "      <td>3.0</td>\n",
              "    </tr>\n",
              "    <tr>\n",
              "      <th>24608</th>\n",
              "      <td>Wyoming</td>\n",
              "      <td>WY</td>\n",
              "      <td>Uinta-Lincoln</td>\n",
              "      <td>95600027.0</td>\n",
              "      <td>Republican</td>\n",
              "      <td>John Kasich</td>\n",
              "      <td>0</td>\n",
              "      <td>0.000</td>\n",
              "      <td>3.0</td>\n",
              "    </tr>\n",
              "    <tr>\n",
              "      <th>24609</th>\n",
              "      <td>Wyoming</td>\n",
              "      <td>WY</td>\n",
              "      <td>Uinta-Lincoln</td>\n",
              "      <td>95600027.0</td>\n",
              "      <td>Republican</td>\n",
              "      <td>Marco Rubio</td>\n",
              "      <td>0</td>\n",
              "      <td>0.000</td>\n",
              "      <td>3.0</td>\n",
              "    </tr>\n",
              "    <tr>\n",
              "      <th>24610</th>\n",
              "      <td>Wyoming</td>\n",
              "      <td>WY</td>\n",
              "      <td>Uinta-Lincoln</td>\n",
              "      <td>95600027.0</td>\n",
              "      <td>Republican</td>\n",
              "      <td>Ted Cruz</td>\n",
              "      <td>53</td>\n",
              "      <td>1.000</td>\n",
              "      <td>1.0</td>\n",
              "    </tr>\n",
              "  </tbody>\n",
              "</table>\n",
              "<p>24611 rows × 9 columns</p>\n",
              "</div>"
            ],
            "text/plain": [
              "         state state_abbreviation          county  ...  votes fraction_votes rank\n",
              "0      Alabama                 AL         Autauga  ...    544          0.182  2.0\n",
              "1      Alabama                 AL         Autauga  ...   2387          0.800  1.0\n",
              "2      Alabama                 AL         Baldwin  ...   2694          0.329  3.0\n",
              "3      Alabama                 AL         Baldwin  ...   5290          0.647  1.0\n",
              "4      Alabama                 AL         Barbour  ...    222          0.078  4.0\n",
              "...        ...                ...             ...  ...    ...            ...  ...\n",
              "24606  Wyoming                 WY  Teton-Sublette  ...      0          0.000  3.5\n",
              "24607  Wyoming                 WY   Uinta-Lincoln  ...      0          0.000  3.0\n",
              "24608  Wyoming                 WY   Uinta-Lincoln  ...      0          0.000  3.0\n",
              "24609  Wyoming                 WY   Uinta-Lincoln  ...      0          0.000  3.0\n",
              "24610  Wyoming                 WY   Uinta-Lincoln  ...     53          1.000  1.0\n",
              "\n",
              "[24611 rows x 9 columns]"
            ]
          },
          "metadata": {
            "tags": []
          },
          "execution_count": 138
        }
      ]
    },
    {
      "cell_type": "code",
      "metadata": {
        "id": "NvzIaiRmxad9",
        "colab_type": "code",
        "colab": {
          "base_uri": "https://localhost:8080/",
          "height": 292
        },
        "outputId": "2e522b8a-8aa5-4375-ff79-dfdfcc0d43df"
      },
      "source": [
        "primary_df[primary_df['county'] == 'Los Angeles']"
      ],
      "execution_count": 143,
      "outputs": [
        {
          "output_type": "execute_result",
          "data": {
            "text/html": [
              "<div>\n",
              "<style scoped>\n",
              "    .dataframe tbody tr th:only-of-type {\n",
              "        vertical-align: middle;\n",
              "    }\n",
              "\n",
              "    .dataframe tbody tr th {\n",
              "        vertical-align: top;\n",
              "    }\n",
              "\n",
              "    .dataframe thead th {\n",
              "        text-align: right;\n",
              "    }\n",
              "</style>\n",
              "<table border=\"1\" class=\"dataframe\">\n",
              "  <thead>\n",
              "    <tr style=\"text-align: right;\">\n",
              "      <th></th>\n",
              "      <th>state</th>\n",
              "      <th>state_abbreviation</th>\n",
              "      <th>county</th>\n",
              "      <th>fips</th>\n",
              "      <th>party</th>\n",
              "      <th>candidate</th>\n",
              "      <th>votes</th>\n",
              "      <th>fraction_votes</th>\n",
              "      <th>rank</th>\n",
              "    </tr>\n",
              "  </thead>\n",
              "  <tbody>\n",
              "    <tr>\n",
              "      <th>1385</th>\n",
              "      <td>California</td>\n",
              "      <td>CA</td>\n",
              "      <td>Los Angeles</td>\n",
              "      <td>6037.0</td>\n",
              "      <td>Democrat</td>\n",
              "      <td>Bernie Sanders</td>\n",
              "      <td>434656</td>\n",
              "      <td>0.420</td>\n",
              "      <td>2.0</td>\n",
              "    </tr>\n",
              "    <tr>\n",
              "      <th>1386</th>\n",
              "      <td>California</td>\n",
              "      <td>CA</td>\n",
              "      <td>Los Angeles</td>\n",
              "      <td>6037.0</td>\n",
              "      <td>Democrat</td>\n",
              "      <td>Hillary Clinton</td>\n",
              "      <td>590502</td>\n",
              "      <td>0.570</td>\n",
              "      <td>1.0</td>\n",
              "    </tr>\n",
              "    <tr>\n",
              "      <th>1519</th>\n",
              "      <td>California</td>\n",
              "      <td>CA</td>\n",
              "      <td>Los Angeles</td>\n",
              "      <td>6037.0</td>\n",
              "      <td>Republican</td>\n",
              "      <td>Donald Trump</td>\n",
              "      <td>179130</td>\n",
              "      <td>0.698</td>\n",
              "      <td>1.0</td>\n",
              "    </tr>\n",
              "    <tr>\n",
              "      <th>1520</th>\n",
              "      <td>California</td>\n",
              "      <td>CA</td>\n",
              "      <td>Los Angeles</td>\n",
              "      <td>6037.0</td>\n",
              "      <td>Republican</td>\n",
              "      <td>John Kasich</td>\n",
              "      <td>33559</td>\n",
              "      <td>0.131</td>\n",
              "      <td>2.0</td>\n",
              "    </tr>\n",
              "    <tr>\n",
              "      <th>1521</th>\n",
              "      <td>California</td>\n",
              "      <td>CA</td>\n",
              "      <td>Los Angeles</td>\n",
              "      <td>6037.0</td>\n",
              "      <td>Republican</td>\n",
              "      <td>Ted Cruz</td>\n",
              "      <td>30775</td>\n",
              "      <td>0.120</td>\n",
              "      <td>3.0</td>\n",
              "    </tr>\n",
              "  </tbody>\n",
              "</table>\n",
              "</div>"
            ],
            "text/plain": [
              "           state state_abbreviation       county  ...   votes fraction_votes rank\n",
              "1385  California                 CA  Los Angeles  ...  434656          0.420  2.0\n",
              "1386  California                 CA  Los Angeles  ...  590502          0.570  1.0\n",
              "1519  California                 CA  Los Angeles  ...  179130          0.698  1.0\n",
              "1520  California                 CA  Los Angeles  ...   33559          0.131  2.0\n",
              "1521  California                 CA  Los Angeles  ...   30775          0.120  3.0\n",
              "\n",
              "[5 rows x 9 columns]"
            ]
          },
          "metadata": {
            "tags": []
          },
          "execution_count": 143
        }
      ]
    },
    {
      "cell_type": "code",
      "metadata": {
        "id": "rAz4vT1qyNMG",
        "colab_type": "code",
        "colab": {
          "base_uri": "https://localhost:8080/",
          "height": 220
        },
        "outputId": "3aa936f9-e415-417f-ea2f-b025fc0310eb"
      },
      "source": [
        "prgroup = primary_df.groupby(['state','party','candidate']).sum()\n",
        "del prgroup['fips']\n",
        "del prgroup['fraction_votes']\n",
        "prgroup.head()"
      ],
      "execution_count": 148,
      "outputs": [
        {
          "output_type": "execute_result",
          "data": {
            "text/html": [
              "<div>\n",
              "<style scoped>\n",
              "    .dataframe tbody tr th:only-of-type {\n",
              "        vertical-align: middle;\n",
              "    }\n",
              "\n",
              "    .dataframe tbody tr th {\n",
              "        vertical-align: top;\n",
              "    }\n",
              "\n",
              "    .dataframe thead th {\n",
              "        text-align: right;\n",
              "    }\n",
              "</style>\n",
              "<table border=\"1\" class=\"dataframe\">\n",
              "  <thead>\n",
              "    <tr style=\"text-align: right;\">\n",
              "      <th></th>\n",
              "      <th></th>\n",
              "      <th></th>\n",
              "      <th>votes</th>\n",
              "      <th>rank</th>\n",
              "    </tr>\n",
              "    <tr>\n",
              "      <th>state</th>\n",
              "      <th>party</th>\n",
              "      <th>candidate</th>\n",
              "      <th></th>\n",
              "      <th></th>\n",
              "    </tr>\n",
              "  </thead>\n",
              "  <tbody>\n",
              "    <tr>\n",
              "      <th rowspan=\"5\" valign=\"top\">Alabama</th>\n",
              "      <th rowspan=\"2\" valign=\"top\">Democrat</th>\n",
              "      <th>Bernie Sanders</th>\n",
              "      <td>76399</td>\n",
              "      <td>555.0</td>\n",
              "    </tr>\n",
              "    <tr>\n",
              "      <th>Hillary Clinton</th>\n",
              "      <td>309928</td>\n",
              "      <td>266.0</td>\n",
              "    </tr>\n",
              "    <tr>\n",
              "      <th rowspan=\"3\" valign=\"top\">Republican</th>\n",
              "      <th>Ben Carson</th>\n",
              "      <td>87517</td>\n",
              "      <td>966.0</td>\n",
              "    </tr>\n",
              "    <tr>\n",
              "      <th>Donald Trump</th>\n",
              "      <td>371735</td>\n",
              "      <td>390.0</td>\n",
              "    </tr>\n",
              "    <tr>\n",
              "      <th>John Kasich</th>\n",
              "      <td>37970</td>\n",
              "      <td>1340.0</td>\n",
              "    </tr>\n",
              "  </tbody>\n",
              "</table>\n",
              "</div>"
            ],
            "text/plain": [
              "                                     votes    rank\n",
              "state   party      candidate                      \n",
              "Alabama Democrat   Bernie Sanders    76399   555.0\n",
              "                   Hillary Clinton  309928   266.0\n",
              "        Republican Ben Carson        87517   966.0\n",
              "                   Donald Trump     371735   390.0\n",
              "                   John Kasich       37970  1340.0"
            ]
          },
          "metadata": {
            "tags": []
          },
          "execution_count": 148
        }
      ]
    },
    {
      "cell_type": "code",
      "metadata": {
        "id": "n31BPuXCzBNE",
        "colab_type": "code",
        "colab": {
          "base_uri": "https://localhost:8080/",
          "height": 363
        },
        "outputId": "5e243a18-4575-43dc-9c4c-a176606a571f"
      },
      "source": [
        "prgroup['rank'] = prgroup.groupby(['state','party'])['votes'].rank(ascending=False)\n",
        "prgroup.head(10)"
      ],
      "execution_count": 159,
      "outputs": [
        {
          "output_type": "execute_result",
          "data": {
            "text/html": [
              "<div>\n",
              "<style scoped>\n",
              "    .dataframe tbody tr th:only-of-type {\n",
              "        vertical-align: middle;\n",
              "    }\n",
              "\n",
              "    .dataframe tbody tr th {\n",
              "        vertical-align: top;\n",
              "    }\n",
              "\n",
              "    .dataframe thead th {\n",
              "        text-align: right;\n",
              "    }\n",
              "</style>\n",
              "<table border=\"1\" class=\"dataframe\">\n",
              "  <thead>\n",
              "    <tr style=\"text-align: right;\">\n",
              "      <th></th>\n",
              "      <th></th>\n",
              "      <th></th>\n",
              "      <th>votes</th>\n",
              "      <th>rank</th>\n",
              "    </tr>\n",
              "    <tr>\n",
              "      <th>state</th>\n",
              "      <th>party</th>\n",
              "      <th>candidate</th>\n",
              "      <th></th>\n",
              "      <th></th>\n",
              "    </tr>\n",
              "  </thead>\n",
              "  <tbody>\n",
              "    <tr>\n",
              "      <th rowspan=\"7\" valign=\"top\">Alabama</th>\n",
              "      <th rowspan=\"2\" valign=\"top\">Democrat</th>\n",
              "      <th>Bernie Sanders</th>\n",
              "      <td>76399</td>\n",
              "      <td>2.0</td>\n",
              "    </tr>\n",
              "    <tr>\n",
              "      <th>Hillary Clinton</th>\n",
              "      <td>309928</td>\n",
              "      <td>1.0</td>\n",
              "    </tr>\n",
              "    <tr>\n",
              "      <th rowspan=\"5\" valign=\"top\">Republican</th>\n",
              "      <th>Ben Carson</th>\n",
              "      <td>87517</td>\n",
              "      <td>4.0</td>\n",
              "    </tr>\n",
              "    <tr>\n",
              "      <th>Donald Trump</th>\n",
              "      <td>371735</td>\n",
              "      <td>1.0</td>\n",
              "    </tr>\n",
              "    <tr>\n",
              "      <th>John Kasich</th>\n",
              "      <td>37970</td>\n",
              "      <td>5.0</td>\n",
              "    </tr>\n",
              "    <tr>\n",
              "      <th>Marco Rubio</th>\n",
              "      <td>159802</td>\n",
              "      <td>3.0</td>\n",
              "    </tr>\n",
              "    <tr>\n",
              "      <th>Ted Cruz</th>\n",
              "      <td>180608</td>\n",
              "      <td>2.0</td>\n",
              "    </tr>\n",
              "    <tr>\n",
              "      <th rowspan=\"3\" valign=\"top\">Alaska</th>\n",
              "      <th rowspan=\"2\" valign=\"top\">Democrat</th>\n",
              "      <th>Bernie Sanders</th>\n",
              "      <td>440</td>\n",
              "      <td>1.0</td>\n",
              "    </tr>\n",
              "    <tr>\n",
              "      <th>Hillary Clinton</th>\n",
              "      <td>99</td>\n",
              "      <td>2.0</td>\n",
              "    </tr>\n",
              "    <tr>\n",
              "      <th>Republican</th>\n",
              "      <th>Ben Carson</th>\n",
              "      <td>2401</td>\n",
              "      <td>4.0</td>\n",
              "    </tr>\n",
              "  </tbody>\n",
              "</table>\n",
              "</div>"
            ],
            "text/plain": [
              "                                     votes  rank\n",
              "state   party      candidate                    \n",
              "Alabama Democrat   Bernie Sanders    76399   2.0\n",
              "                   Hillary Clinton  309928   1.0\n",
              "        Republican Ben Carson        87517   4.0\n",
              "                   Donald Trump     371735   1.0\n",
              "                   John Kasich       37970   5.0\n",
              "                   Marco Rubio      159802   3.0\n",
              "                   Ted Cruz         180608   2.0\n",
              "Alaska  Democrat   Bernie Sanders      440   1.0\n",
              "                   Hillary Clinton      99   2.0\n",
              "        Republican Ben Carson         2401   4.0"
            ]
          },
          "metadata": {
            "tags": []
          },
          "execution_count": 159
        }
      ]
    },
    {
      "cell_type": "code",
      "metadata": {
        "id": "Pl464Loc0YOP",
        "colab_type": "code",
        "colab": {
          "base_uri": "https://localhost:8080/",
          "height": 420
        },
        "outputId": "45f786f1-63cd-418d-84e7-a675c45a6833"
      },
      "source": [
        "pd.pivot_table(prgroup, index=['state','party', 'candidate'], values=['rank','votes'])"
      ],
      "execution_count": 164,
      "outputs": [
        {
          "output_type": "execute_result",
          "data": {
            "text/html": [
              "<div>\n",
              "<style scoped>\n",
              "    .dataframe tbody tr th:only-of-type {\n",
              "        vertical-align: middle;\n",
              "    }\n",
              "\n",
              "    .dataframe tbody tr th {\n",
              "        vertical-align: top;\n",
              "    }\n",
              "\n",
              "    .dataframe thead th {\n",
              "        text-align: right;\n",
              "    }\n",
              "</style>\n",
              "<table border=\"1\" class=\"dataframe\">\n",
              "  <thead>\n",
              "    <tr style=\"text-align: right;\">\n",
              "      <th></th>\n",
              "      <th></th>\n",
              "      <th></th>\n",
              "      <th>rank</th>\n",
              "      <th>votes</th>\n",
              "    </tr>\n",
              "    <tr>\n",
              "      <th>state</th>\n",
              "      <th>party</th>\n",
              "      <th>candidate</th>\n",
              "      <th></th>\n",
              "      <th></th>\n",
              "    </tr>\n",
              "  </thead>\n",
              "  <tbody>\n",
              "    <tr>\n",
              "      <th rowspan=\"5\" valign=\"top\">Alabama</th>\n",
              "      <th rowspan=\"2\" valign=\"top\">Democrat</th>\n",
              "      <th>Bernie Sanders</th>\n",
              "      <td>2.0</td>\n",
              "      <td>76399</td>\n",
              "    </tr>\n",
              "    <tr>\n",
              "      <th>Hillary Clinton</th>\n",
              "      <td>1.0</td>\n",
              "      <td>309928</td>\n",
              "    </tr>\n",
              "    <tr>\n",
              "      <th rowspan=\"3\" valign=\"top\">Republican</th>\n",
              "      <th>Ben Carson</th>\n",
              "      <td>4.0</td>\n",
              "      <td>87517</td>\n",
              "    </tr>\n",
              "    <tr>\n",
              "      <th>Donald Trump</th>\n",
              "      <td>1.0</td>\n",
              "      <td>371735</td>\n",
              "    </tr>\n",
              "    <tr>\n",
              "      <th>John Kasich</th>\n",
              "      <td>5.0</td>\n",
              "      <td>37970</td>\n",
              "    </tr>\n",
              "    <tr>\n",
              "      <th>...</th>\n",
              "      <th>...</th>\n",
              "      <th>...</th>\n",
              "      <td>...</td>\n",
              "      <td>...</td>\n",
              "    </tr>\n",
              "    <tr>\n",
              "      <th rowspan=\"5\" valign=\"top\">Wyoming</th>\n",
              "      <th>Democrat</th>\n",
              "      <th>Hillary Clinton</th>\n",
              "      <td>2.0</td>\n",
              "      <td>124</td>\n",
              "    </tr>\n",
              "    <tr>\n",
              "      <th rowspan=\"4\" valign=\"top\">Republican</th>\n",
              "      <th>Donald Trump</th>\n",
              "      <td>3.0</td>\n",
              "      <td>70</td>\n",
              "    </tr>\n",
              "    <tr>\n",
              "      <th>John Kasich</th>\n",
              "      <td>4.0</td>\n",
              "      <td>0</td>\n",
              "    </tr>\n",
              "    <tr>\n",
              "      <th>Marco Rubio</th>\n",
              "      <td>2.0</td>\n",
              "      <td>189</td>\n",
              "    </tr>\n",
              "    <tr>\n",
              "      <th>Ted Cruz</th>\n",
              "      <td>1.0</td>\n",
              "      <td>644</td>\n",
              "    </tr>\n",
              "  </tbody>\n",
              "</table>\n",
              "<p>290 rows × 2 columns</p>\n",
              "</div>"
            ],
            "text/plain": [
              "                                    rank   votes\n",
              "state   party      candidate                    \n",
              "Alabama Democrat   Bernie Sanders    2.0   76399\n",
              "                   Hillary Clinton   1.0  309928\n",
              "        Republican Ben Carson        4.0   87517\n",
              "                   Donald Trump      1.0  371735\n",
              "                   John Kasich       5.0   37970\n",
              "...                                  ...     ...\n",
              "Wyoming Democrat   Hillary Clinton   2.0     124\n",
              "        Republican Donald Trump      3.0      70\n",
              "                   John Kasich       4.0       0\n",
              "                   Marco Rubio       2.0     189\n",
              "                   Ted Cruz          1.0     644\n",
              "\n",
              "[290 rows x 2 columns]"
            ]
          },
          "metadata": {
            "tags": []
          },
          "execution_count": 164
        }
      ]
    },
    {
      "cell_type": "code",
      "metadata": {
        "id": "aPt5zKBi0zop",
        "colab_type": "code",
        "colab": {
          "base_uri": "https://localhost:8080/",
          "height": 281
        },
        "outputId": "485ebf43-941c-4826-8c63-526eda4514d3"
      },
      "source": [
        "\"\"\"\n",
        "\n",
        "Nesse ponto, será estudado o uso do MatPlotLib, que traz aplicações e funções do \n",
        "matlab no Python, usando o Pandas\n",
        "Pra imprimir valores na linha de excecução, adiciona-se %matplotlib inline\n",
        "\n",
        "\"\"\"\n",
        "import matplotlib.pyplot as plt\n",
        "import numpy as np\n",
        "import pandas as pd\n",
        "\n",
        "x = np.linspace(1,10,100)\n",
        "plt.plot(x, np.sin(x),'r--') #r-- cor vermela -- tipo de tracejado"
      ],
      "execution_count": 176,
      "outputs": [
        {
          "output_type": "execute_result",
          "data": {
            "text/plain": [
              "[<matplotlib.lines.Line2D at 0x7f57cb65f7b8>]"
            ]
          },
          "metadata": {
            "tags": []
          },
          "execution_count": 176
        },
        {
          "output_type": "display_data",
          "data": {
            "image/png": "[encoded data removed]",
            "text/plain": [
              "<Figure size 432x288 with 1 Axes>"
            ]
          },
          "metadata": {
            "tags": [],
            "needs_background": "light"
          }
        }
      ]
    },
    {
      "cell_type": "code",
      "metadata": {
        "id": "czzRWhJ12qgb",
        "colab_type": "code",
        "colab": {
          "base_uri": "https://localhost:8080/",
          "height": 33
        },
        "outputId": "5fbc07cb-ad00-46a0-bfbe-029381079e3a"
      },
      "source": [
        "fig = plt.figure()\n",
        "fig.savefig('sin.png')"
      ],
      "execution_count": 180,
      "outputs": [
        {
          "output_type": "display_data",
          "data": {
            "text/plain": [
              "<Figure size 432x288 with 0 Axes>"
            ]
          },
          "metadata": {
            "tags": []
          }
        }
      ]
    },
    {
      "cell_type": "code",
      "metadata": {
        "id": "MQ4_UQmi3g8w",
        "colab_type": "code",
        "colab": {
          "base_uri": "https://localhost:8080/",
          "height": 265
        },
        "outputId": "9dd4cdf7-22b8-473c-eb41-48c2d3f23e71"
      },
      "source": [
        "\"\"\"\n",
        "\n",
        "Seaborn , usando biblioteca de visualização de dados.\n",
        "\n",
        "\n",
        "\n",
        "\"\"\"\n",
        "\n",
        "%matplotlib inline\n",
        "import matplotlib.pyplot as plt\n",
        "import numpy as np\n",
        "\n",
        "x = np.linspace(1,10,100)\n",
        "plt.plot(x,np.sin(x), 'b--')\n",
        "plt.plot(x,np.cos(x), 'r--')\n",
        "plt.show()"
      ],
      "execution_count": 186,
      "outputs": [
        {
          "output_type": "display_data",
          "data": {
            "image/png": "[encoded data removed]",
            "text/plain": [
              "<Figure size 432x288 with 1 Axes>"
            ]
          },
          "metadata": {
            "tags": [],
            "needs_background": "light"
          }
        }
      ]
    },
    {
      "cell_type": "code",
      "metadata": {
        "id": "dEQup2uH4qjN",
        "colab_type": "code",
        "colab": {
          "base_uri": "https://localhost:8080/",
          "height": 265
        },
        "outputId": "214ebbdc-34b6-4923-e4d3-481c4f54433c"
      },
      "source": [
        "import seaborn as sns\n",
        "### inutil! ahah\n",
        "sns.set_style('ticks')\n",
        "plt.plot(x,np.sin(x), 'b--')\n",
        "plt.plot(x,np.cos(x), 'r--')\n",
        "plt.show()"
      ],
      "execution_count": 193,
      "outputs": [
        {
          "output_type": "display_data",
          "data": {
            "image/png": "[encoded data removed]",
            "text/plain": [
              "<Figure size 432x288 with 1 Axes>"
            ]
          },
          "metadata": {
            "tags": []
          }
        }
      ]
    },
    {
      "cell_type": "code",
      "metadata": {
        "id": "G6fr9pO84tip",
        "colab_type": "code",
        "colab": {
          "base_uri": "https://localhost:8080/",
          "height": 1000
        },
        "outputId": "92d845c9-5e56-4a84-e02d-f8dd1f6ba2d8"
      },
      "source": [
        "%matplotlib inline\n",
        "import pandas as pd\n",
        "import numpy as np\n",
        "import pydataset\n",
        "import matplotlib.pyplot as plt\n",
        "import seaborn as sns\n",
        "\n",
        "pydataset.data('titanic', show_doc=True)"
      ],
      "execution_count": 195,
      "outputs": [
        {
          "output_type": "stream",
          "text": [
            "titanic\n",
            "\n",
            "PyDataset Documentation (adopted from R Documentation. The displayed examples are in R)\n",
            "\n",
            "## titanic\n",
            "\n",
            "### Description\n",
            "\n",
            "The data is an observation-based version of the 1912 Titanic passenger\n",
            "survival log,\n",
            "\n",
            "### Usage\n",
            "\n",
            "    data(titanic)\n",
            "\n",
            "### Format\n",
            "\n",
            "A data frame with 1316 observations on the following 4 variables.\n",
            "\n",
            "`class`\n",
            "\n",
            "a factor with levels `1st class` `2nd class` `3rd class` `crew`\n",
            "\n",
            "`age`\n",
            "\n",
            "a factor with levels `child` `adults`\n",
            "\n",
            "`sex`\n",
            "\n",
            "a factor with levels `women` `man`\n",
            "\n",
            "`survived`\n",
            "\n",
            "a factor with levels `no` `yes`\n",
            "\n",
            "### Details\n",
            "\n",
            "titanic is saved as a data frame. Used to assess risk ratios\n",
            "\n",
            "### Source\n",
            "\n",
            "Found in many other texts\n",
            "\n",
            "### References\n",
            "\n",
            "Hilbe, Joseph M (2014), Modeling Count Data, Cambridge University Press Hilbe,\n",
            "Joseph M (2007, 2011), Negative Binomial Regression, Cambridge University\n",
            "Press Hilbe, Joseph M (2009), Logistic Regression Models, Chapman & Hall/CRC\n",
            "\n",
            "### Examples\n",
            "\n",
            "    data(titanic)\n",
            "    titanic$survival <- titanic$survived == \"yes\"\n",
            "    glmlr <- glm(survival ~ age + sex + factor(class), family=binomial, data=titanic)\n",
            "    summary(glmlr)\n",
            "\n",
            "\n"
          ],
          "name": "stdout"
        }
      ]
    },
    {
      "cell_type": "code",
      "metadata": {
        "id": "fiaj8Cvx7Y2P",
        "colab_type": "code",
        "colab": {
          "base_uri": "https://localhost:8080/",
          "height": 302
        },
        "outputId": "bc188dec-bed1-4456-9d5f-1a8be12e7ce7"
      },
      "source": [
        "titanic = pydataset.data('titanic')#carregando dataset do titanic \n",
        "#titanic.head()\n",
        "titanic['class'].value_counts().plot(kind='bar')\n",
        "plt.show()"
      ],
      "execution_count": 201,
      "outputs": [
        {
          "output_type": "display_data",
          "data": {
            "image/png": "[encoded data removed]",
            "text/plain": [
              "<Figure size 432x288 with 1 Axes>"
            ]
          },
          "metadata": {
            "tags": [],
            "needs_background": "light"
          }
        }
      ]
    },
    {
      "cell_type": "code",
      "metadata": {
        "id": "ziSK1LYl8Sp4",
        "colab_type": "code",
        "colab": {
          "base_uri": "https://localhost:8080/",
          "height": 273
        },
        "outputId": "ecb67af1-1f1a-4e04-c842-1907aad28f81"
      },
      "source": [
        "titanic.keys()\n",
        "titanic['survived'].value_counts().plot(kind='bar')\n",
        "plt.show()"
      ],
      "execution_count": 205,
      "outputs": [
        {
          "output_type": "display_data",
          "data": {
            "image/png": "[encoded data removed]",
            "text/plain": [
              "<Figure size 432x288 with 1 Axes>"
            ]
          },
          "metadata": {
            "tags": [],
            "needs_background": "light"
          }
        }
      ]
    },
    {
      "cell_type": "code",
      "metadata": {
        "id": "54f9TscC8g14",
        "colab_type": "code",
        "colab": {
          "base_uri": "https://localhost:8080/",
          "height": 365
        },
        "outputId": "9f06be30-e25a-41ea-bdfd-7e2816d809f0"
      },
      "source": [
        "titanic.groupby('survived')['class'].value_counts().plot(kind='bar')"
      ],
      "execution_count": 216,
      "outputs": [
        {
          "output_type": "execute_result",
          "data": {
            "text/plain": [
              "<matplotlib.axes._subplots.AxesSubplot at 0x7f57c09c82e8>"
            ]
          },
          "metadata": {
            "tags": []
          },
          "execution_count": 216
        },
        {
          "output_type": "display_data",
          "data": {
            "image/png": "[encoded data removed]",
            "text/plain": [
              "<Figure size 432x288 with 1 Axes>"
            ]
          },
          "metadata": {
            "tags": [],
            "needs_background": "light"
          }
        }
      ]
    },
    {
      "cell_type": "code",
      "metadata": {
        "id": "TpaOU71h9RKx",
        "colab_type": "code",
        "colab": {
          "base_uri": "https://localhost:8080/",
          "height": 296
        },
        "outputId": "10c98471-99d0-4116-ecb8-5df2e5c5367a"
      },
      "source": [
        "estado = pd.read_csv('populacao_brasil.csv')\n",
        "estado['total'].hist()"
      ],
      "execution_count": 220,
      "outputs": [
        {
          "output_type": "execute_result",
          "data": {
            "text/plain": [
              "<matplotlib.axes._subplots.AxesSubplot at 0x7f57cb896780>"
            ]
          },
          "metadata": {
            "tags": []
          },
          "execution_count": 220
        },
        {
          "output_type": "display_data",
          "data": {
            "image/png": "[encoded data removed]",
            "text/plain": [
              "<Figure size 432x288 with 1 Axes>"
            ]
          },
          "metadata": {
            "tags": [],
            "needs_background": "light"
          }
        }
      ]
    },
    {
      "cell_type": "code",
      "metadata": {
        "id": "GqCp0n9Y_Pf5",
        "colab_type": "code",
        "colab": {
          "base_uri": "https://localhost:8080/",
          "height": 265
        },
        "outputId": "520f7c74-617c-453c-e228-373a910c51f8"
      },
      "source": [
        "ax = plt.subplot()\n",
        "plt.hist(estado['total'], bins = 15,orientation='horizontal')\n",
        "ax.ticklabel_format(style='plain')\n",
        "plt.show()"
      ],
      "execution_count": 229,
      "outputs": [
        {
          "output_type": "display_data",
          "data": {
            "image/png": "[encoded data removed]",
            "text/plain": [
              "<Figure size 432x288 with 1 Axes>"
            ]
          },
          "metadata": {
            "tags": [],
            "needs_background": "light"
          }
        }
      ]
    },
    {
      "cell_type": "code",
      "metadata": {
        "id": "wo3i7N9rArm6",
        "colab_type": "code",
        "colab": {
          "base_uri": "https://localhost:8080/",
          "height": 202
        },
        "outputId": "ad5191fb-14f7-48c9-a479-c3217677454b"
      },
      "source": [
        "estado['percent'] = estado['total'] /  estado['total'].sum()\n",
        "estado.head()"
      ],
      "execution_count": 235,
      "outputs": [
        {
          "output_type": "execute_result",
          "data": {
            "text/html": [
              "<div>\n",
              "<style scoped>\n",
              "    .dataframe tbody tr th:only-of-type {\n",
              "        vertical-align: middle;\n",
              "    }\n",
              "\n",
              "    .dataframe tbody tr th {\n",
              "        vertical-align: top;\n",
              "    }\n",
              "\n",
              "    .dataframe thead th {\n",
              "        text-align: right;\n",
              "    }\n",
              "</style>\n",
              "<table border=\"1\" class=\"dataframe\">\n",
              "  <thead>\n",
              "    <tr style=\"text-align: right;\">\n",
              "      <th></th>\n",
              "      <th>estado</th>\n",
              "      <th>total</th>\n",
              "      <th>percent</th>\n",
              "    </tr>\n",
              "  </thead>\n",
              "  <tbody>\n",
              "    <tr>\n",
              "      <th>0</th>\n",
              "      <td>SP</td>\n",
              "      <td>44846530</td>\n",
              "      <td>0.217418</td>\n",
              "    </tr>\n",
              "    <tr>\n",
              "      <th>1</th>\n",
              "      <td>MG</td>\n",
              "      <td>21024678</td>\n",
              "      <td>0.101929</td>\n",
              "    </tr>\n",
              "    <tr>\n",
              "      <th>2</th>\n",
              "      <td>RJ</td>\n",
              "      <td>16690709</td>\n",
              "      <td>0.080917</td>\n",
              "    </tr>\n",
              "    <tr>\n",
              "      <th>3</th>\n",
              "      <td>BA</td>\n",
              "      <td>15276566</td>\n",
              "      <td>0.074062</td>\n",
              "    </tr>\n",
              "    <tr>\n",
              "      <th>4</th>\n",
              "      <td>RS</td>\n",
              "      <td>11286500</td>\n",
              "      <td>0.054718</td>\n",
              "    </tr>\n",
              "  </tbody>\n",
              "</table>\n",
              "</div>"
            ],
            "text/plain": [
              "  estado     total   percent\n",
              "0     SP  44846530  0.217418\n",
              "1     MG  21024678  0.101929\n",
              "2     RJ  16690709  0.080917\n",
              "3     BA  15276566  0.074062\n",
              "4     RS  11286500  0.054718"
            ]
          },
          "metadata": {
            "tags": []
          },
          "execution_count": 235
        }
      ]
    },
    {
      "cell_type": "code",
      "metadata": {
        "id": "TGNjlAmJBS9W",
        "colab_type": "code",
        "colab": {
          "base_uri": "https://localhost:8080/",
          "height": 248
        },
        "outputId": "a133671e-7d44-42c9-f33d-d5ac4a06961c"
      },
      "source": [
        "plt.pie(estado['percent'],labels=estado['estado'],autopct='%1.2f%%')\n",
        "plt.show()"
      ],
      "execution_count": 243,
      "outputs": [
        {
          "output_type": "display_data",
          "data": {
            "image/png": "[encoded data removed]",
            "text/plain": [
              "<Figure size 432x288 with 1 Axes>"
            ]
          },
          "metadata": {
            "tags": []
          }
        }
      ]
    },
    {
      "cell_type": "code",
      "metadata": {
        "id": "InDeCitSBjwk",
        "colab_type": "code",
        "colab": {}
      },
      "source": [
        "\"\"\"\n",
        "\n",
        "Graficos de dispensão\n",
        "\n",
        "%matplotlib inline\n",
        "import matplotlib.pyplot as plt\n",
        "import neaborn\n",
        "import pydataset\n",
        "\n",
        "\"\"\"\n",
        "df = pydataset.data('AirPassengers')\n"
      ],
      "execution_count": 250,
      "outputs": []
    },
    {
      "cell_type": "code",
      "metadata": {
        "id": "TBhxNPxVJyud",
        "colab_type": "code",
        "colab": {
          "base_uri": "https://localhost:8080/",
          "height": 265
        },
        "outputId": "ef8240bb-6c7b-48c3-958d-8e5f4e554e18"
      },
      "source": [
        "plt.plot(df['time'], df['AirPassengers'])\n",
        "plt.show()"
      ],
      "execution_count": 255,
      "outputs": [
        {
          "output_type": "display_data",
          "data": {
            "image/png": "[encoded data removed]",
            "text/plain": [
              "<Figure size 432x288 with 1 Axes>"
            ]
          },
          "metadata": {
            "tags": [],
            "needs_background": "light"
          }
        }
      ]
    },
    {
      "cell_type": "code",
      "metadata": {
        "id": "fnGWd6iNKRzq",
        "colab_type": "code",
        "colab": {
          "base_uri": "https://localhost:8080/",
          "height": 265
        },
        "outputId": "6b3c9cee-c5ff-4bdb-a7ae-29333350988e"
      },
      "source": [
        "plt.scatter (df['time'], df['AirPassengers'])\n",
        "plt.show()"
      ],
      "execution_count": 257,
      "outputs": [
        {
          "output_type": "display_data",
          "data": {
            "image/png": "[encoded data removed]",
            "text/plain": [
              "<Figure size 432x288 with 1 Axes>"
            ]
          },
          "metadata": {
            "tags": [],
            "needs_background": "light"
          }
        }
      ]
    },
    {
      "cell_type": "code",
      "metadata": {
        "id": "XWjuUMt7K0G4",
        "colab_type": "code",
        "colab": {}
      },
      "source": [
        "dfiris = pydataset.data('iris')"
      ],
      "execution_count": 266,
      "outputs": []
    },
    {
      "cell_type": "code",
      "metadata": {
        "id": "hJR_a6t-LVAX",
        "colab_type": "code",
        "colab": {
          "base_uri": "https://localhost:8080/",
          "height": 202
        },
        "outputId": "3db147b6-1394-4c45-8e68-1d0796fc6e6c"
      },
      "source": [
        "dfiris.head()"
      ],
      "execution_count": 268,
      "outputs": [
        {
          "output_type": "execute_result",
          "data": {
            "text/html": [
              "<div>\n",
              "<style scoped>\n",
              "    .dataframe tbody tr th:only-of-type {\n",
              "        vertical-align: middle;\n",
              "    }\n",
              "\n",
              "    .dataframe tbody tr th {\n",
              "        vertical-align: top;\n",
              "    }\n",
              "\n",
              "    .dataframe thead th {\n",
              "        text-align: right;\n",
              "    }\n",
              "</style>\n",
              "<table border=\"1\" class=\"dataframe\">\n",
              "  <thead>\n",
              "    <tr style=\"text-align: right;\">\n",
              "      <th></th>\n",
              "      <th>Sepal.Length</th>\n",
              "      <th>Sepal.Width</th>\n",
              "      <th>Petal.Length</th>\n",
              "      <th>Petal.Width</th>\n",
              "      <th>Species</th>\n",
              "    </tr>\n",
              "  </thead>\n",
              "  <tbody>\n",
              "    <tr>\n",
              "      <th>1</th>\n",
              "      <td>5.1</td>\n",
              "      <td>3.5</td>\n",
              "      <td>1.4</td>\n",
              "      <td>0.2</td>\n",
              "      <td>setosa</td>\n",
              "    </tr>\n",
              "    <tr>\n",
              "      <th>2</th>\n",
              "      <td>4.9</td>\n",
              "      <td>3.0</td>\n",
              "      <td>1.4</td>\n",
              "      <td>0.2</td>\n",
              "      <td>setosa</td>\n",
              "    </tr>\n",
              "    <tr>\n",
              "      <th>3</th>\n",
              "      <td>4.7</td>\n",
              "      <td>3.2</td>\n",
              "      <td>1.3</td>\n",
              "      <td>0.2</td>\n",
              "      <td>setosa</td>\n",
              "    </tr>\n",
              "    <tr>\n",
              "      <th>4</th>\n",
              "      <td>4.6</td>\n",
              "      <td>3.1</td>\n",
              "      <td>1.5</td>\n",
              "      <td>0.2</td>\n",
              "      <td>setosa</td>\n",
              "    </tr>\n",
              "    <tr>\n",
              "      <th>5</th>\n",
              "      <td>5.0</td>\n",
              "      <td>3.6</td>\n",
              "      <td>1.4</td>\n",
              "      <td>0.2</td>\n",
              "      <td>setosa</td>\n",
              "    </tr>\n",
              "  </tbody>\n",
              "</table>\n",
              "</div>"
            ],
            "text/plain": [
              "   Sepal.Length  Sepal.Width  Petal.Length  Petal.Width Species\n",
              "1           5.1          3.5           1.4          0.2  setosa\n",
              "2           4.9          3.0           1.4          0.2  setosa\n",
              "3           4.7          3.2           1.3          0.2  setosa\n",
              "4           4.6          3.1           1.5          0.2  setosa\n",
              "5           5.0          3.6           1.4          0.2  setosa"
            ]
          },
          "metadata": {
            "tags": []
          },
          "execution_count": 268
        }
      ]
    },
    {
      "cell_type": "code",
      "metadata": {
        "id": "ER7gIE-oLpQ0",
        "colab_type": "code",
        "colab": {
          "base_uri": "https://localhost:8080/",
          "height": 285
        },
        "outputId": "5fb49eac-5a18-4f4a-a749-5d771e0480bd"
      },
      "source": [
        "plt.scatter(dfiris['Sepal.Length'],dfiris['Sepal.Width'], sizes = 20* dfiris['Petal.Length'])\n"
      ],
      "execution_count": 271,
      "outputs": [
        {
          "output_type": "execute_result",
          "data": {
            "text/plain": [
              "<matplotlib.collections.PathCollection at 0x7f57bede96a0>"
            ]
          },
          "metadata": {
            "tags": []
          },
          "execution_count": 271
        },
        {
          "output_type": "display_data",
          "data": {
            "image/png": "[encoded data removed]",
            "text/plain": [
              "<Figure size 432x288 with 1 Axes>"
            ]
          },
          "metadata": {
            "tags": [],
            "needs_background": "light"
          }
        }
      ]
    },
    {
      "cell_type": "code",
      "metadata": {
        "id": "E5WwBsz1MPPM",
        "colab_type": "code",
        "colab": {
          "base_uri": "https://localhost:8080/",
          "height": 202
        },
        "outputId": "67267d02-0332-4a0d-de09-cfb1dd9fb48d"
      },
      "source": [
        "def specie_color(x):\n",
        "    if x == 'setosa':\n",
        "      return 0\n",
        "    elif x == 'versicolor':\n",
        "      return 1\n",
        "    return 2\n",
        "dfiris['SpecieNumber'] = dfiris['Species'].apply(specie_color)\n",
        "dfiris.head()"
      ],
      "execution_count": 274,
      "outputs": [
        {
          "output_type": "execute_result",
          "data": {
            "text/html": [
              "<div>\n",
              "<style scoped>\n",
              "    .dataframe tbody tr th:only-of-type {\n",
              "        vertical-align: middle;\n",
              "    }\n",
              "\n",
              "    .dataframe tbody tr th {\n",
              "        vertical-align: top;\n",
              "    }\n",
              "\n",
              "    .dataframe thead th {\n",
              "        text-align: right;\n",
              "    }\n",
              "</style>\n",
              "<table border=\"1\" class=\"dataframe\">\n",
              "  <thead>\n",
              "    <tr style=\"text-align: right;\">\n",
              "      <th></th>\n",
              "      <th>Sepal.Length</th>\n",
              "      <th>Sepal.Width</th>\n",
              "      <th>Petal.Length</th>\n",
              "      <th>Petal.Width</th>\n",
              "      <th>Species</th>\n",
              "      <th>SpecieNumber</th>\n",
              "    </tr>\n",
              "  </thead>\n",
              "  <tbody>\n",
              "    <tr>\n",
              "      <th>1</th>\n",
              "      <td>5.1</td>\n",
              "      <td>3.5</td>\n",
              "      <td>1.4</td>\n",
              "      <td>0.2</td>\n",
              "      <td>setosa</td>\n",
              "      <td>0</td>\n",
              "    </tr>\n",
              "    <tr>\n",
              "      <th>2</th>\n",
              "      <td>4.9</td>\n",
              "      <td>3.0</td>\n",
              "      <td>1.4</td>\n",
              "      <td>0.2</td>\n",
              "      <td>setosa</td>\n",
              "      <td>0</td>\n",
              "    </tr>\n",
              "    <tr>\n",
              "      <th>3</th>\n",
              "      <td>4.7</td>\n",
              "      <td>3.2</td>\n",
              "      <td>1.3</td>\n",
              "      <td>0.2</td>\n",
              "      <td>setosa</td>\n",
              "      <td>0</td>\n",
              "    </tr>\n",
              "    <tr>\n",
              "      <th>4</th>\n",
              "      <td>4.6</td>\n",
              "      <td>3.1</td>\n",
              "      <td>1.5</td>\n",
              "      <td>0.2</td>\n",
              "      <td>setosa</td>\n",
              "      <td>0</td>\n",
              "    </tr>\n",
              "    <tr>\n",
              "      <th>5</th>\n",
              "      <td>5.0</td>\n",
              "      <td>3.6</td>\n",
              "      <td>1.4</td>\n",
              "      <td>0.2</td>\n",
              "      <td>setosa</td>\n",
              "      <td>0</td>\n",
              "    </tr>\n",
              "  </tbody>\n",
              "</table>\n",
              "</div>"
            ],
            "text/plain": [
              "   Sepal.Length  Sepal.Width  Petal.Length  Petal.Width Species  SpecieNumber\n",
              "1           5.1          3.5           1.4          0.2  setosa             0\n",
              "2           4.9          3.0           1.4          0.2  setosa             0\n",
              "3           4.7          3.2           1.3          0.2  setosa             0\n",
              "4           4.6          3.1           1.5          0.2  setosa             0\n",
              "5           5.0          3.6           1.4          0.2  setosa             0"
            ]
          },
          "metadata": {
            "tags": []
          },
          "execution_count": 274
        }
      ]
    },
    {
      "cell_type": "code",
      "metadata": {
        "id": "TBIslf1RM9At",
        "colab_type": "code",
        "colab": {
          "base_uri": "https://localhost:8080/",
          "height": 285
        },
        "outputId": "b8ea0622-4396-4276-f160-27d3132fa930"
      },
      "source": [
        "plt.scatter(\n",
        "    dfiris['Sepal.Length'], dfiris['Sepal.Width'], sizes=25*dfiris['Petal.Length'],\n",
        "    c=dfiris['SpecieNumber'], cmap='viridis',alpha = 0.4\n",
        ")\n",
        "## argumentos: eixo x, eixo y, tamanho dos pontoss e qual coluna define, cores coluna species, cmap que define as cores de acordo com a coluna\n",
        "## o alpha define a transparencia"
      ],
      "execution_count": 280,
      "outputs": [
        {
          "output_type": "execute_result",
          "data": {
            "text/plain": [
              "<matplotlib.collections.PathCollection at 0x7f57beec52b0>"
            ]
          },
          "metadata": {
            "tags": []
          },
          "execution_count": 280
        },
        {
          "output_type": "display_data",
          "data": {
            "image/png": "[encoded data removed]",
            "text/plain": [
              "<Figure size 432x288 with 1 Axes>"
            ]
          },
          "metadata": {
            "tags": [],
            "needs_background": "light"
          }
        }
      ]
    },
    {
      "cell_type": "code",
      "metadata": {
        "id": "W56Pc3IqOOKP",
        "colab_type": "code",
        "colab": {
          "base_uri": "https://localhost:8080/",
          "height": 138
        },
        "outputId": "01eb840c-816d-4332-b983-ae55d5b0b80d"
      },
      "source": [
        "\"\"\"\n",
        "ax = plot.subplots()\n",
        "ax.plot(df['year'], df['crime.total], '-r') # será feito um grafico elencando numero de crimes pelo ano na cor vermelha\n",
        "ax.plot(df['year'], df['crimes.person'], '-b') # será feiito um grafico com nuumero de pessoas pelo ano na cor azul \n",
        "ax.legend(loc='upper left') # coloca a legenda no canto superior esquerdo\n",
        "ax.set_ylabel('quality')\n",
        "ax.set_xlabel('year') # ambas colocam legenda na parte  externa do grafico\n",
        "ax.set_title('Creimes: Total X person')\n",
        "ax.set_xlim(df['year'].min(),df['year'].max()) #vai alterar os valores do limite x\n",
        "ax.plot()\n",
        "\"\"\""
      ],
      "execution_count": 281,
      "outputs": [
        {
          "output_type": "execute_result",
          "data": {
            "application/vnd.google.colaboratory.intrinsic+json": {
              "type": "string"
            },
            "text/plain": [
              "\"\\nax = plot.subplots()\\nax.plot(df['year'], df['crime.total], '-r') # será feito um grafico elencando numero de crimes pelo ano na cor vermelha\\nax.plot(df['year'], df['crimes.person'], '-b') # será feiito um grafico com nuumero de pessoas pelo ano na cor azul \\nax.legend(loc='upper left') # coloca a legenda no canto superior esquerdo\\nax.set_ylabel('quality')\\nax.set_xlabel('year') # ambas colocam legenda na parte  externa do grafico\\nax.set_title('Creimes: Total X person')\\nax.set_xlim(df['year'].min(),df['year'].max()) #vai alterar os valores do limite x\\nax.plot()\\n\""
            ]
          },
          "metadata": {
            "tags": []
          },
          "execution_count": 281
        }
      ]
    },
    {
      "cell_type": "code",
      "metadata": {
        "id": "m-fIvRIFSJKB",
        "colab_type": "code",
        "colab": {}
      },
      "source": [
        ""
      ],
      "execution_count": null,
      "outputs": []
    }
  ]
}