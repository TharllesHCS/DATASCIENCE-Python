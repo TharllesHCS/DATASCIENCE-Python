{
  "nbformat": 4,
  "nbformat_minor": 0,
  "metadata": {
    "colab": {
      "name": "DataScience_ML_Pandas.ipynb",
      "provenance": [],
      "authorship_tag": "ABX9TyPjAUg52sln8qXypleUccLv",
      "include_colab_link": true
    },
    "kernelspec": {
      "name": "python3",
      "display_name": "Python 3"
    }
  },
  "cells": [
    {
      "cell_type": "markdown",
      "metadata": {
        "id": "view-in-github",
        "colab_type": "text"
      },
      "source": [
        "<a href=\"https://colab.research.google.com/github/TharllesHCS/DATASCIENCE-Python/blob/master/DataScience_ML_Pandas.ipynb\" target=\"_parent\"><img src=\"https://colab.research.google.com/assets/colab-badge.svg\" alt=\"Open In Colab\"/></a>"
      ]
    },
    {
      "cell_type": "code",
      "metadata": {
        "id": "X81K9b5XMzFQ",
        "colab_type": "code",
        "colab": {}
      },
      "source": [
        "\"\"\"\n",
        "\n",
        "Esse notbook possui conteudo exclusivo de Pandas que usado é no mundo de Machine Learn\n",
        "\n",
        "\"\"\"\n",
        "import pandas as pd\n",
        "import numpy as np"
      ],
      "execution_count": null,
      "outputs": []
    },
    {
      "cell_type": "code",
      "metadata": {
        "id": "6FOMWmJQNH4I",
        "colab_type": "code",
        "colab": {
          "base_uri": "https://localhost:8080/",
          "height": 1000
        },
        "outputId": "0877b020-ad53-4c30-8dd0-506bd36c9861"
      },
      "source": [
        "s =pd.Series([1,4,5,6,7,10,6])\n",
        "print(\"Aqui e a primeira lista usando pandas: \\n {}\".format(s))\n",
        "m = pd.Series([[2,3],[4,5],[5,6]])\n",
        "print(\"\\nAqui e a primeira matriz usando pandas: \\n {}\\n\\n\".format(m))\n",
        "\n",
        "\n",
        "print(\"\\n\\nAquie mostra-se o valor da posição 0:\\n{}\".format(s[0]))\n",
        "print(\"\\n\\nAquie mostra-se o valor de 2 a 3:\\n{}\".format(s[2:4]))\n",
        "print(\"\\n\\nAquie mostra-se a descrição da lista (ou matriz) :\\n{}\".format(s.describe()))\n",
        "print(\"\\n\\nAquie mostra-se o valor da media :\\n{}\".format(s.mean()))\n",
        "print(\"\\n\\nAquie mostra-se o valor da mediana :\\n{}\".format(s.median()))\n",
        "\n",
        "print(\"\\n\\nAquie mostra-se se a valor duplicado :\\n{}\".format(s.duplicated()))\n",
        "\n",
        "\n",
        "s2 = pd.Series([11,5,8])\n",
        "print(\"\\n\\nAquie junta-se a lista 1 e a 2 :\\n{}\".format(s.append(s2)))\n",
        "\n",
        "\n"
      ],
      "execution_count": null,
      "outputs": [
        {
          "output_type": "stream",
          "text": [
            "Aqui e a primeira lista usando pandas: \n",
            " 0     1\n",
            "1     4\n",
            "2     5\n",
            "3     6\n",
            "4     7\n",
            "5    10\n",
            "6     6\n",
            "dtype: int64\n",
            "\n",
            "Aqui e a primeira matriz usando pandas: \n",
            " 0    [2, 3]\n",
            "1    [4, 5]\n",
            "2    [5, 6]\n",
            "dtype: object\n",
            "\n",
            "\n",
            "\n",
            "\n",
            "Aquie mostra-se o valor da posição 0:\n",
            "1\n",
            "\n",
            "\n",
            "Aquie mostra-se o valor de 2 a 3:\n",
            "2    5\n",
            "3    6\n",
            "dtype: int64\n",
            "\n",
            "\n",
            "Aquie mostra-se a descrição da lista (ou matriz) :\n",
            "count     7.000000\n",
            "mean      5.571429\n",
            "std       2.760262\n",
            "min       1.000000\n",
            "25%       4.500000\n",
            "50%       6.000000\n",
            "75%       6.500000\n",
            "max      10.000000\n",
            "dtype: float64\n",
            "\n",
            "\n",
            "Aquie mostra-se o valor da media :\n",
            "5.571428571428571\n",
            "\n",
            "\n",
            "Aquie mostra-se o valor da mediana :\n",
            "6.0\n",
            "\n",
            "\n",
            "Aquie mostra-se se a valor duplicado :\n",
            "0    False\n",
            "1    False\n",
            "2    False\n",
            "3    False\n",
            "4    False\n",
            "5    False\n",
            "6     True\n",
            "dtype: bool\n",
            "\n",
            "\n",
            "Aquie junta-se a lista 1 e a 2 :\n",
            "0     1\n",
            "1     4\n",
            "2     5\n",
            "3     6\n",
            "4     7\n",
            "5    10\n",
            "6     6\n",
            "0    11\n",
            "1     5\n",
            "2     8\n",
            "dtype: int64\n"
          ],
          "name": "stdout"
        }
      ]
    },
    {
      "cell_type": "code",
      "metadata": {
        "id": "IbWdW8URPahT",
        "colab_type": "code",
        "colab": {
          "base_uri": "https://localhost:8080/",
          "height": 34
        },
        "outputId": "3be4534e-759b-4554-c52a-0f328c60cfef"
      },
      "source": [
        "\"\"\"\n",
        "\n",
        "Trabalhando como dataframes no Python \n",
        "Vale lembrar, que dataframe é algo utilizado no R, com a lib pandas\n",
        "foi feito a adaptação pra que possa ser utilizado da mesma forma no\n",
        "python, dataframe nada mais é do que uma matriz ou lista\n",
        "\n",
        "\"\"\"\n",
        "df= pd.DataFrame(\n",
        "    [['fcholle/keras',11302],['openl/universe', 4350],['pandas-dev/pandas',8168]]\n",
        ")\n",
        "\n",
        "df.shape"
      ],
      "execution_count": null,
      "outputs": [
        {
          "output_type": "execute_result",
          "data": {
            "text/plain": [
              "(3, 2)"
            ]
          },
          "metadata": {
            "tags": []
          },
          "execution_count": 21
        }
      ]
    },
    {
      "cell_type": "code",
      "metadata": {
        "id": "5Hsq-VoWQ03S",
        "colab_type": "code",
        "colab": {
          "base_uri": "https://localhost:8080/",
          "height": 142
        },
        "outputId": "d85d43d6-a250-44c7-d0a0-b3d892ad9e20"
      },
      "source": [
        "df"
      ],
      "execution_count": null,
      "outputs": [
        {
          "output_type": "execute_result",
          "data": {
            "text/html": [
              "<div>\n",
              "<style scoped>\n",
              "    .dataframe tbody tr th:only-of-type {\n",
              "        vertical-align: middle;\n",
              "    }\n",
              "\n",
              "    .dataframe tbody tr th {\n",
              "        vertical-align: top;\n",
              "    }\n",
              "\n",
              "    .dataframe thead th {\n",
              "        text-align: right;\n",
              "    }\n",
              "</style>\n",
              "<table border=\"1\" class=\"dataframe\">\n",
              "  <thead>\n",
              "    <tr style=\"text-align: right;\">\n",
              "      <th></th>\n",
              "      <th>0</th>\n",
              "      <th>1</th>\n",
              "    </tr>\n",
              "  </thead>\n",
              "  <tbody>\n",
              "    <tr>\n",
              "      <th>0</th>\n",
              "      <td>fcholle/keras</td>\n",
              "      <td>11302</td>\n",
              "    </tr>\n",
              "    <tr>\n",
              "      <th>1</th>\n",
              "      <td>openl/universe</td>\n",
              "      <td>4350</td>\n",
              "    </tr>\n",
              "    <tr>\n",
              "      <th>2</th>\n",
              "      <td>pandas-dev/pandas</td>\n",
              "      <td>8168</td>\n",
              "    </tr>\n",
              "  </tbody>\n",
              "</table>\n",
              "</div>"
            ],
            "text/plain": [
              "                   0      1\n",
              "0      fcholle/keras  11302\n",
              "1     openl/universe   4350\n",
              "2  pandas-dev/pandas   8168"
            ]
          },
          "metadata": {
            "tags": []
          },
          "execution_count": 22
        }
      ]
    },
    {
      "cell_type": "code",
      "metadata": {
        "id": "i-5jCYGKQ1dB",
        "colab_type": "code",
        "colab": {
          "base_uri": "https://localhost:8080/",
          "height": 142
        },
        "outputId": "6e428259-c34c-490e-b1f1-f46142789639"
      },
      "source": [
        "df= pd.DataFrame(\n",
        "    [['fcholle/keras',11302],['openl/universe', 4350],['pandas-dev/pandas',8168]],\n",
        "    columns=['repository','stars']\n",
        "\n",
        ")\n",
        "df"
      ],
      "execution_count": null,
      "outputs": [
        {
          "output_type": "execute_result",
          "data": {
            "text/html": [
              "<div>\n",
              "<style scoped>\n",
              "    .dataframe tbody tr th:only-of-type {\n",
              "        vertical-align: middle;\n",
              "    }\n",
              "\n",
              "    .dataframe tbody tr th {\n",
              "        vertical-align: top;\n",
              "    }\n",
              "\n",
              "    .dataframe thead th {\n",
              "        text-align: right;\n",
              "    }\n",
              "</style>\n",
              "<table border=\"1\" class=\"dataframe\">\n",
              "  <thead>\n",
              "    <tr style=\"text-align: right;\">\n",
              "      <th></th>\n",
              "      <th>repository</th>\n",
              "      <th>stars</th>\n",
              "    </tr>\n",
              "  </thead>\n",
              "  <tbody>\n",
              "    <tr>\n",
              "      <th>0</th>\n",
              "      <td>fcholle/keras</td>\n",
              "      <td>11302</td>\n",
              "    </tr>\n",
              "    <tr>\n",
              "      <th>1</th>\n",
              "      <td>openl/universe</td>\n",
              "      <td>4350</td>\n",
              "    </tr>\n",
              "    <tr>\n",
              "      <th>2</th>\n",
              "      <td>pandas-dev/pandas</td>\n",
              "      <td>8168</td>\n",
              "    </tr>\n",
              "  </tbody>\n",
              "</table>\n",
              "</div>"
            ],
            "text/plain": [
              "          repository  stars\n",
              "0      fcholle/keras  11302\n",
              "1     openl/universe   4350\n",
              "2  pandas-dev/pandas   8168"
            ]
          },
          "metadata": {
            "tags": []
          },
          "execution_count": 24
        }
      ]
    },
    {
      "cell_type": "code",
      "metadata": {
        "id": "1K7_PRBCRHuK",
        "colab_type": "code",
        "colab": {
          "base_uri": "https://localhost:8080/",
          "height": 85
        },
        "outputId": "c507f0ed-d85f-460d-8f5e-78e641f82fae"
      },
      "source": [
        "df['stars']"
      ],
      "execution_count": null,
      "outputs": [
        {
          "output_type": "execute_result",
          "data": {
            "text/plain": [
              "0    11302\n",
              "1     4350\n",
              "2     8168\n",
              "Name: stars, dtype: int64"
            ]
          },
          "metadata": {
            "tags": []
          },
          "execution_count": 30
        }
      ]
    },
    {
      "cell_type": "code",
      "metadata": {
        "id": "5i4OaT3uRVWT",
        "colab_type": "code",
        "colab": {
          "base_uri": "https://localhost:8080/",
          "height": 85
        },
        "outputId": "8fa33c1c-7a68-4635-8fb2-8615a32db952"
      },
      "source": [
        "df['repository']"
      ],
      "execution_count": null,
      "outputs": [
        {
          "output_type": "execute_result",
          "data": {
            "text/plain": [
              "0        fcholle/keras\n",
              "1       openl/universe\n",
              "2    pandas-dev/pandas\n",
              "Name: repository, dtype: object"
            ]
          },
          "metadata": {
            "tags": []
          },
          "execution_count": 32
        }
      ]
    },
    {
      "cell_type": "code",
      "metadata": {
        "id": "zEUs5ilhRYqX",
        "colab_type": "code",
        "colab": {
          "base_uri": "https://localhost:8080/",
          "height": 34
        },
        "outputId": "65bda7e9-27d8-4b83-f4f0-49215fb8f5b2"
      },
      "source": [
        "df['stars'].mean()\n",
        "## Media da coluna Stars"
      ],
      "execution_count": null,
      "outputs": [
        {
          "output_type": "execute_result",
          "data": {
            "text/plain": [
              "7940.0"
            ]
          },
          "metadata": {
            "tags": []
          },
          "execution_count": 36
        }
      ]
    },
    {
      "cell_type": "code",
      "metadata": {
        "id": "V0kmmr9oRg1V",
        "colab_type": "code",
        "colab": {
          "base_uri": "https://localhost:8080/",
          "height": 34
        },
        "outputId": "5e2b7eff-4806-4ea3-eb87-de4d10709f05"
      },
      "source": [
        "df['stars'].median()\n",
        "#mediana da coluna stars"
      ],
      "execution_count": null,
      "outputs": [
        {
          "output_type": "execute_result",
          "data": {
            "text/plain": [
              "8168.0"
            ]
          },
          "metadata": {
            "tags": []
          },
          "execution_count": 37
        }
      ]
    },
    {
      "cell_type": "code",
      "metadata": {
        "id": "m-0FmuBoRr9x",
        "colab_type": "code",
        "colab": {
          "base_uri": "https://localhost:8080/",
          "height": 68
        },
        "outputId": "eb98b113-14d9-4068-cd68-1d9e20b7d397"
      },
      "source": [
        "df.iloc[1]\n",
        "# iloc traz uma linha travada junto de suas colunas, devolvendo um dataframe\n",
        "# que pode acessar as colunas atraves de seus indices\n",
        "# df.iloc[1]['stars]\n",
        "\n",
        "# df.ix[1]\n",
        "# Retorna o indice do data frame, que pode ser tanto numero quanto str\n",
        "# o indice pode ser alterado, com: df.index = df['Sigla']\n",
        "# no exemplo acima, a coluna index é ajustada ao conteudo de sigla,\n",
        "# tornando necessário deletar a coluna sigla por causa da duplicação da coluna\n",
        "# index e sigla, com: del df['sigla']\n",
        "# iloc retonra posição"
      ],
      "execution_count": null,
      "outputs": [
        {
          "output_type": "execute_result",
          "data": {
            "text/plain": [
              "repository    openl/universe\n",
              "stars                   4350\n",
              "Name: 1, dtype: object"
            ]
          },
          "metadata": {
            "tags": []
          },
          "execution_count": 43
        }
      ]
    },
    {
      "cell_type": "code",
      "metadata": {
        "id": "Lt8h4esxRvt0",
        "colab_type": "code",
        "colab": {
          "base_uri": "https://localhost:8080/",
          "height": 204
        },
        "outputId": "81802192-0922-4048-8b56-c81b7498c79d"
      },
      "source": [
        "## pydataset.data()\n",
        "## retorna um conjunto de datasets para brincar, rsrs\n",
        "#!pip install pydataset - windows\n",
        "#!get install pydata - linux\n",
        "import pydataset as pydata\n",
        "\n",
        "pydata.data()\n",
        "\n",
        "titanic = pydata.data('titanic')\n",
        "\n",
        "titanic.head()\n"
      ],
      "execution_count": null,
      "outputs": [
        {
          "output_type": "execute_result",
          "data": {
            "text/html": [
              "<div>\n",
              "<style scoped>\n",
              "    .dataframe tbody tr th:only-of-type {\n",
              "        vertical-align: middle;\n",
              "    }\n",
              "\n",
              "    .dataframe tbody tr th {\n",
              "        vertical-align: top;\n",
              "    }\n",
              "\n",
              "    .dataframe thead th {\n",
              "        text-align: right;\n",
              "    }\n",
              "</style>\n",
              "<table border=\"1\" class=\"dataframe\">\n",
              "  <thead>\n",
              "    <tr style=\"text-align: right;\">\n",
              "      <th></th>\n",
              "      <th>class</th>\n",
              "      <th>age</th>\n",
              "      <th>sex</th>\n",
              "      <th>survived</th>\n",
              "    </tr>\n",
              "  </thead>\n",
              "  <tbody>\n",
              "    <tr>\n",
              "      <th>1</th>\n",
              "      <td>1st class</td>\n",
              "      <td>adults</td>\n",
              "      <td>man</td>\n",
              "      <td>yes</td>\n",
              "    </tr>\n",
              "    <tr>\n",
              "      <th>2</th>\n",
              "      <td>1st class</td>\n",
              "      <td>adults</td>\n",
              "      <td>man</td>\n",
              "      <td>yes</td>\n",
              "    </tr>\n",
              "    <tr>\n",
              "      <th>3</th>\n",
              "      <td>1st class</td>\n",
              "      <td>adults</td>\n",
              "      <td>man</td>\n",
              "      <td>yes</td>\n",
              "    </tr>\n",
              "    <tr>\n",
              "      <th>4</th>\n",
              "      <td>1st class</td>\n",
              "      <td>adults</td>\n",
              "      <td>man</td>\n",
              "      <td>yes</td>\n",
              "    </tr>\n",
              "    <tr>\n",
              "      <th>5</th>\n",
              "      <td>1st class</td>\n",
              "      <td>adults</td>\n",
              "      <td>man</td>\n",
              "      <td>yes</td>\n",
              "    </tr>\n",
              "  </tbody>\n",
              "</table>\n",
              "</div>"
            ],
            "text/plain": [
              "       class     age  sex survived\n",
              "1  1st class  adults  man      yes\n",
              "2  1st class  adults  man      yes\n",
              "3  1st class  adults  man      yes\n",
              "4  1st class  adults  man      yes\n",
              "5  1st class  adults  man      yes"
            ]
          },
          "metadata": {
            "tags": []
          },
          "execution_count": 51
        }
      ]
    },
    {
      "cell_type": "code",
      "metadata": {
        "id": "GzC4jQe-XC1n",
        "colab_type": "code",
        "colab": {
          "base_uri": "https://localhost:8080/",
          "height": 204
        },
        "outputId": "c5a8d66f-3323-441c-a39a-aafc0e871d1a"
      },
      "source": [
        "titanic.tail()"
      ],
      "execution_count": null,
      "outputs": [
        {
          "output_type": "execute_result",
          "data": {
            "text/html": [
              "<div>\n",
              "<style scoped>\n",
              "    .dataframe tbody tr th:only-of-type {\n",
              "        vertical-align: middle;\n",
              "    }\n",
              "\n",
              "    .dataframe tbody tr th {\n",
              "        vertical-align: top;\n",
              "    }\n",
              "\n",
              "    .dataframe thead th {\n",
              "        text-align: right;\n",
              "    }\n",
              "</style>\n",
              "<table border=\"1\" class=\"dataframe\">\n",
              "  <thead>\n",
              "    <tr style=\"text-align: right;\">\n",
              "      <th></th>\n",
              "      <th>class</th>\n",
              "      <th>age</th>\n",
              "      <th>sex</th>\n",
              "      <th>survived</th>\n",
              "    </tr>\n",
              "  </thead>\n",
              "  <tbody>\n",
              "    <tr>\n",
              "      <th>1312</th>\n",
              "      <td>3rd class</td>\n",
              "      <td>child</td>\n",
              "      <td>women</td>\n",
              "      <td>no</td>\n",
              "    </tr>\n",
              "    <tr>\n",
              "      <th>1313</th>\n",
              "      <td>3rd class</td>\n",
              "      <td>child</td>\n",
              "      <td>women</td>\n",
              "      <td>no</td>\n",
              "    </tr>\n",
              "    <tr>\n",
              "      <th>1314</th>\n",
              "      <td>3rd class</td>\n",
              "      <td>child</td>\n",
              "      <td>women</td>\n",
              "      <td>no</td>\n",
              "    </tr>\n",
              "    <tr>\n",
              "      <th>1315</th>\n",
              "      <td>3rd class</td>\n",
              "      <td>child</td>\n",
              "      <td>women</td>\n",
              "      <td>no</td>\n",
              "    </tr>\n",
              "    <tr>\n",
              "      <th>1316</th>\n",
              "      <td>3rd class</td>\n",
              "      <td>child</td>\n",
              "      <td>women</td>\n",
              "      <td>no</td>\n",
              "    </tr>\n",
              "  </tbody>\n",
              "</table>\n",
              "</div>"
            ],
            "text/plain": [
              "          class    age    sex survived\n",
              "1312  3rd class  child  women       no\n",
              "1313  3rd class  child  women       no\n",
              "1314  3rd class  child  women       no\n",
              "1315  3rd class  child  women       no\n",
              "1316  3rd class  child  women       no"
            ]
          },
          "metadata": {
            "tags": []
          },
          "execution_count": 53
        }
      ]
    },
    {
      "cell_type": "code",
      "metadata": {
        "id": "qBv183HYXFUC",
        "colab_type": "code",
        "colab": {
          "base_uri": "https://localhost:8080/",
          "height": 173
        },
        "outputId": "d19876f5-c9ac-4326-abc8-3f68376c1575"
      },
      "source": [
        "titanic.describe()"
      ],
      "execution_count": null,
      "outputs": [
        {
          "output_type": "execute_result",
          "data": {
            "text/html": [
              "<div>\n",
              "<style scoped>\n",
              "    .dataframe tbody tr th:only-of-type {\n",
              "        vertical-align: middle;\n",
              "    }\n",
              "\n",
              "    .dataframe tbody tr th {\n",
              "        vertical-align: top;\n",
              "    }\n",
              "\n",
              "    .dataframe thead th {\n",
              "        text-align: right;\n",
              "    }\n",
              "</style>\n",
              "<table border=\"1\" class=\"dataframe\">\n",
              "  <thead>\n",
              "    <tr style=\"text-align: right;\">\n",
              "      <th></th>\n",
              "      <th>class</th>\n",
              "      <th>age</th>\n",
              "      <th>sex</th>\n",
              "      <th>survived</th>\n",
              "    </tr>\n",
              "  </thead>\n",
              "  <tbody>\n",
              "    <tr>\n",
              "      <th>count</th>\n",
              "      <td>1316</td>\n",
              "      <td>1316</td>\n",
              "      <td>1316</td>\n",
              "      <td>1316</td>\n",
              "    </tr>\n",
              "    <tr>\n",
              "      <th>unique</th>\n",
              "      <td>3</td>\n",
              "      <td>2</td>\n",
              "      <td>2</td>\n",
              "      <td>2</td>\n",
              "    </tr>\n",
              "    <tr>\n",
              "      <th>top</th>\n",
              "      <td>3rd class</td>\n",
              "      <td>adults</td>\n",
              "      <td>man</td>\n",
              "      <td>no</td>\n",
              "    </tr>\n",
              "    <tr>\n",
              "      <th>freq</th>\n",
              "      <td>706</td>\n",
              "      <td>1207</td>\n",
              "      <td>869</td>\n",
              "      <td>817</td>\n",
              "    </tr>\n",
              "  </tbody>\n",
              "</table>\n",
              "</div>"
            ],
            "text/plain": [
              "            class     age   sex survived\n",
              "count        1316    1316  1316     1316\n",
              "unique          3       2     2        2\n",
              "top     3rd class  adults   man       no\n",
              "freq          706    1207   869      817"
            ]
          },
          "metadata": {
            "tags": []
          },
          "execution_count": 56
        }
      ]
    },
    {
      "cell_type": "code",
      "metadata": {
        "id": "QNQSBL56XPFj",
        "colab_type": "code",
        "colab": {
          "base_uri": "https://localhost:8080/",
          "height": 85
        },
        "outputId": "14aa5776-90c2-4ed6-85ec-24bff8b49add"
      },
      "source": [
        "titanic['class'].value_counts()\n"
      ],
      "execution_count": null,
      "outputs": [
        {
          "output_type": "execute_result",
          "data": {
            "text/plain": [
              "3rd class    706\n",
              "1st class    325\n",
              "2nd class    285\n",
              "Name: class, dtype: int64"
            ]
          },
          "metadata": {
            "tags": []
          },
          "execution_count": 58
        }
      ]
    },
    {
      "cell_type": "code",
      "metadata": {
        "id": "ITyXNBnoXcmH",
        "colab_type": "code",
        "colab": {}
      },
      "source": [
        "## pydataset.data() possui 757 bancos de dados que podem ser utilizados."
      ],
      "execution_count": null,
      "outputs": []
    },
    {
      "cell_type": "code",
      "metadata": {
        "id": "Vv-ubLTCXl4d",
        "colab_type": "code",
        "colab": {
          "base_uri": "https://localhost:8080/",
          "height": 69
        },
        "outputId": "ccb6cacc-b0cd-4b49-dde9-351742dbc901"
      },
      "source": [
        "\"\"\"\n",
        "Para carregar dataframes com conteudos de bancos de dados, é utilizada a lib\n",
        "db.py, ela possibilita conectar a diversos bancos de diversas tecnologias, já\n",
        "convertendo para dataframe no pandas\n",
        "pip install db\n",
        "get install db\n",
        "\"\"\"\n",
        "#!pip install db.py\n",
        "#!get install db.py"
      ],
      "execution_count": null,
      "outputs": [
        {
          "output_type": "execute_result",
          "data": {
            "application/vnd.google.colaboratory.intrinsic+json": {
              "type": "string"
            },
            "text/plain": [
              "'\\nPara carregar dataframes com conteudos de bancos de dados, é utilizada a lib\\ndb.py, ela possibilita conectar a diversos bancos de diversas tecnologias, já\\nconvertendo para dataframe no pandas\\npip install db\\nget install db\\n'"
            ]
          },
          "metadata": {
            "tags": []
          },
          "execution_count": 64
        }
      ]
    },
    {
      "cell_type": "code",
      "metadata": {
        "id": "FO2EhQaqYJPe",
        "colab_type": "code",
        "colab": {}
      },
      "source": [
        "from db import DB"
      ],
      "execution_count": null,
      "outputs": []
    },
    {
      "cell_type": "code",
      "metadata": {
        "id": "yVMlRN9ZYLU8",
        "colab_type": "code",
        "colab": {
          "base_uri": "https://localhost:8080/",
          "height": 34
        },
        "outputId": "fd0858ed-7083-4996-db1c-b57c4953faf8"
      },
      "source": [
        "database= DB(filename='logs.sqlite3',dbtype='sqlite',)\n",
        "#database.tables\n",
        "#log_df=database.tables.log\n",
        "#log_df banco de dados\n",
        "#log_df = database.tables.log.all() agora é um dataframe\n",
        "# log_df = database.query('select * from log where user_id = 3') usando query no db\n"
      ],
      "execution_count": null,
      "outputs": [
        {
          "output_type": "stream",
          "text": [
            "Indexing schema. This will take a second...finished!\n"
          ],
          "name": "stderr"
        }
      ]
    },
    {
      "cell_type": "code",
      "metadata": {
        "id": "-N51skNkYvib",
        "colab_type": "code",
        "colab": {}
      },
      "source": [
        "\"\"\"\n",
        "\n",
        "Carregar CSV no pandar, em forma de DATAFRAME\n",
        "lib pra ler xlrd\n",
        "lib para escrever xlwt\n",
        "!pip install xlrd\n",
        "!pip install xlwt\n",
        "\"\"\"\n",
        "\n",
        "copacabana = pd.read_csv('copacabana.csv', delimiter=';')"
      ],
      "execution_count": null,
      "outputs": []
    },
    {
      "cell_type": "code",
      "metadata": {
        "id": "KsStmPPeaRjr",
        "colab_type": "code",
        "colab": {}
      },
      "source": [
        "\"\"\"\n",
        "\n",
        "Carregar Excel no pandar, em forma de DATAFRAME\n",
        "\n",
        "\"\"\"\n",
        "\n",
        "#pd_excel = pd.read_excel('arquivo.xls')\n"
      ],
      "execution_count": null,
      "outputs": []
    },
    {
      "cell_type": "code",
      "metadata": {
        "id": "TRbi63eraiOM",
        "colab_type": "code",
        "colab": {
          "base_uri": "https://localhost:8080/",
          "height": 85
        },
        "outputId": "1c2c892e-4564-47f1-d5d9-a81e79a367af"
      },
      "source": [
        "copacabana.columns\n",
        "#ver as colunas do dataframe"
      ],
      "execution_count": null,
      "outputs": [
        {
          "output_type": "execute_result",
          "data": {
            "text/plain": [
              "Index(['Posicao', 'Quartos', 'Vagas', 'DistIpanema', 'DistPraia', 'DistFavela',\n",
              "       'RendaMedia', 'RendaMovel', 'RendaMovelRua', 'Vu2009', 'Mes', 'Idade',\n",
              "       'Tipologia', 'AreaConstruida', 'VAL_UNIT', 'X', 'Y'],\n",
              "      dtype='object')"
            ]
          },
          "metadata": {
            "tags": []
          },
          "execution_count": 83
        }
      ]
    },
    {
      "cell_type": "code",
      "metadata": {
        "id": "LJ6b7QtTwm2o",
        "colab_type": "code",
        "colab": {
          "base_uri": "https://localhost:8080/",
          "height": 170
        },
        "outputId": "499967c9-3883-41c3-bd43-d16bfb97981d"
      },
      "source": [
        "copacabana['Quartos'].describe()\n",
        "# ver detalhes contidos dentro de uma coluna \"Quartos\""
      ],
      "execution_count": null,
      "outputs": [
        {
          "output_type": "execute_result",
          "data": {
            "text/plain": [
              "count    1675.000000\n",
              "mean        1.767510\n",
              "std         1.142523\n",
              "min         0.010000\n",
              "25%         1.000000\n",
              "50%         2.000000\n",
              "75%         3.000000\n",
              "max         6.000000\n",
              "Name: Quartos, dtype: float64"
            ]
          },
          "metadata": {
            "tags": []
          },
          "execution_count": 88
        }
      ]
    },
    {
      "cell_type": "code",
      "metadata": {
        "id": "8cG4FcPTxENX",
        "colab_type": "code",
        "colab": {
          "base_uri": "https://localhost:8080/",
          "height": 131
        },
        "outputId": "ec0440ad-aec3-469f-ede6-96e5a1c02796"
      },
      "source": [
        "copacabana.loc[copacabana['Quartos'] == 5]\n",
        "##Realizar filtragem de dados usando Pandas "
      ],
      "execution_count": null,
      "outputs": [
        {
          "output_type": "execute_result",
          "data": {
            "text/html": [
              "<div>\n",
              "<style scoped>\n",
              "    .dataframe tbody tr th:only-of-type {\n",
              "        vertical-align: middle;\n",
              "    }\n",
              "\n",
              "    .dataframe tbody tr th {\n",
              "        vertical-align: top;\n",
              "    }\n",
              "\n",
              "    .dataframe thead th {\n",
              "        text-align: right;\n",
              "    }\n",
              "</style>\n",
              "<table border=\"1\" class=\"dataframe\">\n",
              "  <thead>\n",
              "    <tr style=\"text-align: right;\">\n",
              "      <th></th>\n",
              "      <th>Posicao</th>\n",
              "      <th>Quartos</th>\n",
              "      <th>Vagas</th>\n",
              "      <th>DistIpanema</th>\n",
              "      <th>DistPraia</th>\n",
              "      <th>DistFavela</th>\n",
              "      <th>RendaMedia</th>\n",
              "      <th>RendaMovel</th>\n",
              "      <th>RendaMovelRua</th>\n",
              "      <th>Vu2009</th>\n",
              "      <th>Mes</th>\n",
              "      <th>Idade</th>\n",
              "      <th>Tipologia</th>\n",
              "      <th>AreaConstruida</th>\n",
              "      <th>VAL_UNIT</th>\n",
              "      <th>X</th>\n",
              "      <th>Y</th>\n",
              "    </tr>\n",
              "  </thead>\n",
              "  <tbody>\n",
              "    <tr>\n",
              "      <th>173</th>\n",
              "      <td>1</td>\n",
              "      <td>5.0</td>\n",
              "      <td>0.01</td>\n",
              "      <td>2696</td>\n",
              "      <td>154</td>\n",
              "      <td>712</td>\n",
              "      <td>1083455</td>\n",
              "      <td>649733</td>\n",
              "      <td>866594</td>\n",
              "      <td>2000</td>\n",
              "      <td>425</td>\n",
              "      <td>55.0</td>\n",
              "      <td>1</td>\n",
              "      <td>38</td>\n",
              "      <td>6316</td>\n",
              "      <td>686522.9800</td>\n",
              "      <td>7458989.87</td>\n",
              "    </tr>\n",
              "    <tr>\n",
              "      <th>1521</th>\n",
              "      <td>1</td>\n",
              "      <td>5.0</td>\n",
              "      <td>3.00</td>\n",
              "      <td>3044</td>\n",
              "      <td>31</td>\n",
              "      <td>609</td>\n",
              "      <td>1524600</td>\n",
              "      <td>1168222</td>\n",
              "      <td>1346411</td>\n",
              "      <td>4100</td>\n",
              "      <td>405</td>\n",
              "      <td>34.0</td>\n",
              "      <td>1</td>\n",
              "      <td>430</td>\n",
              "      <td>5000</td>\n",
              "      <td>686965.3201</td>\n",
              "      <td>7459109.71</td>\n",
              "    </tr>\n",
              "  </tbody>\n",
              "</table>\n",
              "</div>"
            ],
            "text/plain": [
              "      Posicao  Quartos  Vagas  ...  VAL_UNIT            X           Y\n",
              "173         1      5.0   0.01  ...      6316  686522.9800  7458989.87\n",
              "1521        1      5.0   3.00  ...      5000  686965.3201  7459109.71\n",
              "\n",
              "[2 rows x 17 columns]"
            ]
          },
          "metadata": {
            "tags": []
          },
          "execution_count": 93
        }
      ]
    },
    {
      "cell_type": "code",
      "metadata": {
        "id": "-mx8N9Bu2Ks9",
        "colab_type": "code",
        "colab": {
          "base_uri": "https://localhost:8080/",
          "height": 221
        },
        "outputId": "bb5f9fe8-c351-4170-8cfe-c77dc04e7a77"
      },
      "source": [
        "copacabana['total']= copacabana['AreaConstruida'] * copacabana['VAL_UNIT']\n",
        "copacabana['total']\n",
        "#multiplicação de colunas"
      ],
      "execution_count": 96,
      "outputs": [
        {
          "output_type": "execute_result",
          "data": {
            "text/plain": [
              "0       416005\n",
              "1       460009\n",
              "2       720012\n",
              "3       990000\n",
              "4       909976\n",
              "         ...  \n",
              "1670    479940\n",
              "1671    402040\n",
              "1672    600020\n",
              "1673    766705\n",
              "1674    683871\n",
              "Name: total, Length: 1675, dtype: int64"
            ]
          },
          "metadata": {
            "tags": []
          },
          "execution_count": 96
        }
      ]
    },
    {
      "cell_type": "code",
      "metadata": {
        "id": "2l4mn1TES4hM",
        "colab_type": "code",
        "colab": {}
      },
      "source": [
        ""
      ],
      "execution_count": null,
      "outputs": []
    }
  ]
}