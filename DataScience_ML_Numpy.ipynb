{
  "nbformat": 4,
  "nbformat_minor": 0,
  "metadata": {
    "colab": {
      "name": "DataScience_ML_Numpy.ipynb",
      "provenance": [],
      "authorship_tag": "ABX9TyPtBKLWsQj7fvY+EwCKmDc9",
      "include_colab_link": true
    },
    "kernelspec": {
      "name": "python3",
      "display_name": "Python 3"
    }
  },
  "cells": [
    {
      "cell_type": "markdown",
      "metadata": {
        "id": "view-in-github",
        "colab_type": "text"
      },
      "source": [
        "<a href=\"https://colab.research.google.com/github/TharllesHCS/DATASCIENCE-Python/blob/master/DataScience_ML_Numpy.ipynb\" target=\"_parent\"><img src=\"https://colab.research.google.com/assets/colab-badge.svg\" alt=\"Open In Colab\"/></a>"
      ]
    },
    {
      "cell_type": "code",
      "metadata": {
        "id": "S-XfTNypqAm-",
        "colab_type": "code",
        "colab": {}
      },
      "source": [
        "import numpy  as np\n"
      ],
      "execution_count": 3,
      "outputs": []
    },
    {
      "cell_type": "code",
      "metadata": {
        "id": "tKmKNpYSqm5L",
        "colab_type": "code",
        "colab": {
          "base_uri": "https://localhost:8080/",
          "height": 85
        },
        "outputId": "e1126b56-fbbd-408e-90e2-a42ce683aa64"
      },
      "source": [
        "\"\"\"\"\n",
        "Criando Lista e matriz utilizando Numpy\n",
        "\"\"\"\n",
        "list1 = [20,30,40,15]\n",
        "list2 = [100,24,48,23]\n",
        "list3 = [92,22,34,12]\n",
        "list4 = [12,34,12,43]\n",
        "pontos = np.array([list1,list2,list3,list4])\n",
        "pontos"
      ],
      "execution_count": 8,
      "outputs": [
        {
          "output_type": "execute_result",
          "data": {
            "text/plain": [
              "array([[ 20,  30,  40,  15],\n",
              "       [100,  24,  48,  23],\n",
              "       [ 92,  22,  34,  12],\n",
              "       [ 12,  34,  12,  43]])"
            ]
          },
          "metadata": {
            "tags": []
          },
          "execution_count": 8
        }
      ]
    },
    {
      "cell_type": "code",
      "metadata": {
        "id": "Cy595741reBA",
        "colab_type": "code",
        "colab": {
          "base_uri": "https://localhost:8080/",
          "height": 34
        },
        "outputId": "fc33c7d8-d467-47be-96f9-fbd2477bad3b"
      },
      "source": [
        "#Consultando uma linha da Matriz\n",
        "pontos[0]"
      ],
      "execution_count": 10,
      "outputs": [
        {
          "output_type": "execute_result",
          "data": {
            "text/plain": [
              "array([20, 30, 40, 15])"
            ]
          },
          "metadata": {
            "tags": []
          },
          "execution_count": 10
        }
      ]
    },
    {
      "cell_type": "code",
      "metadata": {
        "id": "_Bgq99iIrneY",
        "colab_type": "code",
        "colab": {
          "base_uri": "https://localhost:8080/",
          "height": 34
        },
        "outputId": "0857af39-23d5-4bc7-cadb-7312b2ef18b9"
      },
      "source": [
        "#Consultando outra linha\n",
        "pontos[1]"
      ],
      "execution_count": 12,
      "outputs": [
        {
          "output_type": "execute_result",
          "data": {
            "text/plain": [
              "array([100,  24,  48,  23])"
            ]
          },
          "metadata": {
            "tags": []
          },
          "execution_count": 12
        }
      ]
    },
    {
      "cell_type": "code",
      "metadata": {
        "id": "flk7VHGHruqd",
        "colab_type": "code",
        "colab": {
          "base_uri": "https://localhost:8080/",
          "height": 153
        },
        "outputId": "86632485-7817-40c1-fc97-ee0f07c0acb3"
      },
      "source": [
        "#criando array de 0 a 20\n",
        "random_data = np.arange(0,20)\n",
        "print(\"Random array: \\n {}\".format(random_data))\n",
        "#transformar array em matriz\n",
        "random_matriz = np.reshape(random_data, (5,4))\n",
        "#Reshape precisa de uma tupla para dizer o a dimensão da matriz, \n",
        "#no caso 5 linhas 4 colunas\n",
        "print(\"Random Matriz: \\n {}\".format(random_matriz))"
      ],
      "execution_count": 19,
      "outputs": [
        {
          "output_type": "stream",
          "text": [
            "Random array: \n",
            " [ 0  1  2  3  4  5  6  7  8  9 10 11 12 13 14 15 16 17 18 19]\n",
            "Random Matriz: \n",
            " [[ 0  1  2  3]\n",
            " [ 4  5  6  7]\n",
            " [ 8  9 10 11]\n",
            " [12 13 14 15]\n",
            " [16 17 18 19]]\n"
          ],
          "name": "stdout"
        }
      ]
    },
    {
      "cell_type": "code",
      "metadata": {
        "id": "be92a5UKsuMQ",
        "colab_type": "code",
        "colab": {
          "base_uri": "https://localhost:8080/",
          "height": 119
        },
        "outputId": "870a54de-f7cb-4c66-f22d-0dfa95203dab"
      },
      "source": [
        "\"\"\"\n",
        "Operação com Matrizes usando NumPy\n",
        "\"\"\"\n",
        "m1= np.array([[1,2,3],[4,5,6]])\n",
        "m2 = np.array([[7,8,9],[10,11,12]])\n",
        "print(\"matriz 1:\\n {} \\nmatriz 2: \\n {}\".format(m1,m2))"
      ],
      "execution_count": 22,
      "outputs": [
        {
          "output_type": "stream",
          "text": [
            "matriz 1:\n",
            " [[1 2 3]\n",
            " [4 5 6]] \n",
            "matriz 2: \n",
            " [[ 7  8  9]\n",
            " [10 11 12]]\n"
          ],
          "name": "stdout"
        }
      ]
    },
    {
      "cell_type": "code",
      "metadata": {
        "id": "-7JSwFNCtk3j",
        "colab_type": "code",
        "colab": {
          "base_uri": "https://localhost:8080/",
          "height": 68
        },
        "outputId": "2beeb9f4-1cbe-49d2-8810-df2721fb3331"
      },
      "source": [
        "print(\"Divisão de matriz: \\n {}\".format(m2/m1))"
      ],
      "execution_count": 24,
      "outputs": [
        {
          "output_type": "stream",
          "text": [
            "Divisão de matriz: \n",
            " [[7.  4.  3. ]\n",
            " [2.5 2.2 2. ]]\n"
          ],
          "name": "stdout"
        }
      ]
    },
    {
      "cell_type": "code",
      "metadata": {
        "id": "hrvN0NVltyIS",
        "colab_type": "code",
        "colab": {
          "base_uri": "https://localhost:8080/",
          "height": 68
        },
        "outputId": "52e2a25a-f2fc-476d-d049-ce6a0e485167"
      },
      "source": [
        "print(\"Divisão arrendondada de matriz: \\n{}\".format(np.matrix.round(m2/m1)))"
      ],
      "execution_count": 27,
      "outputs": [
        {
          "output_type": "stream",
          "text": [
            "Divisão arrendondada de matriz: \n",
            "[[7. 4. 3.]\n",
            " [2. 2. 2.]]\n"
          ],
          "name": "stdout"
        }
      ]
    },
    {
      "cell_type": "code",
      "metadata": {
        "id": "3vVwRoGHuAxZ",
        "colab_type": "code",
        "colab": {
          "base_uri": "https://localhost:8080/",
          "height": 68
        },
        "outputId": "5409e7f3-f030-428d-a27b-b41db7f3e9fd"
      },
      "source": [
        "print(\"Multiplicação de inteiro por matriz:\\n{}\".format(10*m2))"
      ],
      "execution_count": 28,
      "outputs": [
        {
          "output_type": "stream",
          "text": [
            "Multiplicação de inteiro por matriz:\n",
            "[[ 70  80  90]\n",
            " [100 110 120]]\n"
          ],
          "name": "stdout"
        }
      ]
    },
    {
      "cell_type": "code",
      "metadata": {
        "id": "cMXMzftsuKY-",
        "colab_type": "code",
        "colab": {
          "base_uri": "https://localhost:8080/",
          "height": 68
        },
        "outputId": "69619319-7823-41c2-fca9-2e59b93ce65b"
      },
      "source": [
        "print(\"Somando inteiro a uma matriz:\\n{}\".format(m1+5))"
      ],
      "execution_count": 29,
      "outputs": [
        {
          "output_type": "stream",
          "text": [
            "Somando inteiro a uma matriz:\n",
            "[[ 6  7  8]\n",
            " [ 9 10 11]]\n"
          ],
          "name": "stdout"
        }
      ]
    },
    {
      "cell_type": "code",
      "metadata": {
        "id": "i_HGu2ETuRCk",
        "colab_type": "code",
        "colab": {
          "base_uri": "https://localhost:8080/",
          "height": 68
        },
        "outputId": "46125f10-c3c2-4e21-df18-53e8939a3366"
      },
      "source": [
        "print(\"Subraindo inteiro de uma matriz\\n{}\".format(m2-1))"
      ],
      "execution_count": 30,
      "outputs": [
        {
          "output_type": "stream",
          "text": [
            "Subraindo inteiro de uma matriz\n",
            "[[ 6  7  8]\n",
            " [ 9 10 11]]\n"
          ],
          "name": "stdout"
        }
      ]
    },
    {
      "cell_type": "code",
      "metadata": {
        "id": "u_8d17MLub6n",
        "colab_type": "code",
        "colab": {
          "base_uri": "https://localhost:8080/",
          "height": 119
        },
        "outputId": "0e0ffa87-7c19-478d-a4d1-e0d4344f8c57"
      },
      "source": [
        "print(\"Multiplicação de matriz com matriz:\\n{}\\nMatriz elevado a 2:\\n{}\".format(m1*m2,m1**2))"
      ],
      "execution_count": 34,
      "outputs": [
        {
          "output_type": "stream",
          "text": [
            "Multiplicação de matriz com matriz:\n",
            "[[ 7 16 27]\n",
            " [40 55 72]]\n",
            "Matriz elevado a 2:\n",
            "[[ 1  4  9]\n",
            " [16 25 36]]\n"
          ],
          "name": "stdout"
        }
      ]
    },
    {
      "cell_type": "code",
      "metadata": {
        "id": "hP74erBUu2ow",
        "colab_type": "code",
        "colab": {}
      },
      "source": [
        "\"\"\"\n",
        "Agora visualização de dados utilizando NumPy e MatplotLib\n",
        "\n",
        "\"\"\"\n",
        "import matplotlib.pyplot as plt\n",
        "%matplotlib inline"
      ],
      "execution_count": 42,
      "outputs": []
    },
    {
      "cell_type": "code",
      "metadata": {
        "id": "3SVDHpnQvBAJ",
        "colab_type": "code",
        "colab": {
          "base_uri": "https://localhost:8080/",
          "height": 282
        },
        "outputId": "490ade03-90d1-4987-b9de-da835825b5e9"
      },
      "source": [
        "salario = np.array([100,200,300,500,400,150])\n",
        "plt.plot(salario, c = 'black', ls = '--',marker = 's', ms='8')\n",
        "##plt plot, array, cor, tipo de linha, marcador, tamanho marcador."
      ],
      "execution_count": 48,
      "outputs": [
        {
          "output_type": "execute_result",
          "data": {
            "text/plain": [
              "[<matplotlib.lines.Line2D at 0x7f4cf48a6898>]"
            ]
          },
          "metadata": {
            "tags": []
          },
          "execution_count": 48
        },
        {
          "output_type": "display_data",
          "data": {
            "image/png": "[encoded data removed]",
            "text/plain": [
              "<Figure size 432x288 with 1 Axes>"
            ]
          },
          "metadata": {
            "tags": [],
            "needs_background": "light"
          }
        }
      ]
    },
    {
      "cell_type": "code",
      "metadata": {
        "id": "8mgN9o_NwaaQ",
        "colab_type": "code",
        "colab": {
          "base_uri": "https://localhost:8080/",
          "height": 282
        },
        "outputId": "8fbc8529-97b8-419d-a581-6e30fe0ab76d"
      },
      "source": [
        "salarios_1= np.array([100,200,300,400])\n",
        "salarios_2 = np.array([50,300,500,450])\n",
        "salarios_3 = np.array([40,100,600,345])\n",
        "\n",
        "###plotando varias linhas ao mesmo tempo\n",
        "plt.plot(salarios_1,c='black', ls='--',marker='s',ms='7',label='Salario 1')\n",
        "plt.plot(salarios_2,c='red', ls='--',marker='^',ms='8',label='Salario 2')\n",
        "plt.plot(salarios_3,c='yellow', ls='--',marker='o',ms='8',label='Salario 3')\n",
        "plt.legend(loc='upper left')\n",
        "plt.show"
      ],
      "execution_count": 57,
      "outputs": [
        {
          "output_type": "execute_result",
          "data": {
            "text/plain": [
              "<function matplotlib.pyplot.show>"
            ]
          },
          "metadata": {
            "tags": []
          },
          "execution_count": 57
        },
        {
          "output_type": "display_data",
          "data": {
            "image/png": "[encoded data removed]",
            "text/plain": [
              "<Figure size 432x288 with 1 Axes>"
            ]
          },
          "metadata": {
            "tags": [],
            "needs_background": "light"
          }
        }
      ]
    },
    {
      "cell_type": "code",
      "metadata": {
        "id": "5jFquLXYx28n",
        "colab_type": "code",
        "colab": {
          "base_uri": "https://localhost:8080/",
          "height": 34
        },
        "outputId": "c2128b5d-f3a5-4162-cfa9-5a8b164696bb"
      },
      "source": [
        "\"\"\"\n",
        "Manipulando arrays usando NumPy, sabendo que eles possuem mais operações que os arrays defoult do python\n",
        "\"\"\"\n",
        "arr1 = np.array([1,2,3])\n",
        "print(arr1)"
      ],
      "execution_count": 60,
      "outputs": [
        {
          "output_type": "stream",
          "text": [
            "[1 2 3]\n"
          ],
          "name": "stdout"
        }
      ]
    },
    {
      "cell_type": "code",
      "metadata": {
        "id": "9wJmfiakyLSI",
        "colab_type": "code",
        "colab": {
          "base_uri": "https://localhost:8080/",
          "height": 34
        },
        "outputId": "41b6e10f-7c8d-4252-ba75-f6aec720cc16"
      },
      "source": [
        "np.insert(arr1,1,10)\n",
        "## cria-se um novo array, com o valor atribuido e o mesmo e retornado a variavel antiga.\n",
        "## o primeiro argumento determina a possição que sera incluido o valor novo"
      ],
      "execution_count": 62,
      "outputs": [
        {
          "output_type": "execute_result",
          "data": {
            "text/plain": [
              "array([ 1, 10,  2,  3])"
            ]
          },
          "metadata": {
            "tags": []
          },
          "execution_count": 62
        }
      ]
    },
    {
      "cell_type": "code",
      "metadata": {
        "id": "0JJLqr31yeHS",
        "colab_type": "code",
        "colab": {
          "base_uri": "https://localhost:8080/",
          "height": 68
        },
        "outputId": "e7bf8713-42f9-4da3-fdee-fcd14f695290"
      },
      "source": [
        "a = np.array([[1,2],[3,4]])\n",
        "print(a)\n",
        "print(a.ndim)"
      ],
      "execution_count": 67,
      "outputs": [
        {
          "output_type": "stream",
          "text": [
            "[[1 2]\n",
            " [3 4]]\n",
            "2\n"
          ],
          "name": "stdout"
        }
      ]
    },
    {
      "cell_type": "code",
      "metadata": {
        "id": "VUgMpfdQzMVg",
        "colab_type": "code",
        "colab": {
          "base_uri": "https://localhost:8080/",
          "height": 51
        },
        "outputId": "8fb2538c-44b5-49bf-938b-d43e312d3d86"
      },
      "source": [
        "##trabalhando com soma de matriz\n",
        "print(a.sum(axis=0))\n",
        "##primeiro eixo vertical\n",
        "print(a.sum(axis=1))\n",
        "##primeiro eixo horizontal"
      ],
      "execution_count": 70,
      "outputs": [
        {
          "output_type": "stream",
          "text": [
            "[4 6]\n",
            "[3 7]\n"
          ],
          "name": "stdout"
        }
      ]
    },
    {
      "cell_type": "code",
      "metadata": {
        "id": "teeuE5gHz8Z_",
        "colab_type": "code",
        "colab": {
          "base_uri": "https://localhost:8080/",
          "height": 51
        },
        "outputId": "a4a8248a-b96a-40f9-dda2-4c4cad74eabf"
      },
      "source": [
        "np.insert(a,1,5,axis=1)\n",
        "##Na horizontal, a partir da posição 1 de cada linha, insere-se o valor 5"
      ],
      "execution_count": 72,
      "outputs": [
        {
          "output_type": "execute_result",
          "data": {
            "text/plain": [
              "array([[1, 5, 2],\n",
              "       [3, 5, 4]])"
            ]
          },
          "metadata": {
            "tags": []
          },
          "execution_count": 72
        }
      ]
    },
    {
      "cell_type": "code",
      "metadata": {
        "id": "2_sVC1aJ0Jd_",
        "colab_type": "code",
        "colab": {
          "base_uri": "https://localhost:8080/",
          "height": 68
        },
        "outputId": "a79d6e0a-b877-455b-970e-85f6b522d106"
      },
      "source": [
        "np.insert(a,0,5,axis=0)\n",
        "##Na vertical, a partir da posição 0, insere-se o valor em cada coluna"
      ],
      "execution_count": 73,
      "outputs": [
        {
          "output_type": "execute_result",
          "data": {
            "text/plain": [
              "array([[5, 5],\n",
              "       [1, 2],\n",
              "       [3, 4]])"
            ]
          },
          "metadata": {
            "tags": []
          },
          "execution_count": 73
        }
      ]
    },
    {
      "cell_type": "code",
      "metadata": {
        "id": "4_QEbV8w0NqV",
        "colab_type": "code",
        "colab": {
          "base_uri": "https://localhost:8080/",
          "height": 119
        },
        "outputId": "bececc72-df02-499e-b1c2-3908af8567b4"
      },
      "source": [
        "##Utilização do append em arrays do Numpy\n",
        "\n",
        "arr = np.array([1,2,3])\n",
        "print(arr)\n",
        "arrapend= np.append(a,[4,5,6])\n",
        "print(\"array apos o append {}\".format(arrapend))\n",
        "\n",
        "## Utilização do append em matriz\n",
        "\n",
        "matriz = np.append(a,[[5,6]],axis=0)\n",
        "print(\"usando o append pra converter um array em matriz, apos inserir 5,6:\\n{}\".format(matriz))"
      ],
      "execution_count": 83,
      "outputs": [
        {
          "output_type": "stream",
          "text": [
            "[1 2 3]\n",
            "array apos o append [1 2 3 4 4 5 6]\n",
            "usando o append pra converter um array em matriz, apos inserir 5,6:\n",
            "[[1 2]\n",
            " [3 4]\n",
            " [5 6]]\n"
          ],
          "name": "stdout"
        }
      ]
    },
    {
      "cell_type": "code",
      "metadata": {
        "id": "A5SZe9fT125z",
        "colab_type": "code",
        "colab": {
          "base_uri": "https://localhost:8080/",
          "height": 68
        },
        "outputId": "b159e3f6-8400-4e5f-abbd-23041c7e1898"
      },
      "source": [
        "## Deletendo numero do array\n",
        "\n",
        "a = np.array([[1,2],[3,4],[5,6]])\n",
        "a"
      ],
      "execution_count": 88,
      "outputs": [
        {
          "output_type": "execute_result",
          "data": {
            "text/plain": [
              "array([[1, 2],\n",
              "       [3, 4],\n",
              "       [5, 6]])"
            ]
          },
          "metadata": {
            "tags": []
          },
          "execution_count": 88
        }
      ]
    },
    {
      "cell_type": "code",
      "metadata": {
        "id": "FgtsOfQS2RoS",
        "colab_type": "code",
        "colab": {
          "base_uri": "https://localhost:8080/",
          "height": 51
        },
        "outputId": "0854adc7-c4bd-47d2-f921-fa770774dce9"
      },
      "source": [
        "np.delete(a,1,0)\n",
        "## primeira posição é o array, a segunda e a possição, no caso queremos a segunda, dado que o terceiro é o eixo\n",
        "## então quero deletar a segunda linha, se o eixo fosse 1, seria a segunda coluna"
      ],
      "execution_count": 90,
      "outputs": [
        {
          "output_type": "execute_result",
          "data": {
            "text/plain": [
              "array([[1, 2],\n",
              "       [5, 6]])"
            ]
          },
          "metadata": {
            "tags": []
          },
          "execution_count": 90
        }
      ]
    },
    {
      "cell_type": "code",
      "metadata": {
        "id": "E_ed_x4C2UrR",
        "colab_type": "code",
        "colab": {
          "base_uri": "https://localhost:8080/",
          "height": 68
        },
        "outputId": "3be7b31f-f022-47a5-abb0-aa1aed101e4a"
      },
      "source": [
        "np.delete(a,1,1)"
      ],
      "execution_count": 92,
      "outputs": [
        {
          "output_type": "execute_result",
          "data": {
            "text/plain": [
              "array([[1],\n",
              "       [3],\n",
              "       [5]])"
            ]
          },
          "metadata": {
            "tags": []
          },
          "execution_count": 92
        }
      ]
    },
    {
      "cell_type": "code",
      "metadata": {
        "id": "j9npteGb2rML",
        "colab_type": "code",
        "colab": {
          "base_uri": "https://localhost:8080/",
          "height": 136
        },
        "outputId": "34c0ec3e-5d62-401c-d768-594cdd669821"
      },
      "source": [
        "## possivel deletar atravez de intervalo, usando np.s_[::]\n",
        "\n",
        "\n",
        "a = np.array([[1,2,3],[4,5,6],[7,8,9],[10,11,12]])\n",
        "\n",
        "print(a,\"\\n\")\n",
        "np.delete(a,np.s_[::2],0)"
      ],
      "execution_count": 102,
      "outputs": [
        {
          "output_type": "stream",
          "text": [
            "[[ 1  2  3]\n",
            " [ 4  5  6]\n",
            " [ 7  8  9]\n",
            " [10 11 12]] \n",
            "\n"
          ],
          "name": "stdout"
        },
        {
          "output_type": "execute_result",
          "data": {
            "text/plain": [
              "array([[ 4,  5,  6],\n",
              "       [10, 11, 12]])"
            ]
          },
          "metadata": {
            "tags": []
          },
          "execution_count": 102
        }
      ]
    },
    {
      "cell_type": "code",
      "metadata": {
        "id": "hUaZm_B-3SQe",
        "colab_type": "code",
        "colab": {
          "base_uri": "https://localhost:8080/",
          "height": 187
        },
        "outputId": "93d509ff-f0a6-4d70-c5e2-40006c082094"
      },
      "source": [
        "## Trabalhando com repetições no Numpy\n",
        "\n",
        "\n",
        "a=np.array([[1,2],[3,4]])\n",
        "print(\"Print lista repeat\\n\",np.repeat(a,2))\n",
        "print(\"Print matriz repeat vertical\\n\",np.repeat(a,2,axis=0))\n",
        "print(\"Print matriz repeat horizontal\\n\",np.repeat(a,2,axis=1))"
      ],
      "execution_count": 107,
      "outputs": [
        {
          "output_type": "stream",
          "text": [
            "Print lista repeat\n",
            " [1 1 2 2 3 3 4 4]\n",
            "Print matriz repeat vertical\n",
            " [[1 2]\n",
            " [1 2]\n",
            " [3 4]\n",
            " [3 4]]\n",
            "Print matriz repeat horizontal\n",
            " [[1 1 2 2]\n",
            " [3 3 4 4]]\n"
          ],
          "name": "stdout"
        }
      ]
    },
    {
      "cell_type": "code",
      "metadata": {
        "id": "obt9h49M3_DZ",
        "colab_type": "code",
        "colab": {
          "base_uri": "https://localhost:8080/",
          "height": 34
        },
        "outputId": "0f8dac3c-70eb-44c5-f6fb-e01bcd744452"
      },
      "source": [
        "### Unsando tile no repeat\n",
        "a = np.array([1,2])\n",
        "np.tile(a,2) \n",
        "### o mesmo vale pra matriz, \n",
        "### ele repete apenas o eixo 0, ou seja, a linha."
      ],
      "execution_count": 110,
      "outputs": [
        {
          "output_type": "execute_result",
          "data": {
            "text/plain": [
              "array([1, 2, 1, 2])"
            ]
          },
          "metadata": {
            "tags": []
          },
          "execution_count": 110
        }
      ]
    },
    {
      "cell_type": "code",
      "metadata": {
        "id": "Jx5HEe9b5Cuc",
        "colab_type": "code",
        "colab": {
          "base_uri": "https://localhost:8080/",
          "height": 170
        },
        "outputId": "bcab6266-d9df-4f27-95f1-5481a37b1ca9"
      },
      "source": [
        "\"\"\"\n",
        "Usando metodo Split\n",
        "\"\"\"\n",
        "\n",
        "\n",
        "a = np.array([[1,2,3],[4,5,6]])\n",
        "print(\"matriz original\\n\",a)\n",
        "print(\"Corte na matriz no sentido horizontal:\\n {}\".format(np.array_split(a,2,axis=0)))\n",
        "print(\"Corte na matriz no sentido vertical:\\n {}\".format(np.array_split(a,2,axis=1)))\n",
        "## metodo que corta a matriz, a partir da posição descrita,\n",
        "## e no sentido determinado pelo eixo"
      ],
      "execution_count": 116,
      "outputs": [
        {
          "output_type": "stream",
          "text": [
            "matriz original\n",
            " [[1 2 3]\n",
            " [4 5 6]]\n",
            "Corte na matriz no sentido horizontal:\n",
            " [array([[1, 2, 3]]), array([[4, 5, 6]])]\n",
            "Corte na matriz no sentido vertical:\n",
            " [array([[1, 2],\n",
            "       [4, 5]]), array([[3],\n",
            "       [6]])]\n"
          ],
          "name": "stdout"
        }
      ]
    },
    {
      "cell_type": "code",
      "metadata": {
        "id": "Ro3nlCND5Kfz",
        "colab_type": "code",
        "colab": {
          "base_uri": "https://localhost:8080/",
          "height": 34
        },
        "outputId": "bf1567ba-3b71-46ce-de2d-9c3a3d187a8d"
      },
      "source": [
        "\"\"\"\n",
        "Criando Matriz de 0 e 1\n",
        "\"\"\"\n",
        "\n",
        "\n",
        "##array\n",
        "np.zeros(4)"
      ],
      "execution_count": 117,
      "outputs": [
        {
          "output_type": "execute_result",
          "data": {
            "text/plain": [
              "array([0., 0., 0., 0.])"
            ]
          },
          "metadata": {
            "tags": []
          },
          "execution_count": 117
        }
      ]
    },
    {
      "cell_type": "code",
      "metadata": {
        "id": "Kc96Vc4L6JOo",
        "colab_type": "code",
        "colab": {
          "base_uri": "https://localhost:8080/",
          "height": 68
        },
        "outputId": "3f8902ac-e697-4d99-c089-016be5e4c042"
      },
      "source": [
        "np.zeros((3,3))\n",
        "## matriz 3x3"
      ],
      "execution_count": 119,
      "outputs": [
        {
          "output_type": "execute_result",
          "data": {
            "text/plain": [
              "array([[0., 0., 0.],\n",
              "       [0., 0., 0.],\n",
              "       [0., 0., 0.]])"
            ]
          },
          "metadata": {
            "tags": []
          },
          "execution_count": 119
        }
      ]
    },
    {
      "cell_type": "code",
      "metadata": {
        "id": "Ty9O_5TP6Q3A",
        "colab_type": "code",
        "colab": {
          "base_uri": "https://localhost:8080/",
          "height": 34
        },
        "outputId": "a006dac1-41dc-47ed-b0ca-762543074ca7"
      },
      "source": [
        "np.ones(5)"
      ],
      "execution_count": 120,
      "outputs": [
        {
          "output_type": "execute_result",
          "data": {
            "text/plain": [
              "array([1., 1., 1., 1., 1.])"
            ]
          },
          "metadata": {
            "tags": []
          },
          "execution_count": 120
        }
      ]
    },
    {
      "cell_type": "code",
      "metadata": {
        "id": "cICd3LOJ6TJu",
        "colab_type": "code",
        "colab": {
          "base_uri": "https://localhost:8080/",
          "height": 102
        },
        "outputId": "2d66ee32-9aa3-434a-897c-5d49f275ee35"
      },
      "source": [
        "np.ones((5,5))"
      ],
      "execution_count": 122,
      "outputs": [
        {
          "output_type": "execute_result",
          "data": {
            "text/plain": [
              "array([[1., 1., 1., 1., 1.],\n",
              "       [1., 1., 1., 1., 1.],\n",
              "       [1., 1., 1., 1., 1.],\n",
              "       [1., 1., 1., 1., 1.],\n",
              "       [1., 1., 1., 1., 1.]])"
            ]
          },
          "metadata": {
            "tags": []
          },
          "execution_count": 122
        }
      ]
    },
    {
      "cell_type": "code",
      "metadata": {
        "id": "rpKUTNWj6WcB",
        "colab_type": "code",
        "colab": {
          "base_uri": "https://localhost:8080/",
          "height": 102
        },
        "outputId": "7850a7fb-961a-47cc-b09e-3bbcdf9feee2"
      },
      "source": [
        "\"\"\"\n",
        "Criando matriz identidade\n",
        "\"\"\"\n",
        "\n",
        "d = np.eye(4)\n",
        "print(\"matriz identidade do valor 4x4\\n:{}\".format(d))\n"
      ],
      "execution_count": 125,
      "outputs": [
        {
          "output_type": "stream",
          "text": [
            "matriz identidade do valor 4x4\n",
            ":[[1. 0. 0. 0.]\n",
            " [0. 1. 0. 0.]\n",
            " [0. 0. 1. 0.]\n",
            " [0. 0. 0. 1.]]\n"
          ],
          "name": "stdout"
        }
      ]
    },
    {
      "cell_type": "code",
      "metadata": {
        "id": "3RL-B2px6qRw",
        "colab_type": "code",
        "colab": {
          "base_uri": "https://localhost:8080/",
          "height": 34
        },
        "outputId": "e7c40d46-ab71-4406-bf57-0f1b7dca55e6"
      },
      "source": [
        "\"\"\"\n",
        "Indexação Boleana com matriz\n",
        "\"\"\"\n",
        "\n",
        "a = np.array([[1,2],[3,4],[5,6]])\n",
        "a[a>3]\n",
        "## Retorna os valores da matriz ou do array que satisfaçam \n",
        "## a expressão entre cochetes"
      ],
      "execution_count": 128,
      "outputs": [
        {
          "output_type": "execute_result",
          "data": {
            "text/plain": [
              "array([4, 5, 6])"
            ]
          },
          "metadata": {
            "tags": []
          },
          "execution_count": 128
        }
      ]
    },
    {
      "cell_type": "code",
      "metadata": {
        "id": "QqueYEpb7Ein",
        "colab_type": "code",
        "colab": {
          "base_uri": "https://localhost:8080/",
          "height": 68
        },
        "outputId": "3a4e86b7-7654-4266-e2e3-47c5ee0c09b7"
      },
      "source": [
        "idx=(a>2)\n",
        "idx\n",
        "## Retorna uma matriz boleana onde a resposta da expressao declarada\n",
        "## a>2"
      ],
      "execution_count": 132,
      "outputs": [
        {
          "output_type": "execute_result",
          "data": {
            "text/plain": [
              "array([[False, False],\n",
              "       [ True,  True],\n",
              "       [ True,  True]])"
            ]
          },
          "metadata": {
            "tags": []
          },
          "execution_count": 132
        }
      ]
    },
    {
      "cell_type": "code",
      "metadata": {
        "id": "1uWEAQul7N0d",
        "colab_type": "code",
        "colab": {
          "base_uri": "https://localhost:8080/",
          "height": 35
        },
        "outputId": "1d9850a2-25ad-4574-f8ca-06d8d3f51fc4"
      },
      "source": [
        "\"\"\"\n",
        "Importando valores de arquivos usando o Numpy\n",
        "\"\"\"\n",
        "\n",
        "#val1,val2,val3 = np.loadtxt('dados.txt',skiprows='1', unpack = True)\n",
        "\n",
        "#my_array = np.genfromtxt('dados.txt', skip_header =1,filling_values=999)"
      ],
      "execution_count": 134,
      "outputs": [
        {
          "output_type": "execute_result",
          "data": {
            "application/vnd.google.colaboratory.intrinsic+json": {
              "type": "string"
            },
            "text/plain": [
              "'\\nImportando valores de arquivos usando o Numpy\\n'"
            ]
          },
          "metadata": {
            "tags": []
          },
          "execution_count": 134
        }
      ]
    },
    {
      "cell_type": "code",
      "metadata": {
        "id": "yiY_21Te-aHp",
        "colab_type": "code",
        "colab": {
          "base_uri": "https://localhost:8080/",
          "height": 170
        },
        "outputId": "daf66b50-daa3-4fe0-a062-a9be368d1e72"
      },
      "source": [
        "\"\"\"\n",
        "Cocatenar matriz\n",
        "\"\"\"\n",
        "a = np.array([[1,2],[3,4]])\n",
        "b = np.array([[5,6]])\n",
        "print(\"B antes da transposta:\\n {}\\n\".format(b))\n",
        "## Na maneira que b foi declarado, é uma matriz 2x1, nossa matriz a é 2x2\n",
        "## Para concatenar horizontalmente funcionaria, mas como vamos tentar verticalmente\n",
        "## precisamos transformar a matriz b em 1X2, ou seja sua transposta\n",
        "b.T\n",
        "print(np.concatenate((a,b),axis=0),\"\\n\")\n",
        "print(np.concatenate((a,b.T),axis=1))"
      ],
      "execution_count": 141,
      "outputs": [
        {
          "output_type": "stream",
          "text": [
            "B antes da transposta:\n",
            " [[5 6]]\n",
            "\n",
            "[[1 2]\n",
            " [3 4]\n",
            " [5 6]] \n",
            "\n",
            "[[1 2 5]\n",
            " [3 4 6]]\n"
          ],
          "name": "stdout"
        }
      ]
    },
    {
      "cell_type": "code",
      "metadata": {
        "id": "DUnhMq05AKC2",
        "colab_type": "code",
        "colab": {
          "base_uri": "https://localhost:8080/",
          "height": 51
        },
        "outputId": "061edf17-5640-4612-f39b-b0c9d23551cb"
      },
      "source": [
        "\"\"\"\n",
        "Embaralhar uma sequencia usando numpy\n",
        "\n",
        "\"\"\"\n",
        "\n",
        "a=np.arange(10)\n",
        "print(a)\n",
        "np.random.shuffle(a)\n",
        "print(a)"
      ],
      "execution_count": 143,
      "outputs": [
        {
          "output_type": "stream",
          "text": [
            "[0 1 2 3 4 5 6 7 8 9]\n",
            "[8 9 4 6 2 0 1 3 5 7]\n"
          ],
          "name": "stdout"
        }
      ]
    },
    {
      "cell_type": "code",
      "metadata": {
        "id": "tnkFKKiAAXE0",
        "colab_type": "code",
        "colab": {
          "base_uri": "https://localhost:8080/",
          "height": 85
        },
        "outputId": "73fb580a-32d5-4ca4-f1fb-0909dff3f86c"
      },
      "source": [
        "\"\"\"\n",
        "\n",
        "Trabalhar com Numeros Complexos no Numpy\n",
        "\n",
        "\"\"\"\n",
        "\n",
        "a = np.array([1,10+2j,20+5j],dtype=complex)\n",
        "print(a[1])\n",
        "print(a[2])\n",
        "print(\"soma complexo 1 mais complexo 2: \\n {}\".format(a[1]+a[2]))"
      ],
      "execution_count": 147,
      "outputs": [
        {
          "output_type": "stream",
          "text": [
            "(10+2j)\n",
            "(20+5j)\n",
            "soma complexo 1 mais complexo 2: \n",
            " (30+7j)\n"
          ],
          "name": "stdout"
        }
      ]
    },
    {
      "cell_type": "code",
      "metadata": {
        "id": "7v6QKSROCPDR",
        "colab_type": "code",
        "colab": {
          "base_uri": "https://localhost:8080/",
          "height": 34
        },
        "outputId": "07712020-4aa4-4a59-a7f6-7dc78f028e6c"
      },
      "source": [
        "### Usando o Linspace\n",
        "\n",
        "np.linspace(2.0,3.0,5)"
      ],
      "execution_count": 149,
      "outputs": [
        {
          "output_type": "execute_result",
          "data": {
            "text/plain": [
              "array([2.  , 2.25, 2.5 , 2.75, 3.  ])"
            ]
          },
          "metadata": {
            "tags": []
          },
          "execution_count": 149
        }
      ]
    },
    {
      "cell_type": "code",
      "metadata": {
        "id": "o8J7wydFCy3J",
        "colab_type": "code",
        "colab": {
          "base_uri": "https://localhost:8080/",
          "height": 102
        },
        "outputId": "6403f52f-ba1a-465c-80d4-001a470e3fb1"
      },
      "source": [
        "## Encontrar elementos que não se repetem em um array usando numpy\n",
        "\n",
        "a=np.array(([[1,1],[2,2],[3,3],[4,4]]))\n",
        "print(a)\n",
        "np.unique(a)"
      ],
      "execution_count": 152,
      "outputs": [
        {
          "output_type": "stream",
          "text": [
            "[[1 1]\n",
            " [2 2]\n",
            " [3 3]\n",
            " [4 4]]\n"
          ],
          "name": "stdout"
        },
        {
          "output_type": "execute_result",
          "data": {
            "text/plain": [
              "array([1, 2, 3, 4])"
            ]
          },
          "metadata": {
            "tags": []
          },
          "execution_count": 152
        }
      ]
    },
    {
      "cell_type": "code",
      "metadata": {
        "id": "atER2JVjDbs5",
        "colab_type": "code",
        "colab": {}
      },
      "source": [
        "\"\"\"\n",
        "Importar CSV com Numpy\n",
        "\"\"\"\n",
        "\n",
        "valores = np.genfromtxt(\"arquivo.csv\", delimiter=\";\", skip_header=1)\n"
      ],
      "execution_count": null,
      "outputs": []
    },
    {
      "cell_type": "code",
      "metadata": {
        "id": "bySw1dVhDwTe",
        "colab_type": "code",
        "colab": {}
      },
      "source": [
        ""
      ],
      "execution_count": null,
      "outputs": []
    },
    {
      "cell_type": "code",
      "metadata": {
        "id": "Ljj4AJBxD6Sl",
        "colab_type": "code",
        "colab": {
          "base_uri": "https://localhost:8080/",
          "height": 258
        },
        "outputId": "e6d23dbd-2b45-441f-9ff9-1bf86b037ce5"
      },
      "source": [
        "### Import data frame\n",
        "\n",
        "## data set import\n",
        "## \n",
        "val1,val2,val3 = np.loadtxt('dados.txt',skiprows=1, unpack =True)\n",
        "\n",
        "print(val1,val2,val3)\n",
        "\n",
        "### Import data set\n",
        "\n",
        "data = np.genfromtxt('iris.data', delimiter=',',usecols=(0,1,2,3))\n",
        "len(data)\n",
        "data[:,0]"
      ],
      "execution_count": 169,
      "outputs": [
        {
          "output_type": "stream",
          "text": [
            "[0.1212 0.104  0.5661 0.762 ] [0.842    0.5422   0.932    0.847361] [0.3672  0.34551 0.2332  0.1538 ]\n"
          ],
          "name": "stdout"
        },
        {
          "output_type": "execute_result",
          "data": {
            "text/plain": [
              "array([5.1, 4.9, 4.7, 4.6, 5. , 5.4, 4.6, 5. , 4.4, 4.9, 5.4, 4.8, 4.8,\n",
              "       4.3, 5.8, 5.7, 5.4, 5.1, 5.7, 5.1, 5.4, 5.1, 4.6, 5.1, 4.8, 5. ,\n",
              "       5. , 5.2, 5.2, 4.7, 4.8, 5.4, 5.2, 5.5, 4.9, 5. , 5.5, 4.9, 4.4,\n",
              "       5.1, 5. , 4.5, 4.4, 5. , 5.1, 4.8, 5.1, 4.6, 5.3, 5. , 7. , 6.4,\n",
              "       6.9, 5.5, 6.5, 5.7, 6.3, 4.9, 6.6, 5.2, 5. , 5.9, 6. , 6.1, 5.6,\n",
              "       6.7, 5.6, 5.8, 6.2, 5.6, 5.9, 6.1, 6.3, 6.1, 6.4, 6.6, 6.8, 6.7,\n",
              "       6. , 5.7, 5.5, 5.5, 5.8, 6. , 5.4, 6. , 6.7, 6.3, 5.6, 5.5, 5.5,\n",
              "       6.1, 5.8, 5. , 5.6, 5.7, 5.7, 6.2, 5.1, 5.7, 6.3, 5.8, 7.1, 6.3,\n",
              "       6.5, 7.6, 4.9, 7.3, 6.7, 7.2, 6.5, 6.4, 6.8, 5.7, 5.8, 6.4, 6.5,\n",
              "       7.7, 7.7, 6. , 6.9, 5.6, 7.7, 6.3, 6.7, 7.2, 6.2, 6.1, 6.4, 7.2,\n",
              "       7.4, 7.9, 6.4, 6.3, 6.1, 7.7, 6.3, 6.4, 6. , 6.9, 6.7, 6.9, 5.8,\n",
              "       6.8, 6.7, 6.7, 6.3, 6.5, 6.2, 5.9])"
            ]
          },
          "metadata": {
            "tags": []
          },
          "execution_count": 169
        }
      ]
    },
    {
      "cell_type": "code",
      "metadata": {
        "id": "rmIUhN_dJ2WH",
        "colab_type": "code",
        "colab": {
          "base_uri": "https://localhost:8080/",
          "height": 85
        },
        "outputId": "abe52416-fc4c-4b41-ac66-9425f80fecf0"
      },
      "source": [
        "data[:50,0]"
      ],
      "execution_count": 170,
      "outputs": [
        {
          "output_type": "execute_result",
          "data": {
            "text/plain": [
              "array([5.1, 4.9, 4.7, 4.6, 5. , 5.4, 4.6, 5. , 4.4, 4.9, 5.4, 4.8, 4.8,\n",
              "       4.3, 5.8, 5.7, 5.4, 5.1, 5.7, 5.1, 5.4, 5.1, 4.6, 5.1, 4.8, 5. ,\n",
              "       5. , 5.2, 5.2, 4.7, 4.8, 5.4, 5.2, 5.5, 4.9, 5. , 5.5, 4.9, 4.4,\n",
              "       5.1, 5. , 4.5, 4.4, 5. , 5.1, 4.8, 5.1, 4.6, 5.3, 5. ])"
            ]
          },
          "metadata": {
            "tags": []
          },
          "execution_count": 170
        }
      ]
    },
    {
      "cell_type": "code",
      "metadata": {
        "id": "AYXLygKLKaHV",
        "colab_type": "code",
        "colab": {
          "base_uri": "https://localhost:8080/",
          "height": 282
        },
        "outputId": "a573aca0-6596-4bcf-8e9a-fa1dec1e5e59"
      },
      "source": [
        "plt.plot(data[:50,0],c='Red',ls=':',marker='s', ms=8)\n",
        "## imprimindo os 50 primeiros valores da primeira coluna"
      ],
      "execution_count": 177,
      "outputs": [
        {
          "output_type": "execute_result",
          "data": {
            "text/plain": [
              "[<matplotlib.lines.Line2D at 0x7f4cf45f3ac8>]"
            ]
          },
          "metadata": {
            "tags": []
          },
          "execution_count": 177
        },
        {
          "output_type": "display_data",
          "data": {
            "image/png": "[encoded data removed]",
            "text/plain": [
              "<Figure size 432x288 with 1 Axes>"
            ]
          },
          "metadata": {
            "tags": [],
            "needs_background": "light"
          }
        }
      ]
    },
    {
      "cell_type": "code",
      "metadata": {
        "id": "Qyo87b-NLNC2",
        "colab_type": "code",
        "colab": {
          "base_uri": "https://localhost:8080/",
          "height": 85
        },
        "outputId": "9ccd01ae-8dc9-4bd7-e217-5f9a3bd00178"
      },
      "source": [
        "## pegando de 50 a 100 da primeira coluna\n",
        "data[50:100,0]"
      ],
      "execution_count": 179,
      "outputs": [
        {
          "output_type": "execute_result",
          "data": {
            "text/plain": [
              "array([7. , 6.4, 6.9, 5.5, 6.5, 5.7, 6.3, 4.9, 6.6, 5.2, 5. , 5.9, 6. ,\n",
              "       6.1, 5.6, 6.7, 5.6, 5.8, 6.2, 5.6, 5.9, 6.1, 6.3, 6.1, 6.4, 6.6,\n",
              "       6.8, 6.7, 6. , 5.7, 5.5, 5.5, 5.8, 6. , 5.4, 6. , 6.7, 6.3, 5.6,\n",
              "       5.5, 5.5, 6.1, 5.8, 5. , 5.6, 5.7, 5.7, 6.2, 5.1, 5.7])"
            ]
          },
          "metadata": {
            "tags": []
          },
          "execution_count": 179
        }
      ]
    },
    {
      "cell_type": "code",
      "metadata": {
        "id": "dzBvbnfNLWFG",
        "colab_type": "code",
        "colab": {
          "base_uri": "https://localhost:8080/",
          "height": 265
        },
        "outputId": "c4dc6bcd-0e4f-4252-fbaf-6dbceeda6165"
      },
      "source": [
        "plt.plot(data[:50,0],c='Red',ls=':',marker='s', ms=8, label= \"seitosa\")\n",
        "plt.plot(data[50:100,0], c='Blue', ls='-',marker ='^', ms=8, label =\" versicolor\")\n",
        "plt.legend(loc='upper right')\n",
        "plt.show()"
      ],
      "execution_count": 189,
      "outputs": [
        {
          "output_type": "display_data",
          "data": {
            "image/png": "[encoded data removed]",
            "text/plain": [
              "<Figure size 432x288 with 1 Axes>"
            ]
          },
          "metadata": {
            "tags": [],
            "needs_background": "light"
          }
        }
      ]
    }
  ]
}